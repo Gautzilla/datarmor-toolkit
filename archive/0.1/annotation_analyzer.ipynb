{
 "cells": [
  {
   "cell_type": "code",
   "execution_count": 23,
   "metadata": {},
   "outputs": [],
   "source": [
    "import os\n",
    "from pathlib import Path\n",
    "import pandas as pd\n",
    "import numpy as np\n",
    "\n",
    "path_osmose_dataset = \"/home/datawork-osmose/dataset/\"\n",
    "path_osmose_home = \"/home/datawork-osmose/\""
   ]
  },
  {
   "cell_type": "code",
   "execution_count": 24,
   "metadata": {},
   "outputs": [],
   "source": [
    "dataset_name = \"CETIROISE_POINT_B_26082022\""
   ]
  },
  {
   "cell_type": "markdown",
   "metadata": {},
   "source": [
    "# Compute the file presence/absence ratio "
   ]
  },
  {
   "cell_type": "code",
   "execution_count": null,
   "metadata": {},
   "outputs": [],
   "source": [
    "annotator_name = \"jbeesa\""
   ]
  },
  {
   "cell_type": "code",
   "execution_count": 25,
   "metadata": {},
   "outputs": [
    {
     "data": {
      "text/plain": [
       "68.9"
      ]
     },
     "execution_count": 25,
     "metadata": {},
     "output_type": "execute_result"
    }
   ],
   "source": [
    "round(\n",
    "    len(\n",
    "        np.unique(\n",
    "            pd.read_csv(\n",
    "                Path(path_osmose_dataset).joinpath(\n",
    "                    dataset_name,\n",
    "                    \"final\",\n",
    "                    \"Annotation_Aplose\",\n",
    "                    dataset_name + \"_results.csv\",\n",
    "                )\n",
    "            )[\"filename\"].values\n",
    "        )\n",
    "    )\n",
    "    / sum(\n",
    "        pd.read_csv(\n",
    "            Path(path_osmose_dataset).joinpath(\n",
    "                dataset_name,\n",
    "                \"final\",\n",
    "                \"Annotation_Aplose\",\n",
    "                dataset_name + \"_task_status.csv\",\n",
    "            )\n",
    "        )[annotator_name].values\n",
    "        == \"FINISHED\"\n",
    "    )\n",
    "    * 100,\n",
    "    1,\n",
    ")"
   ]
  }
 ],
 "metadata": {
  "kernelspec": {
   "display_name": "Python [conda env:osmose]",
   "language": "python",
   "name": "conda-env-osmose-py"
  },
  "language_info": {
   "codemirror_mode": {
    "name": "ipython",
    "version": 3
   },
   "file_extension": ".py",
   "mimetype": "text/x-python",
   "name": "python",
   "nbconvert_exporter": "python",
   "pygments_lexer": "ipython3",
   "version": "3.10.11"
  },
  "vscode": {
   "interpreter": {
    "hash": "038fb172a99c9b7ee7474e984b9ff4962ea47b0ef555bcc216ed798a8387f59b"
   }
  }
 },
 "nbformat": 4,
 "nbformat_minor": 4
}
