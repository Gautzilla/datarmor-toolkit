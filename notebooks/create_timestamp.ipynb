{
 "cells": [
  {
   "cell_type": "code",
   "execution_count": null,
   "metadata": {},
   "outputs": [],
   "source": [
    "from OSmOSE import write_timestamp\n",
    "from OSmOSE.config import OSMOSE_PATH\n",
    "from pathlib import Path\n",
    "\n",
    "dataset_path = Path(\"/home\",\"datawork-osmose\",\"dataset\")"
   ]
  },
  {
   "attachments": {},
   "cell_type": "markdown",
   "metadata": {},
   "source": [
    "## FILL AND RUN CELL"
   ]
  },
  {
   "cell_type": "code",
   "execution_count": null,
   "metadata": {},
   "outputs": [],
   "source": [
    "dataset_name = \"\"\n",
    "date_template = \"\" # Format strftime\n",
    "audio_duration = 0\n",
    "audio_sr = 0"
   ]
  },
  {
   "cell_type": "code",
   "execution_count": null,
   "metadata": {},
   "outputs": [],
   "source": [
    "audio_dir = dataset_path.joinpath(dataset_name, OSMOSE_PATH.raw_audio, f\"{audio_duration}_{audio_sr}\")\n",
    "if audio_dir.joinpath(\"timestamp.csv\").exists():\n",
    "    audio_dir.joinpath(\"timestamp.csv\").unlink()\n",
    "\n",
    "write_timestamp(audio_path = audio_dir, date_template=date_template)"
   ]
  }
 ],
 "metadata": {
  "kernelspec": {
   "display_name": "Python 3",
   "language": "python",
   "name": "python3"
  },
  "language_info": {
   "name": "python",
   "version": "3.11.1 (tags/v3.11.1:a7a450f, Dec  6 2022, 19:58:39) [MSC v.1934 64 bit (AMD64)]"
  },
  "orig_nbformat": 4,
  "vscode": {
   "interpreter": {
    "hash": "bce92c0f8f81cdb158a63a7ee25a0fb0b2c55ab9a708ba2832e2eb9c8e94a3d1"
   }
  }
 },
 "nbformat": 4,
 "nbformat_minor": 2
}
