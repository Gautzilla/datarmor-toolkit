{
 "cells": [
  {
   "cell_type": "markdown",
   "metadata": {},
   "source": [
    "# PREAMBULE\n",
    "\n",
    "### This notebook follows the sames steps than `data_uploader`, however the present one can treat several dataset at a time\n",
    "Before you can upload your dataset:\n",
    "- choose a dataset name (should not contain any special character, including '-'⁾ ;\n",
    "- create the folder `/home/datawork-osmose/dataset/{dataset_name}` (or `home/datawork-osmose/dataset/{campaign_name}/{dataset_name}` in case of a recording campaign);\n",
    "- place in this folder your audio data, they can be individual files or contain within multiple sub-folders ;\n",
    "- if you have any csv files (either a `timestamp.csv` or `*gps*.csv` file) should also be placed in this folder ;\n",
    "\n",
    "**Important notes:**\n",
    "- about timestamps : all timestamps from your original data (from your audio filenames or from your csv files) MUST follow the same timestamp template which should be given in `date_template` ;\n",
    "- about `*gps*.csv` file : this file provides the GPS track (ie latitude and longitude coordinates) of a moving hydrophone. This file must contain the term _gps_ in its filename ;\n",
    "- about auxiliary csv files : they must contain headers with the following standardized names : timestamp , depth , lat , lon"
   ]
  },
  {
   "cell_type": "markdown",
   "metadata": {},
   "source": [
    "#### <span style=\"color:blue\">*JUST RUN CELL*</span>"
   ]
  },
  {
   "cell_type": "code",
   "execution_count": null,
   "metadata": {
    "ExecuteTime": {
     "end_time": "2024-04-09T13:30:29.533189Z",
     "start_time": "2024-04-09T13:30:29.520045Z"
    }
   },
   "outputs": [],
   "source": [
    "import os\n",
    "import sys\n",
    "from pathlib import Path\n",
    "from OSmOSE import Dataset\n",
    "from OSmOSE.utils import *\n",
    "\n",
    "path_osmose_dataset = \"/home/datawork-osmose/dataset/\"\n",
    "path_osmose_home = \"/home/datawork-osmose/\"\n",
    "\n",
    "display_folder_storage_infos(path_osmose_home)"
   ]
  },
  {
   "cell_type": "markdown",
   "metadata": {},
   "source": [
    "#### <span style=\"color:blue\">*JUST RUN CELL*</span>"
   ]
  },
  {
   "cell_type": "code",
   "execution_count": null,
   "metadata": {
    "ExecuteTime": {
     "end_time": "2024-04-09T13:30:31.659701Z",
     "start_time": "2024-04-09T13:30:31.620761Z"
    }
   },
   "outputs": [],
   "source": [
    "list_dataset(path_osmose_dataset, \"APOCADO\")"
   ]
  },
  {
   "cell_type": "markdown",
   "metadata": {},
   "source": [
    "#### <span style=\"color:red\">*FILL & RUN CELL*</span>"
   ]
  },
  {
   "cell_type": "markdown",
   "metadata": {},
   "source": [
    "If your dataset is part of a recording campaign, please provide its name with `campaign_name` ; in that case your dataset should be present in `home/datawork-osmose/dataset/{campaign_name}/{dataset_name}`. Otherwise let the default value `campaign_name = \"\"`."
   ]
  },
  {
   "cell_type": "code",
   "execution_count": null,
   "metadata": {
    "ExecuteTime": {
     "end_time": "2024-04-09T06:53:21.467421Z",
     "start_time": "2024-04-09T06:53:21.463116Z"
    }
   },
   "outputs": [],
   "source": [
    "list_dataset_name = [\n",
    "    \"APOCADO_C1D2_ST336363566\",\n",
    "    \"APOCADO_C1D3_ST335556632\",\n",
    "    \"APOCADO_C8D1_ST7181\",\n",
    "    \"APOCADO_C8D1_ST7191\",\n",
    "    \"APOCADO_C8D2_ST7181\",\n",
    "    \"APOCADO_C8D2_ST7191\",\n",
    "    \"APOCADO_C8D3_ST7181\",\n",
    "    \"APOCADO_C8D3_ST7191\",\n",
    "    \"APOCADO_C8D4_ST7181\",\n",
    "    \"APOCADO_C8D4_ST7191\",\n",
    "    \"APOCADO_C8D5_ST7181\",\n",
    "    \"APOCADO_C8D5_ST7191\",\n",
    "    \"APOCADO_C8D6_ST7181\",\n",
    "    \"APOCADO_C8D6_ST7191\",\n",
    "    \"APOCADO_C8D7_ST7181\",\n",
    "    \"APOCADO_C8D7_ST7191\",\n",
    "    \"APOCADO_C8D8_ST7181\",\n",
    "    \"APOCADO_C8D8_ST7191\",\n",
    "    \"APOCADO_C8D9_ST7181\",\n",
    "    \"APOCADO_C8D9_ST7191\",\n",
    "    \"APOCADO_C8D10_ST7181\",\n",
    "    \"APOCADO_C8D10_ST7191\",\n",
    "    \"APOCADO_C8D11_ST7181\",\n",
    "    \"APOCADO_C8D11_ST7191\",\n",
    "    \"APOCADO_C8D12_ST7181\",\n",
    "    \"APOCADO_C8D12_ST7191\",\n",
    "    \"APOCADO_C8D13_ST7189\",\n",
    "    \"APOCADO_C8D13_ST7190\",\n",
    "    \"APOCADO_C8D14_ST7189\",\n",
    "    \"APOCADO_C8D14_ST7190\",\n",
    "    \"APOCADO_C8D15_ST7189\",\n",
    "    \"APOCADO_C8D15_ST7190\",\n",
    "    \"APOCADO_C9D1_ST7181\",\n",
    "    \"APOCADO_C9D2_ST7181\",\n",
    "    \"APOCADO_C9D3_ST7181\",\n",
    "    \"APOCADO_C9D4_ST7181\",\n",
    "    \"APOCADO_C9D5_ST7191\",\n",
    "    \"APOCADO_C9D6_ST7191\",\n",
    "    \"APOCADO_C9D7_ST7191\",\n",
    "    \"APOCADO_C9D8_ST7191\",\n",
    "    \"APOCADO_C10D1_ST7179\",\n",
    "    \"APOCADO_C10D2_ST7193\",\n",
    "    \"APOCADO_C10D3_ST7179\",\n",
    "    \"APOCADO_C10D4_ST7193\",\n",
    "    \"APOCADO_C10D5_ST7179\",\n",
    "    \"APOCADO_C10D6_ST7193\",\n",
    "    \"APOCADO_C10D7_ST7179\",\n",
    "    \"APOCADO_C10D9_ST7193\",\n",
    "]\n",
    "\n",
    "list_campaign_name = [\"APOCADO\"] * len(list_dataset_name)"
   ]
  },
  {
   "cell_type": "markdown",
   "metadata": {},
   "source": [
    "In case of fixed GPS coordinates, write in the variable `gps` below in decimal degree (latitude , longitude) of your dataset (eg, `gps= (49 , -2)` ). If you have a mobile hydrophone, enter the name of the csv file containing the GPS coordinates, this filename should contain the term _gps_."
   ]
  },
  {
   "cell_type": "code",
   "execution_count": null,
   "metadata": {
    "ExecuteTime": {
     "end_time": "2024-04-09T06:53:22.498452Z",
     "start_time": "2024-04-09T06:53:22.491580Z"
    }
   },
   "outputs": [],
   "source": [
    "list_gps = [\n",
    "    (47.8683333333333, -4.7521),\n",
    "    (47.9349333333333, -4.56256666666667),\n",
    "    (48.2465166666667, -4.60826666666667),\n",
    "    (48.2486333333333, -4.60665),\n",
    "    (48.2497833333333, -4.61031666666667),\n",
    "    (48.2506833333333, -4.60676666666667),\n",
    "    (48.2507, -4.60721666666667),\n",
    "    (48.2524666666667, -4.61021666666667),\n",
    "    (48.2356833333333, -4.5875),\n",
    "    (48.2370333333333, -4.59118333333333),\n",
    "    (48.23505, -4.5887),\n",
    "    (48.2368333333333, -4.59196666666667),\n",
    "    (48.2382333333333, -4.58333333333333),\n",
    "    (48.2401666666667, -4.58583333333333),\n",
    "    (48.2321666666667, -4.57926666666667),\n",
    "    (48.23495, -4.57983333333333),\n",
    "    (48.2337833333333, -4.57628333333333),\n",
    "    (48.2423333333333, -4.57),\n",
    "    (48.23505, -4.57976666666667),\n",
    "    (48.2373166666667, -4.57898333333333),\n",
    "    (48.2321666666667, -4.57926666666667),\n",
    "    (48.23495, -4.57983333333333),\n",
    "    (48.186, -4.572),\n",
    "    (48.1883333333333, -4.57106666666667),\n",
    "    (48.2492833333333, -4.6103),\n",
    "    (48.251, -4.61366666666667),\n",
    "    (48.136, -4.62183333333333),\n",
    "    (48.136, -4.62183333333333),\n",
    "    (48.1615, -4.61966666666667),\n",
    "    (48.1615, -4.61966666666667),\n",
    "    (48.1566666666667, -4.61733333333333),\n",
    "    (48.1566666666667, -4.61733333333333),\n",
    "    (48, -4),\n",
    "    (48, -4),\n",
    "    (48, -4),\n",
    "    (48, -4),\n",
    "    (48, -4),\n",
    "    (48, -4),\n",
    "    (48, -4),\n",
    "    (48, -4),\n",
    "    (47.8528333333333, -4.63366666666667),\n",
    "    (47.8345, -4.64966666666667),\n",
    "    (47.8683333333333, -4.50716666666667),\n",
    "    (47.9298333333333, -4.98166666666667),\n",
    "    (47.8983333333333, -4.7575),\n",
    "    (47.8613333333333, -4.781),\n",
    "    (47.8978333333333, -4.4965),\n",
    "    (47.9215, -4.81116666666667),\n",
    "]"
   ]
  },
  {
   "cell_type": "code",
   "execution_count": null,
   "metadata": {
    "ExecuteTime": {
     "end_time": "2024-04-09T06:54:03.426107Z",
     "start_time": "2024-04-09T06:54:03.422225Z"
    }
   },
   "outputs": [],
   "source": [
    "list_depth = [\n",
    "    30,\n",
    "    30,\n",
    "    22,\n",
    "    22,\n",
    "    20,\n",
    "    20,\n",
    "    15,\n",
    "    15,\n",
    "    25,\n",
    "    25,\n",
    "    25,\n",
    "    25,\n",
    "    20,\n",
    "    20,\n",
    "    18,\n",
    "    18,\n",
    "    18,\n",
    "    18,\n",
    "    20,\n",
    "    20,\n",
    "    22,\n",
    "    22,\n",
    "    25,\n",
    "    25,\n",
    "    18,\n",
    "    18,\n",
    "    40,\n",
    "    40,\n",
    "    35,\n",
    "    35,\n",
    "    38,\n",
    "    38,\n",
    "    0,\n",
    "    0,\n",
    "    0,\n",
    "    0,\n",
    "    0,\n",
    "    0,\n",
    "    0,\n",
    "    0,\n",
    "    40,\n",
    "    40,\n",
    "    40,\n",
    "    40,\n",
    "    40,\n",
    "    40,\n",
    "    40,\n",
    "    40,\n",
    "    40,\n",
    "]"
   ]
  },
  {
   "cell_type": "markdown",
   "metadata": {},
   "source": [
    "Concerning the `timezone` of your data, by default we will consider they are from UTC+00:00. If that is not the case, please use this parameter to inform it, its format MUST follow `\"+02:00\"` for UTC+02:00 for example."
   ]
  },
  {
   "cell_type": "code",
   "execution_count": null,
   "metadata": {
    "ExecuteTime": {
     "end_time": "2024-04-09T07:19:48.537317Z",
     "start_time": "2024-04-09T07:19:48.532578Z"
    }
   },
   "outputs": [],
   "source": [
    "list_timezone = [\n",
    "    \"+02:00\",\n",
    "    \"+02:00\",\n",
    "    \"+02:00\",\n",
    "    \"+02:00\",\n",
    "    \"+02:00\",\n",
    "    \"+02:00\",\n",
    "    \"+02:00\",\n",
    "    \"+02:00\",\n",
    "    \"+02:00\",\n",
    "    \"+02:00\",\n",
    "    \"+02:00\",\n",
    "    \"+02:00\",\n",
    "    \"+02:00\",\n",
    "    \"+02:00\",\n",
    "    \"+02:00\",\n",
    "    \"+02:00\",\n",
    "    \"+02:00\",\n",
    "    \"+02:00\",\n",
    "    \"+02:00\",\n",
    "    \"+02:00\",\n",
    "    \"+02:00\",\n",
    "    \"+02:00\",\n",
    "    \"+02:00\",\n",
    "    \"+02:00\",\n",
    "    \"+02:00\",\n",
    "    \"+02:00\",\n",
    "    \"+02:00\",\n",
    "    \"+02:00\",\n",
    "    \"+02:00\",\n",
    "    \"+02:00\",\n",
    "    \"+02:00\",\n",
    "    \"+02:00\",\n",
    "    \"+01:00\",\n",
    "    \"+01:00\",\n",
    "    \"+01:00\",\n",
    "    \"+01:00\",\n",
    "    \"+01:00\",\n",
    "    \"+01:00\",\n",
    "    \"+01:00\",\n",
    "    \"+01:00\",\n",
    "    \"+01:00\",\n",
    "    \"+01:00\",\n",
    "    \"+01:00\",\n",
    "    \"+01:00\",\n",
    "    \"+01:00\",\n",
    "    \"+01:00\",\n",
    "    \"+01:00\",\n",
    "    \"+01:00\",\n",
    "    \"+01:00\",\n",
    "]"
   ]
  },
  {
   "cell_type": "markdown",
   "metadata": {},
   "source": [
    "The variable `force_upload` allows you to upload your dataset on the platform despite detected anomalies."
   ]
  },
  {
   "cell_type": "code",
   "execution_count": null,
   "metadata": {
    "ExecuteTime": {
     "end_time": "2024-04-09T07:19:59.181039Z",
     "start_time": "2024-04-09T07:19:59.174563Z"
    }
   },
   "outputs": [],
   "source": [
    "force_upload = True\n",
    "date_template = \"%y%m%d%H%M%S\""
   ]
  },
  {
   "cell_type": "code",
   "execution_count": null,
   "metadata": {
    "ExecuteTime": {
     "end_time": "2024-04-09T07:22:14.589897Z",
     "start_time": "2024-04-09T07:20:01.866563Z"
    }
   },
   "outputs": [],
   "source": [
    "for dataset_name, campaign_name, gps, depth, timezone in zip(\n",
    "    list_dataset_name, list_campaign_name, list_gps, list_depth, list_timezone\n",
    "):\n",
    "    print(dataset_name)\n",
    "\n",
    "    dataset = Dataset(\n",
    "        Path(path_osmose_dataset, campaign_name, dataset_name),\n",
    "        gps_coordinates=gps,\n",
    "        depth=depth,\n",
    "        owner_group=\"gosmose\",\n",
    "        local=False,\n",
    "        timezone=timezone,\n",
    "    )\n",
    "\n",
    "    dataset.build(force_upload=force_upload, date_template=date_template)"
   ]
  }
 ],
 "metadata": {
  "kernelspec": {
   "display_name": "Python [conda env:osmose]",
   "language": "python",
   "name": "conda-env-osmose-py"
  },
  "language_info": {
   "codemirror_mode": {
    "name": "ipython",
    "version": 3
   },
   "file_extension": ".py",
   "mimetype": "text/x-python",
   "name": "python",
   "nbconvert_exporter": "python",
   "pygments_lexer": "ipython3",
   "version": "3.10.13"
  },
  "vscode": {
   "interpreter": {
    "hash": "bce92c0f8f81cdb158a63a7ee25a0fb0b2c55ab9a708ba2832e2eb9c8e94a3d1"
   }
  }
 },
 "nbformat": 4,
 "nbformat_minor": 4
}
