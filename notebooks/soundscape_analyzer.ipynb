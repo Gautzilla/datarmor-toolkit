{
 "cells": [
  {
   "cell_type": "markdown",
   "metadata": {},
   "source": [
    "BEFORE USING THIS NOTEBOOK, be aware that:\n",
    "\n",
    "- all soundscape figures computed here will first need a complete generation of your spectrograms (using the notebook `spectrogram_generator`)\n",
    "\n",
    "- all calculations are done in your jupyter hub sessions so be sure to use sufficient computational ressources : we highly recommend to use the Jupyter lab 28CPU-115GB"
   ]
  },
  {
   "cell_type": "code",
   "execution_count": 1,
   "metadata": {},
   "outputs": [],
   "source": [
    "version = \"0.1.0\"\n",
    "import os\n",
    "from pathlib import Path\n",
    "import pandas as pd\n",
    "#os.chdir(Path('/home/datawork-osmose/osmose-datarmor/source'))\n",
    "import subprocess\n",
    "from OSmOSE import Spectrogram, Job_builder, utils\n",
    "from time import sleep\n",
    "from IPython.display import Image\n",
    "\n",
    "path_osmose_dataset = \"/home/datawork-osmose/dataset/\"\n",
    "path_osmose_home = \"/home/datawork-osmose/\"\n",
    "env_name = \"osmose_dev\"\n",
    "\n",
    "jb = Job_builder()"
   ]
  },
  {
   "cell_type": "code",
   "execution_count": 2,
   "metadata": {},
   "outputs": [],
   "source": [
    "dataset_name = 'MPSU_ForestouHuella'"
   ]
  },
  {
   "cell_type": "markdown",
   "metadata": {},
   "source": [
    "Select a set of spectrogram matrices from which soundscape figures will be computed, from the dropdown menu below. Also inform the scaling mode used."
   ]
  },
  {
   "cell_type": "code",
   "execution_count": 3,
   "metadata": {},
   "outputs": [
    {
     "name": "stdout",
     "output_type": "stream",
     "text": [
      "Metadata of MPSU_ForestouHuella :\n",
      "- audio_file_count : 1483 \n",
      "- start_date : 2021-12-04T06:40:00.000Z \n",
      "- end_date : 2022-01-10T23:55:00.000Z \n",
      "- audio_file_origin_duration : 30.0 \n",
      "- dataset_sr : 50000 \n",
      "\n"
     ]
    }
   ],
   "source": [
    "dataset = Spectrogram(dataset_path=Path(path_osmose_dataset, dataset_name), owner_group=\"gosmose\")\n",
    "print(dataset)"
   ]
  },
  {
   "cell_type": "markdown",
   "metadata": {},
   "source": [
    "## Generate sequential LTAS\n",
    "\n",
    "Sequential means that your welch spectra are processed over successive time period of fixed duration defined by the variable `time_scale` in the cell below (eg, this period can be set to one week, such that one soundscape figure will be generated for each successive week).\n",
    "\n",
    "`time_scale` can be set to the following values:\n",
    "- H for hours\n",
    "- D for days \n",
    "- M for months\n",
    "- Y for years\n",
    "\n",
    "Set `time_scale='all'` to generate a LTAS over your entire dataset. \n",
    "\n",
    "`time_resolution` is the time resolution of the LTAS, given in seconds, and needs to correspond to one of the folder inside `processed/welch/`."
   ]
  },
  {
   "cell_type": "code",
   "execution_count": 4,
   "metadata": {},
   "outputs": [
    {
     "name": "stdout",
     "output_type": "stream",
     "text": [
      "Be aware that we applied a window averaging to reduce your LTAS from 5932 welch to 1977 welch\n",
      "saving LTAS_all.png / Nber of welch: 1977\n"
     ]
    },
    {
     "name": "stderr",
     "output_type": "stream",
     "text": [
      "/home/datawork-osmose/osmose_toolkit/src/OSmOSE/Spectrogram.py:1604: UserWarning: Converting to PeriodArray/Index representation will drop timezone information.\n",
      "  date = pd.date_range(start_time,end_time,periods=log_spectro.shape[1]).to_period(label_smoother[time_scale])\n"
     ]
    }
   ],
   "source": [
    "time_resolution = '8'\n",
    "time_scale = 'all'\n",
    "\n",
    "dataset.build_LTAS(time_resolution,time_scale)"
   ]
  }
 ],
 "metadata": {
  "kernelspec": {
   "display_name": "Python [conda env:osmose_dev]",
   "language": "python",
   "name": "conda-env-osmose_dev-py"
  },
  "language_info": {
   "codemirror_mode": {
    "name": "ipython",
    "version": 3
   },
   "file_extension": ".py",
   "mimetype": "text/x-python",
   "name": "python",
   "nbconvert_exporter": "python",
   "pygments_lexer": "ipython3",
   "version": "3.10.9"
  },
  "vscode": {
   "interpreter": {
    "hash": "bce92c0f8f81cdb158a63a7ee25a0fb0b2c55ab9a708ba2832e2eb9c8e94a3d1"
   }
  }
 },
 "nbformat": 4,
 "nbformat_minor": 4
}
