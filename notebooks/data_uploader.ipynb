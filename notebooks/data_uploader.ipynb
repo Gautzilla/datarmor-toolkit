{
 "cells": [
  {
   "cell_type": "markdown",
   "metadata": {},
   "source": [
    "# PREAMBULE\n",
    "\n",
    "Before you can upload your dataset:\n",
    "- adapt `path_osmose_home` which points to OSmOSE working directory ;\n",
    "- choose a dataset name (should not contain any special character, including `-`) ;\n",
    "- create the folder `/home/datawork-osmose/dataset/{dataset_name}` (or `home/datawork-osmose/dataset/{campaign_name}/{dataset_name}` in case of a recording campaign) ;\n",
    "- place in this folder your audio data, it can be individual files or contained within multiple sub-folders ;\n",
    "- if you have any csv files (either a `timestamp.csv` or `*gps*.csv` file) should also be placed in this folder ;\n",
    "\n",
    "**Important notes:**\n",
    "- about timestamps : all timestamps from your original data (from your audio filenames or from your csv files) MUST follow the same timestamp template which should be given in `date_template` ;\n",
    "- about `*gps*.csv` file : this file provides the GPS track (ie latitude and longitude coordinates) of a moving hydrophone. This file must contain the term _gps_ in its filename ;\n",
    "- about auxiliary csv files : they must contain headers with the following standardized names : timestamp , depth , lat , lon"
   ]
  },
  {
   "cell_type": "code",
   "execution_count": 1,
   "metadata": {
    "ExecuteTime": {
     "end_time": "2024-07-24T12:34:13.681411Z",
     "start_time": "2024-07-24T12:33:45.220961Z"
    }
   },
   "outputs": [
    {
     "name": "stdout",
     "output_type": "stream",
     "text": [
      "Total storage space (TB): 40.0\n",
      "Used storage space (TB): 32.8\n",
      "-----------------------\n",
      "Available storage space (TB): 7.2\n"
     ]
    }
   ],
   "source": [
    "# FILL IN RED PARTS !\n",
    "import os\n",
    "from pathlib import Path\n",
    "from OSmOSE import Dataset\n",
    "from OSmOSE.utils import display_folder_storage_info, list_not_built_dataset\n",
    "\n",
    "path_osmose_home = \"/home/datawork-osmose/\"\n",
    "path_osmose_dataset = os.path.join(path_osmose_home, \"dataset\")\n",
    "\n",
    "display_folder_storage_info(path_osmose_home)"
   ]
  },
  {
   "cell_type": "code",
   "execution_count": 2,
   "metadata": {
    "ExecuteTime": {
     "end_time": "2024-07-24T12:34:13.720777Z",
     "start_time": "2024-07-24T12:34:13.684717Z"
    }
   },
   "outputs": [
    {
     "name": "stdout",
     "output_type": "stream",
     "text": [
      "List of the datasets that are not built yet:\n",
      "\n",
      "  - C1_test\n",
      "  - ceti_test_10\n",
      "  - CETIROISE_E1\n"
     ]
    }
   ],
   "source": [
    "# FILL IN RED PARTS !\n",
    "list_not_built_dataset(path_osmose_dataset, \"CETIROISE\")"
   ]
  },
  {
   "cell_type": "markdown",
   "metadata": {},
   "source": [
    "If your dataset is part of a recording campaign, please provide its name with `campaign_name` ; in that case your dataset should be present in `home/datawork-osmose/dataset/{campaign_name}/{dataset_name}`. Otherwise let the default value `campaign_name = \"\"`."
   ]
  },
  {
   "cell_type": "code",
   "execution_count": 10,
   "metadata": {
    "ExecuteTime": {
     "end_time": "2024-07-24T12:35:01.740951Z",
     "start_time": "2024-07-24T12:35:01.738555Z"
    }
   },
   "outputs": [],
   "source": [
    "# FILL IN RED PARTS !\n",
    "dataset_name = \"C1_test\"\n",
    "campaign_name = \"CETIROISE\""
   ]
  },
  {
   "cell_type": "markdown",
   "metadata": {},
   "source": [
    "In case of fixed GPS coordinates, write in the variable `gps` below in decimal degree (latitude , longitude) of your dataset (eg, `gps= (49 , -2)` ). If you have a mobile hydrophone, enter the name of the csv file containing the GPS coordinates, this filename should contain the term _gps_."
   ]
  },
  {
   "cell_type": "code",
   "execution_count": 4,
   "metadata": {
    "ExecuteTime": {
     "end_time": "2024-07-24T12:34:13.793931Z",
     "start_time": "2024-07-24T12:34:13.738777Z"
    }
   },
   "outputs": [],
   "source": [
    "# FILL IN GREEN PARTS !\n",
    "gps = (47, -4)"
   ]
  },
  {
   "cell_type": "code",
   "execution_count": 5,
   "metadata": {
    "ExecuteTime": {
     "end_time": "2024-07-24T12:34:13.837523Z",
     "start_time": "2024-07-24T12:34:13.795510Z"
    }
   },
   "outputs": [],
   "source": [
    "# FILL IN GREEN PARTS !\n",
    "depth = 0"
   ]
  },
  {
   "cell_type": "markdown",
   "metadata": {},
   "source": [
    "Concerning the `timezone` of your data, by default we will consider they are from UTC+00:00. If that is not the case, please use this parameter to inform it, its format MUST follow `\"+02:00\"` for UTC+02:00 for example."
   ]
  },
  {
   "cell_type": "code",
   "execution_count": 6,
   "metadata": {
    "ExecuteTime": {
     "end_time": "2024-07-24T12:34:13.881576Z",
     "start_time": "2024-07-24T12:34:13.839003Z"
    }
   },
   "outputs": [],
   "source": [
    "# FILL IN RED PART !\n",
    "timezone = \"+02:00\""
   ]
  },
  {
   "cell_type": "markdown",
   "metadata": {},
   "source": [
    "The variable `force_upload` allows you to upload your dataset on the platform despite detected anomalies."
   ]
  },
  {
   "cell_type": "code",
   "execution_count": 7,
   "metadata": {
    "ExecuteTime": {
     "end_time": "2024-07-24T12:34:13.933937Z",
     "start_time": "2024-07-24T12:34:13.883039Z"
    }
   },
   "outputs": [],
   "source": [
    "# FILL IN RED PARTS !\n",
    "force_upload = True\n",
    "date_template = \"%Y-%m-%dT%H-%M-%S\""
   ]
  },
  {
   "cell_type": "code",
   "execution_count": 11,
   "metadata": {
    "ExecuteTime": {
     "end_time": "2024-07-24T12:35:04.955536Z",
     "start_time": "2024-07-24T12:35:04.764193Z"
    }
   },
   "outputs": [
    {
     "name": "stdout",
     "output_type": "stream",
     "text": [
      "\n",
      "Setting OSmOSE permission to the dataset...\n",
      "\n",
      "5 audio files found: 5 wav\n"
     ]
    },
    {
     "ename": "ValueError",
     "evalue": "The date template does not match any set of character in the file name /home/datawork-osmose/dataset/CETIROISE/C1_test/data/audio/original/channelA_2022-06-27_21-16-22.wav\nMake sure you are not forgetting separator characters, or use the offset parameter.",
     "output_type": "error",
     "traceback": [
      "\u001b[0;31m---------------------------------------------------------------------------\u001b[0m",
      "\u001b[0;31mTypeError\u001b[0m                                 Traceback (most recent call last)",
      "File \u001b[0;32m/home/datawork-osmose/conda-env/osmose/lib/python3.10/site-packages/OSmOSE/timestamps.py:126\u001b[0m, in \u001b[0;36mwrite_timestamp\u001b[0;34m(audio_path, date_template, timezone, offset, verbose)\u001b[0m\n\u001b[1;32m    125\u001b[0m     \u001b[38;5;28;01melse\u001b[39;00m:\n\u001b[0;32m--> 126\u001b[0m         date_extracted \u001b[38;5;241m=\u001b[39m \u001b[43mre\u001b[49m\u001b[38;5;241;43m.\u001b[39;49m\u001b[43msearch\u001b[49m\u001b[43m(\u001b[49m\u001b[43mconverted\u001b[49m\u001b[43m,\u001b[49m\u001b[43m \u001b[49m\u001b[38;5;28;43mstr\u001b[39;49m\u001b[43m(\u001b[49m\u001b[43mfilename\u001b[49m\u001b[43m)\u001b[49m\u001b[43m)\u001b[49m\u001b[43m[\u001b[49m\u001b[38;5;241;43m0\u001b[39;49m\u001b[43m]\u001b[49m\n\u001b[1;32m    127\u001b[0m \u001b[38;5;28;01mexcept\u001b[39;00m \u001b[38;5;167;01mTypeError\u001b[39;00m:\n",
      "\u001b[0;31mTypeError\u001b[0m: 'NoneType' object is not subscriptable",
      "\nDuring handling of the above exception, another exception occurred:\n",
      "\u001b[0;31mValueError\u001b[0m                                Traceback (most recent call last)",
      "Cell \u001b[0;32mIn[11], line 11\u001b[0m\n\u001b[1;32m      1\u001b[0m \u001b[38;5;66;03m# FILL IN RED and GREEN PARTS !\u001b[39;00m\n\u001b[1;32m      2\u001b[0m dataset \u001b[38;5;241m=\u001b[39m Dataset(\n\u001b[1;32m      3\u001b[0m     Path(path_osmose_dataset, campaign_name, dataset_name),\n\u001b[1;32m      4\u001b[0m     gps_coordinates\u001b[38;5;241m=\u001b[39mgps,\n\u001b[0;32m   (...)\u001b[0m\n\u001b[1;32m      8\u001b[0m     timezone\u001b[38;5;241m=\u001b[39mtimezone,\n\u001b[1;32m      9\u001b[0m )\n\u001b[0;32m---> 11\u001b[0m \u001b[43mdataset\u001b[49m\u001b[38;5;241;43m.\u001b[39;49m\u001b[43mbuild\u001b[49m\u001b[43m(\u001b[49m\u001b[43mforce_upload\u001b[49m\u001b[38;5;241;43m=\u001b[39;49m\u001b[43mforce_upload\u001b[49m\u001b[43m,\u001b[49m\u001b[43m \u001b[49m\u001b[43mdate_template\u001b[49m\u001b[38;5;241;43m=\u001b[39;49m\u001b[43mdate_template\u001b[49m\u001b[43m)\u001b[49m\n",
      "File \u001b[0;32m/home/datawork-osmose/conda-env/osmose/lib/python3.10/site-packages/OSmOSE/Dataset.py:366\u001b[0m, in \u001b[0;36mDataset.build\u001b[0;34m(self, original_folder, owner_group, date_template, bare_check, auto_normalization, force_upload, number_test_bad_files, dico_aux_substring)\u001b[0m\n\u001b[1;32m    364\u001b[0m \u001b[38;5;28;01mif\u001b[39;00m \u001b[38;5;129;01mnot\u001b[39;00m path_timestamp_formatted\u001b[38;5;241m.\u001b[39mexists():\n\u001b[1;32m    365\u001b[0m     user_timestamp \u001b[38;5;241m=\u001b[39m \u001b[38;5;28;01mFalse\u001b[39;00m\n\u001b[0;32m--> 366\u001b[0m     \u001b[43mwrite_timestamp\u001b[49m\u001b[43m(\u001b[49m\n\u001b[1;32m    367\u001b[0m \u001b[43m        \u001b[49m\u001b[43maudio_path\u001b[49m\u001b[38;5;241;43m=\u001b[39;49m\u001b[43mpath_raw_audio\u001b[49m\u001b[43m,\u001b[49m\n\u001b[1;32m    368\u001b[0m \u001b[43m        \u001b[49m\u001b[43mdate_template\u001b[49m\u001b[38;5;241;43m=\u001b[39;49m\u001b[43mdate_template\u001b[49m\u001b[43m,\u001b[49m\n\u001b[1;32m    369\u001b[0m \u001b[43m        \u001b[49m\u001b[43mtimezone\u001b[49m\u001b[38;5;241;43m=\u001b[39;49m\u001b[38;5;28;43mself\u001b[39;49m\u001b[38;5;241;43m.\u001b[39;49m\u001b[43mtimezone\u001b[49m\u001b[43m,\u001b[49m\n\u001b[1;32m    370\u001b[0m \u001b[43m        \u001b[49m\u001b[43mverbose\u001b[49m\u001b[38;5;241;43m=\u001b[39;49m\u001b[38;5;28;43;01mFalse\u001b[39;49;00m\u001b[43m,\u001b[49m\n\u001b[1;32m    371\u001b[0m \u001b[43m    \u001b[49m\u001b[43m)\u001b[49m\n\u001b[1;32m    372\u001b[0m \u001b[38;5;28;01melse\u001b[39;00m:\n\u001b[1;32m    373\u001b[0m     user_timestamp \u001b[38;5;241m=\u001b[39m \u001b[38;5;28;01mTrue\u001b[39;00m\n",
      "File \u001b[0;32m/home/datawork-osmose/conda-env/osmose/lib/python3.10/site-packages/OSmOSE/timestamps.py:128\u001b[0m, in \u001b[0;36mwrite_timestamp\u001b[0;34m(audio_path, date_template, timezone, offset, verbose)\u001b[0m\n\u001b[1;32m    126\u001b[0m         date_extracted \u001b[38;5;241m=\u001b[39m re\u001b[38;5;241m.\u001b[39msearch(converted, \u001b[38;5;28mstr\u001b[39m(filename))[\u001b[38;5;241m0\u001b[39m]\n\u001b[1;32m    127\u001b[0m \u001b[38;5;28;01mexcept\u001b[39;00m \u001b[38;5;167;01mTypeError\u001b[39;00m:\n\u001b[0;32m--> 128\u001b[0m     \u001b[38;5;28;01mraise\u001b[39;00m \u001b[38;5;167;01mValueError\u001b[39;00m(\n\u001b[1;32m    129\u001b[0m         \u001b[38;5;124mf\u001b[39m\u001b[38;5;124m\"\u001b[39m\u001b[38;5;124mThe date template does not match any set of character in the file name \u001b[39m\u001b[38;5;132;01m{\u001b[39;00mfilename\u001b[38;5;132;01m}\u001b[39;00m\u001b[38;5;130;01m\\n\u001b[39;00m\u001b[38;5;124mMake sure you are not forgetting separator characters, or use the offset parameter.\u001b[39m\u001b[38;5;124m\"\u001b[39m\n\u001b[1;32m    130\u001b[0m     )\n\u001b[1;32m    132\u001b[0m date_obj \u001b[38;5;241m=\u001b[39m datetime\u001b[38;5;241m.\u001b[39mdatetime\u001b[38;5;241m.\u001b[39mstrptime(\n\u001b[1;32m    133\u001b[0m     date_extracted \u001b[38;5;241m+\u001b[39m timezone, date_template \u001b[38;5;241m+\u001b[39m \u001b[38;5;124m\"\u001b[39m\u001b[38;5;124m%\u001b[39m\u001b[38;5;124mz\u001b[39m\u001b[38;5;124m\"\u001b[39m\n\u001b[1;32m    134\u001b[0m )\n\u001b[1;32m    135\u001b[0m dates_final \u001b[38;5;241m=\u001b[39m datetime\u001b[38;5;241m.\u001b[39mdatetime\u001b[38;5;241m.\u001b[39mstrftime(date_obj, TIMESTAMP_FORMAT_AUDIO_FILE)\n",
      "\u001b[0;31mValueError\u001b[0m: The date template does not match any set of character in the file name /home/datawork-osmose/dataset/CETIROISE/C1_test/data/audio/original/channelA_2022-06-27_21-16-22.wav\nMake sure you are not forgetting separator characters, or use the offset parameter."
     ]
    }
   ],
   "source": [
    "# FILL IN RED and GREEN PARTS !\n",
    "dataset = Dataset(\n",
    "    Path(path_osmose_dataset, campaign_name, dataset_name),\n",
    "    gps_coordinates=gps,\n",
    "    depth=depth,\n",
    "    owner_group=\"gosmose\",\n",
    "    local=False,\n",
    "    timezone=timezone,\n",
    ")\n",
    "\n",
    "dataset.build(force_upload=force_upload, date_template=date_template)"
   ]
  }
 ],
 "metadata": {
  "kernelspec": {
   "display_name": "Python [conda env:osmose]",
   "language": "python",
   "name": "conda-env-osmose-py"
  },
  "language_info": {
   "codemirror_mode": {
    "name": "ipython",
    "version": 3
   },
   "file_extension": ".py",
   "mimetype": "text/x-python",
   "name": "python",
   "nbconvert_exporter": "python",
   "pygments_lexer": "ipython3",
   "version": "3.10.13"
  },
  "vscode": {
   "interpreter": {
    "hash": "bce92c0f8f81cdb158a63a7ee25a0fb0b2c55ab9a708ba2832e2eb9c8e94a3d1"
   }
  }
 },
 "nbformat": 4,
 "nbformat_minor": 4
}
