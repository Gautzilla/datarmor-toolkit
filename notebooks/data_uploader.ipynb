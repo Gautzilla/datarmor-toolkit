{
 "cells": [
  {
   "cell_type": "markdown",
   "metadata": {},
   "source": [
    "# PREAMBULE\n",
    "\n",
    "Before you can upload your dataset:\n",
    "- adapt `path_osmose_home` which points to OSmOSE working directory ;\n",
    "- choose a dataset name (should not contain any special character, including `-`) ;\n",
    "- create the folder `/home/datawork-osmose/dataset/{dataset_name}` (or `home/datawork-osmose/dataset/{campaign_name}/{dataset_name}` in case of a recording campaign) ;\n",
    "- place in this folder your audio data, it can be individual files or contained within multiple sub-folders ;\n",
    "- if you have any csv files (either a `timestamp.csv` or `*gps*.csv` file) should also be placed in this folder ;\n",
    "\n",
    "**Important notes:**\n",
    "- about timestamps : all timestamps from your original data (from your audio filenames or from your csv files) MUST follow the same timestamp template which should be given in `date_template` ;\n",
    "- about `*gps*.csv` file : this file provides the GPS track (ie latitude and longitude coordinates) of a moving hydrophone. This file must contain the term _gps_ in its filename ;\n",
    "- about auxiliary csv files : they must contain headers with the following standardized names : timestamp , depth , lat , lon"
   ]
  },
  {
   "cell_type": "code",
   "execution_count": null,
   "metadata": {
    "ExecuteTime": {
     "end_time": "2024-07-17T07:59:58.102405Z",
     "start_time": "2024-07-17T07:59:58.098837Z"
    }
   },
   "outputs": [],
   "source": [
    "# FILL IN RED PARTS !\n",
    "import os\n",
    "from pathlib import Path\n",
    "from OSmOSE import Dataset\n",
    "from OSmOSE.utils import display_folder_storage_info, list_not_built_dataset\n",
    "\n",
    "path_osmose_home = \"/home/datawork-osmose/\"\n",
    "path_osmose_dataset = os.path.join(path_osmose_home, 'dataset')\n",
    "\n",
    "display_folder_storage_info(path_osmose_home)"
   ]
  },
  {
   "cell_type": "code",
   "execution_count": null,
   "metadata": {
    "ExecuteTime": {
     "end_time": "2024-07-17T07:59:58.530264Z",
     "start_time": "2024-07-17T07:59:58.110651Z"
    }
   },
   "outputs": [],
   "source": [
    "# FILL IN RED PARTS !\n",
    "list_not_built_dataset(path_osmose_dataset, '')"
   ]
  },
  {
   "cell_type": "markdown",
   "metadata": {},
   "source": [
    "If your dataset is part of a recording campaign, please provide its name with `campaign_name` ; in that case your dataset should be present in `home/datawork-osmose/dataset/{campaign_name}/{dataset_name}`. Otherwise let the default value `campaign_name = \"\"`."
   ]
  },
  {
   "cell_type": "code",
   "execution_count": null,
   "metadata": {
    "ExecuteTime": {
     "end_time": "2024-07-17T07:59:58.535952Z",
     "start_time": "2024-07-17T07:59:58.533704Z"
    }
   },
   "outputs": [],
   "source": [
    "# FILL IN RED PARTS !\n",
    "dataset_name = \"APOCADO_test_flac\"\n",
    "campaign_name = \"\""
   ]
  },
  {
   "cell_type": "markdown",
   "metadata": {},
   "source": [
    "In case of fixed GPS coordinates, write in the variable `gps` below in decimal degree (latitude , longitude) of your dataset (eg, `gps= (49 , -2)` ). If you have a mobile hydrophone, enter the name of the csv file containing the GPS coordinates, this filename should contain the term _gps_."
   ]
  },
  {
   "cell_type": "code",
   "execution_count": null,
   "metadata": {
    "ExecuteTime": {
     "end_time": "2024-07-17T07:59:58.580738Z",
     "start_time": "2024-07-17T07:59:58.537369Z"
    }
   },
   "outputs": [],
   "source": [
    "# FILL IN GREEN PARTS !\n",
    "gps = (47,-4)"
   ]
  },
  {
   "cell_type": "code",
   "execution_count": null,
   "metadata": {
    "ExecuteTime": {
     "end_time": "2024-07-17T07:59:58.624720Z",
     "start_time": "2024-07-17T07:59:58.582840Z"
    }
   },
   "outputs": [],
   "source": [
    "# FILL IN GREEN PARTS !\n",
    "depth = 0"
   ]
  },
  {
   "cell_type": "markdown",
   "metadata": {},
   "source": [
    "Concerning the `timezone` of your data, by default we will consider they are from UTC+00:00. If that is not the case, please use this parameter to inform it, its format MUST follow `\"+02:00\"` for UTC+02:00 for example."
   ]
  },
  {
   "cell_type": "code",
   "execution_count": null,
   "metadata": {
    "ExecuteTime": {
     "end_time": "2024-07-17T07:59:58.668518Z",
     "start_time": "2024-07-17T07:59:58.626283Z"
    }
   },
   "outputs": [],
   "source": [
    "# FILL IN RED PART !\n",
    "timezone = \"+02:00\""
   ]
  },
  {
   "cell_type": "markdown",
   "metadata": {},
   "source": [
    "The variable `force_upload` allows you to upload your dataset on the platform despite detected anomalies."
   ]
  },
  {
   "cell_type": "code",
   "execution_count": null,
   "metadata": {
    "ExecuteTime": {
     "end_time": "2024-07-17T07:59:58.712795Z",
     "start_time": "2024-07-17T07:59:58.670007Z"
    }
   },
   "outputs": [],
   "source": [
    "# FILL IN RED PARTS !\n",
    "force_upload = True\n",
    "date_template = \"%y%m%d%H%M%S\""
   ]
  },
  {
   "cell_type": "code",
   "execution_count": null,
   "metadata": {
    "ExecuteTime": {
     "end_time": "2024-07-17T07:59:58.868199Z",
     "start_time": "2024-07-17T07:59:58.714348Z"
    }
   },
   "outputs": [],
   "source": [
    "# FILL IN RED and GREEN PARTS !\n",
    "dataset = Dataset(Path(path_osmose_dataset, campaign_name, dataset_name),\n",
    "                  gps_coordinates=gps,\n",
    "                  depth=depth,\n",
    "                  owner_group=\"gosmose\",\n",
    "                  local=False,\n",
    "                  timezone=timezone)\n",
    "\n",
    "dataset.build(force_upload=force_upload, date_template=date_template)"
   ]
  }
 ],
 "metadata": {
  "kernelspec": {
   "display_name": "Python [conda env:osmose]",
   "language": "python",
   "name": "conda-env-osmose-py"
  },
  "language_info": {
   "codemirror_mode": {
    "name": "ipython",
    "version": 3
   },
   "file_extension": ".py",
   "mimetype": "text/x-python",
   "name": "python",
   "nbconvert_exporter": "python",
   "pygments_lexer": "ipython3",
   "version": "3.10.13"
  },
  "vscode": {
   "interpreter": {
    "hash": "bce92c0f8f81cdb158a63a7ee25a0fb0b2c55ab9a708ba2832e2eb9c8e94a3d1"
   }
  }
 },
 "nbformat": 4,
 "nbformat_minor": 4
}
