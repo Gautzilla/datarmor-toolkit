{
 "cells": [
  {
   "cell_type": "markdown",
   "metadata": {},
   "source": [
    "# PREAMBULE\n",
    "\n",
    "Before you can upload your dataset:\n",
    "- adapt `path_osmose_home` which points to OSmOSE working directory ;\n",
    "- choose a dataset name (should not contain any special character, including `-`) ;\n",
    "- create the folder `/home/datawork-osmose/dataset/{dataset_name}` (or `home/datawork-osmose/dataset/{campaign_name}/{dataset_name}` in case of a recording campaign) ;\n",
    "- place in this folder your audio data, it can be individual files or contained within multiple sub-folders ;\n",
    "- if you have any csv files (either a `timestamp.csv` or `*gps*.csv` file) should also be placed in this folder ;\n",
    "\n",
    "**Important notes:**\n",
    "- about timestamps : all timestamps from your original data (from your audio filenames or from your csv files) MUST follow the same timestamp template which should be given in `date_template` ;\n",
    "- about `*gps*.csv` file : this file provides the GPS track (ie latitude and longitude coordinates) of a moving hydrophone. This file must contain the term _gps_ in its filename ;\n",
    "- about auxiliary csv files : they must contain headers with the following standardized names : timestamp , depth , lat , lon"
   ]
  },
  {
   "cell_type": "code",
   "execution_count": null,
   "metadata": {
    "ExecuteTime": {
     "end_time": "2024-09-09T07:15:15.007255Z",
     "start_time": "2024-09-09T07:14:33.272749Z"
    }
   },
   "outputs": [],
   "source": [
    "# FILL IN RED PARTS !\n",
    "import os\n",
    "from pathlib import Path\n",
    "from OSmOSE import Dataset\n",
    "from OSmOSE.utils import display_folder_storage_info, list_not_built_dataset\n",
    "\n",
    "path_osmose_home = Path(r\"/home/datawork-osmose/\")\n",
    "path_osmose_dataset = path_osmose_home / \"dataset\"\n",
    "\n",
    "display_folder_storage_info(dir_path=path_osmose_home)"
   ]
  },
  {
   "cell_type": "code",
   "execution_count": null,
   "metadata": {
    "ExecuteTime": {
     "end_time": "2024-09-09T07:15:15.102201Z",
     "start_time": "2024-09-09T07:15:15.012654Z"
    }
   },
   "outputs": [],
   "source": [
    "# FILL IN RED PARTS !\n",
    "list_not_built_dataset(path_osmose=path_osmose_dataset, campaign=\"drift_dives_SES\")"
   ]
  },
  {
   "cell_type": "markdown",
   "metadata": {},
   "source": [
    "If your dataset is part of a recording campaign, please provide its name with `campaign_name` ; in that case your dataset should be present in `home/datawork-osmose/dataset/{campaign_name}/{dataset_name}`. Otherwise let the default value `campaign_name = \"\"`."
   ]
  },
  {
   "cell_type": "code",
   "execution_count": null,
   "metadata": {
    "ExecuteTime": {
     "end_time": "2024-09-09T07:15:15.110293Z",
     "start_time": "2024-09-09T07:15:15.106843Z"
    }
   },
   "outputs": [],
   "source": [
    "# FILL IN RED PARTS !\n",
    "campaign_name = \"drift_dives_SES\"\n",
    "dataset_name = \"test_math\""
   ]
  },
  {
   "cell_type": "markdown",
   "metadata": {},
   "source": [
    "In case of fixed GPS coordinates, write in the variable `gps` below in decimal degree (latitude , longitude) of your dataset (eg, `gps= (49 , -2)` ). If you have a mobile hydrophone, enter the name of the csv file containing the GPS coordinates, this filename should contain the term _gps_."
   ]
  },
  {
   "cell_type": "code",
   "execution_count": null,
   "metadata": {
    "ExecuteTime": {
     "end_time": "2024-09-09T07:15:15.159790Z",
     "start_time": "2024-09-09T07:15:15.115851Z"
    }
   },
   "outputs": [],
   "source": [
    "# FILL IN GREEN PARTS !\n",
    "gps = (1, 1)"
   ]
  },
  {
   "cell_type": "code",
   "execution_count": null,
   "metadata": {
    "ExecuteTime": {
     "end_time": "2024-09-09T07:15:15.211963Z",
     "start_time": "2024-09-09T07:15:15.165294Z"
    }
   },
   "outputs": [],
   "source": [
    "# FILL IN GREEN PARTS !\n",
    "depth = 0"
   ]
  },
  {
   "cell_type": "markdown",
   "metadata": {},
   "source": [
    "Concerning the `timezone` of your data, by default we will consider they are from UTC+00:00. If that is not the case, please use this parameter to inform it, its format MUST follow `\"+02:00\"` for UTC+02:00 for example."
   ]
  },
  {
   "cell_type": "code",
   "execution_count": null,
   "metadata": {
    "ExecuteTime": {
     "end_time": "2024-09-09T07:15:15.259897Z",
     "start_time": "2024-09-09T07:15:15.217876Z"
    }
   },
   "outputs": [],
   "source": [
    "# FILL IN RED PART !\n",
    "timezone = \"+00:00\""
   ]
  },
  {
   "cell_type": "markdown",
   "metadata": {},
   "source": [
    "The variable `force_upload` allows you to upload your dataset on the platform despite detected anomalies."
   ]
  },
  {
   "cell_type": "code",
   "execution_count": null,
   "metadata": {
    "ExecuteTime": {
     "end_time": "2024-09-09T07:15:15.334197Z",
     "start_time": "2024-09-09T07:15:15.265555Z"
    }
   },
   "outputs": [],
   "source": [
    "# FILL IN RED PARTS !\n",
    "force_upload = True\n",
    "date_template = \"%y%m%d%H%M%S\""
   ]
  },
  {
   "cell_type": "code",
   "execution_count": null,
   "metadata": {
    "ExecuteTime": {
     "end_time": "2024-09-09T07:15:26.920165Z",
     "start_time": "2024-09-09T07:15:15.340188Z"
    }
   },
   "outputs": [],
   "source": [
    "# FILL IN RED and GREEN PARTS !\n",
    "dataset = Dataset(\n",
    "    dataset_path=Path(path_osmose_dataset, campaign_name, dataset_name),\n",
    "    gps_coordinates=gps,\n",
    "    depth=depth,\n",
    "    owner_group=\"gosmose\",\n",
    "    local=False,\n",
    "    timezone=timezone,\n",
    ")\n",
    "\n",
    "dataset.build(force_upload=force_upload, date_template=date_template)"
   ]
  }
 ],
 "metadata": {
  "kernelspec": {
   "display_name": "Python [conda env:osmose_dev_MD]",
   "language": "python",
   "name": "conda-env-osmose_dev_MD-py"
  },
  "language_info": {
   "codemirror_mode": {
    "name": "ipython",
    "version": 3
   },
   "file_extension": ".py",
   "mimetype": "text/x-python",
   "name": "python",
   "nbconvert_exporter": "python",
   "pygments_lexer": "ipython3",
   "version": "3.10.14"
  },
  "vscode": {
   "interpreter": {
    "hash": "bce92c0f8f81cdb158a63a7ee25a0fb0b2c55ab9a708ba2832e2eb9c8e94a3d1"
   }
  }
 },
 "nbformat": 4,
 "nbformat_minor": 4
}
