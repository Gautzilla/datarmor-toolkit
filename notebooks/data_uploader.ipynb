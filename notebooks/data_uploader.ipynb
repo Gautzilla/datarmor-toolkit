{
 "cells": [
  {
   "cell_type": "markdown",
   "metadata": {},
   "source": [
    "#### <span style=\"color:blue\">*JUST RUN CELL*</span>"
   ]
  },
  {
   "cell_type": "code",
   "execution_count": 1,
   "metadata": {},
   "outputs": [],
   "source": [
    "version = \"0.1.0\"\n",
    "import os\n",
    "from pathlib import Path\n",
    "os.chdir(Path('/home/datawork-osmose/osmose-datarmor/source'))\n",
    "from OSmOSE import utils, Dataset\n",
    "\n",
    "path_osmose_dataset = \"/home/datawork-osmose/dataset/\"\n",
    "path_osmose_home = \"/home/datawork-osmose/\""
   ]
  },
  {
   "cell_type": "markdown",
   "metadata": {},
   "source": [
    "#### <span style=\"color:blue\">*JUST RUN CELL*</span>"
   ]
  },
  {
   "cell_type": "code",
   "execution_count": 2,
   "metadata": {},
   "outputs": [
    {
     "name": "stdout",
     "output_type": "stream",
     "text": [
      "Total storage space (TB): 40.0\n",
      "Used storage space (TB): 21.9\n",
      "-----------------------\n",
      "Available storage space (TB): 18.1\n"
     ]
    }
   ],
   "source": [
    "utils.display_folder_storage_infos(path_osmose_home)"
   ]
  },
  {
   "cell_type": "markdown",
   "metadata": {},
   "source": [
    "#### <span style=\"color:blue\">*JUST RUN CELL*</span>"
   ]
  },
  {
   "cell_type": "code",
   "execution_count": 3,
   "metadata": {},
   "outputs": [
    {
     "name": "stdout",
     "output_type": "stream",
     "text": [
      "List of the datasets that aren't built yet:\n",
      "  - APOCADO_IROISE_C2D1_07072022\n",
      "  - boussole_MERMAID\n",
      "  - CETIROISE_D1_subset\n",
      "  - CETIROISE_POINT_G_PHASE_1\n",
      "  - fecamp_OWFSOMM_decembre\n",
      "  - fecamp_OWFSOMM_fevrier20\n",
      "  - fecampOWFSOMM\n",
      "  - fromveur256000\n",
      "  - fromveur256000_SelectionPourAnnotations\n",
      "  - gliderSPAms\n",
      "  - gliderSPAms_sample1\n",
      "  - gliderWalterShoals\n",
      "  - MAHY\n",
      "  - MAYOBS_IF12C\n",
      "  - MAYOBS_IF5D\n",
      "  - MAYOBS_IF8B\n",
      "  - MAYOBS_MODF\n",
      "  - MAYOBS_MOSA\n",
      "  - MAYOBS_MOSG\n",
      "  - MAYOBS_MOSH\n",
      "  - MAYOBS_MOSO\n",
      "  - MPSU_ForestouHuella\n",
      "  - ohasisbio2015wker\n",
      "  - ohasisbio2015wker_sample2\n",
      "  - osmose_test_gliderspam\n",
      "  - SES\n",
      "  - SPMAuralA_2011\n",
      "  - SPMAuralA_2011_SelectionPourAnnotations2\n",
      "  - SPMAuralA_2011_SelectionPourAnnotations2_copy\n",
      "  - STPAUL\n",
      "  - test_BL\n",
      "  - test_sample_DC\n",
      "  - TP_annotation_HF_CETIROISE\n",
      "  - WALTER\n",
      "List of unreachable datasets (probably due to insufficient permissions) :\n",
      "  - 2022-06-23\n",
      "  - CETIROISE_A1_22_06_16\n",
      "  - CETIROISE_D1\n",
      "  - CETIROISE_D1_decimated\n",
      "  - CETIROISE_POINT_G_PHASE_1_decimated\n"
     ]
    }
   ],
   "source": [
    "utils.list_not_built_datasets(path_osmose_dataset)"
   ]
  },
  {
   "cell_type": "markdown",
   "metadata": {},
   "source": [
    "#### <span style=\"color:red\">*FILL & RUN CELL*</span>"
   ]
  },
  {
   "cell_type": "code",
   "execution_count": 4,
   "metadata": {},
   "outputs": [],
   "source": [
    "dataset_name = 'osmose_test_gliderspam'"
   ]
  },
  {
   "cell_type": "markdown",
   "metadata": {},
   "source": [
    "In case of fixed GPS coordinates, write them below in decimal degree [latitude , longitude] of your dataset (eg, `gps= [49 , -2]` ). If you have a mobile hydrophone, enter the name of the csv file containing the GPS coordinates with timestamps (eg, `gps= 'gps.csv'` ). This file should be present in `/raw/auxiliary/gps.csv`."
   ]
  },
  {
   "cell_type": "code",
   "execution_count": 5,
   "metadata": {},
   "outputs": [],
   "source": [
    "gps = [49 , -2]"
   ]
  },
  {
   "cell_type": "markdown",
   "metadata": {},
   "source": [
    "The variable `force_upload` allows you to upload your dataset on the platform despite detected anomalies."
   ]
  },
  {
   "cell_type": "code",
   "execution_count": 6,
   "metadata": {},
   "outputs": [],
   "source": [
    "force_upload = False"
   ]
  },
  {
   "cell_type": "code",
   "execution_count": 7,
   "metadata": {},
   "outputs": [],
   "source": [
    "date_template = \"%d%m%y_%H%M%S\""
   ]
  },
  {
   "cell_type": "markdown",
   "metadata": {},
   "source": [
    "#### <span style=\"color:blue\">*JUST RUN CELL*</span>"
   ]
  },
  {
   "cell_type": "code",
   "execution_count": 8,
   "metadata": {
    "scrolled": false
   },
   "outputs": [
    {
     "name": "stdout",
     "output_type": "stream",
     "text": [
      "\n",
      "Setting OSmOSE permission to the dataset...\n"
     ]
    },
    {
     "name": "stderr",
     "output_type": "stream",
     "text": [
      "100%|██████████| 10/10 [00:00<00:00, 59.25it/s]\n"
     ]
    },
    {
     "name": "stdout",
     "output_type": "stream",
     "text": [
      "Summary statistics on your INTER-FILE DURATION\n",
      "count         9\n",
      "mean     313761\n",
      "std      525992\n",
      "min         600\n",
      "25%       15000\n",
      "50%       45829\n",
      "75%      353400\n",
      "max     1527618\n",
      "\n",
      " Summary statistics on your file DURATION\n",
      "count    10\n",
      "mean    600\n",
      "std       0\n",
      "min     600\n",
      "25%     600\n",
      "50%     600\n",
      "75%     600\n",
      "max     600\n",
      "\n",
      " DONE ! your dataset is on OSmOSE platform !\n"
     ]
    }
   ],
   "source": [
    "dataset = Dataset(Path(path_osmose_dataset, dataset_name), gps_coordinates=gps, owner_group=\"gosmose\")\n",
    "auto_normalization = False # Whether or not to normalize the dataset when more than 10% of the files are badly formatted.\n",
    "dataset.build(force_upload=force_upload, auto_normalization=auto_normalization, date_template=date_template)"
   ]
  },
  {
   "cell_type": "markdown",
   "metadata": {},
   "source": [
    "### Delete anormal files\n",
    "\n",
    "We propose you to directly delete your anormal files listed above. To do so, just run the following cell after setting `do_it=True` (this is a simple safeguard)."
   ]
  },
  {
   "cell_type": "code",
   "execution_count": 9,
   "metadata": {},
   "outputs": [],
   "source": [
    "do_it = False\n",
    "\n",
    "if do_it: dataset.delete_abnormal_files()"
   ]
  }
 ],
 "metadata": {
  "kernelspec": {
   "display_name": "Python [conda env:osmose_dev]",
   "language": "python",
   "name": "conda-env-osmose_dev-py"
  },
  "language_info": {
   "codemirror_mode": {
    "name": "ipython",
    "version": 3
   },
   "file_extension": ".py",
   "mimetype": "text/x-python",
   "name": "python",
   "nbconvert_exporter": "python",
   "pygments_lexer": "ipython3",
   "version": "3.10.9"
  },
  "vscode": {
   "interpreter": {
    "hash": "bce92c0f8f81cdb158a63a7ee25a0fb0b2c55ab9a708ba2832e2eb9c8e94a3d1"
   }
  }
 },
 "nbformat": 4,
 "nbformat_minor": 2
}
