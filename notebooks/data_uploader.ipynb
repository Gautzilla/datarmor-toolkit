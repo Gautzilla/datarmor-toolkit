{
 "cells": [
  {
   "cell_type": "markdown",
   "metadata": {},
   "source": [
    "#### <span style=\"color:blue\">*JUST RUN CELL*</span>"
   ]
  },
  {
   "cell_type": "code",
   "execution_count": 1,
   "metadata": {},
   "outputs": [],
   "source": [
    "import os \n",
    "os.chdir(os.path.join('/home/datawork-osmose',[s for s in os.getcwd().split('/') if 'OSmOSEanalytics' in s][0],'source'))\n",
    "from launcher_dataUploader import *"
   ]
  },
  {
   "cell_type": "markdown",
   "metadata": {},
   "source": [
    "#### <span style=\"color:blue\">*JUST RUN CELL*</span>"
   ]
  },
  {
   "cell_type": "code",
   "execution_count": 2,
   "metadata": {},
   "outputs": [
    {
     "name": "stdout",
     "output_type": "stream",
     "text": [
      "Total storage space (TB): 20.0\n",
      "Used storage space (TB): 16.6\n",
      "-----------------------\n",
      "Available storage space (TB): 3.4\n"
     ]
    }
   ],
   "source": [
    "get_platform_storage_infos()"
   ]
  },
  {
   "cell_type": "markdown",
   "metadata": {},
   "source": [
    "#### <span style=\"color:blue\">*JUST RUN CELL*</span>"
   ]
  },
  {
   "cell_type": "code",
   "execution_count": 4,
   "metadata": {},
   "outputs": [
    {
     "name": "stdout",
     "output_type": "stream",
     "text": [
      "List of the datasets not built yet:\n",
      "  - fromveur256000\n"
     ]
    }
   ],
   "source": [
    "list_not_builded_datasets()"
   ]
  },
  {
   "cell_type": "markdown",
   "metadata": {},
   "source": [
    "#### <span style=\"color:red\">*FILL & RUN CELL*</span>"
   ]
  },
  {
   "cell_type": "code",
   "execution_count": 5,
   "metadata": {},
   "outputs": [],
   "source": [
    "dataset_ID = 'fromveur256000'"
   ]
  },
  {
   "cell_type": "markdown",
   "metadata": {},
   "source": [
    "In case of fixed GPS coordinates, write them below in decimal degree [latitude , longitude] of your dataset (eg, `gps= [49 , -2]` ). If you have a mobile hydrophone, enter the name of the csv file containing the GPS coordinates with timestamps (eg, `gps= 'gps.csv'` ). This file should be present in `/raw/auxiliary/gps.csv`."
   ]
  },
  {
   "cell_type": "code",
   "execution_count": 6,
   "metadata": {},
   "outputs": [],
   "source": [
    "gps = [ 42.911717,6.156634 ]"
   ]
  },
  {
   "cell_type": "markdown",
   "metadata": {},
   "source": [
    "The variable `force_upload` allows you to upload your dataset on the platform despite detected anomalies."
   ]
  },
  {
   "cell_type": "code",
   "execution_count": 7,
   "metadata": {},
   "outputs": [],
   "source": [
    "force_upload=False"
   ]
  },
  {
   "cell_type": "markdown",
   "metadata": {},
   "source": [
    "#### <span style=\"color:blue\">*JUST RUN CELL*</span> "
   ]
  },
  {
   "cell_type": "code",
   "execution_count": 8,
   "metadata": {},
   "outputs": [
    {
     "name": "stderr",
     "output_type": "stream",
     "text": [
      "100%|██████████| 1545/1545 [01:42<00:00, 15.03it/s]\n"
     ]
    },
    {
     "name": "stdout",
     "output_type": "stream",
     "text": [
      "Summary statistics on your INTER-FILE DURATION\n",
      "count    1544\n",
      "mean     3621\n",
      "std       354\n",
      "min      3600\n",
      "25%      3600\n",
      "50%      3600\n",
      "75%      3600\n",
      "max     14400\n",
      "\n",
      " Summary statistics on your file DURATION\n",
      "count   1545\n",
      "mean    1200\n",
      "std        0\n",
      "min     1200\n",
      "25%     1200\n",
      "50%     1200\n",
      "75%     1200\n",
      "max     1200\n",
      "\n",
      " Now setting OSmOSE permissions ; wait a bit ...\n",
      "\n",
      " DONE ! your dataset is on OSmOSE platform !\n"
     ]
    }
   ],
   "source": [
    "list_filename_anormal_duration, list_fileDuration = builder_dataset(dataset_ID,gps,force_upload)"
   ]
  },
  {
   "cell_type": "markdown",
   "metadata": {},
   "source": [
    "### Delete anormal files\n",
    "\n",
    "We propose you to directly delete your anormal files listed above. To do so, just run the following cell after setting `do_it=True` (this is a simple garde-fou)."
   ]
  },
  {
   "cell_type": "markdown",
   "metadata": {},
   "source": [
    "#### <span style=\"color:blue\">*JUST RUN CELL*</span> "
   ]
  },
  {
   "cell_type": "code",
   "execution_count": 8,
   "metadata": {},
   "outputs": [
    {
     "name": "stdout",
     "output_type": "stream",
     "text": [
      "no anomaly in your dataset! youre good to go!\n"
     ]
    }
   ],
   "source": [
    "do_it = False\n",
    "if (len(list_filename_anormal_duration)>0) and do_it:\n",
    "    delete_anormal_files(dataset_ID,list_filename_anormal_duration)\n",
    "elif len(list_filename_anormal_duration)==0:\n",
    "    print('no anomaly in your dataset! you''re good to go!')"
   ]
  }
 ],
 "metadata": {
  "kernelspec": {
   "display_name": "Python [conda env:allohaEnv]",
   "language": "python",
   "name": "conda-env-allohaEnv-py"
  },
  "language_info": {
   "codemirror_mode": {
    "name": "ipython",
    "version": 3
   },
   "file_extension": ".py",
   "mimetype": "text/x-python",
   "name": "python",
   "nbconvert_exporter": "python",
   "pygments_lexer": "ipython3",
   "version": "3.6.10"
  }
 },
 "nbformat": 4,
 "nbformat_minor": 4
}
