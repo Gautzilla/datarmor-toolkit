{
 "cells": [
  {
   "cell_type": "code",
   "execution_count": null,
   "metadata": {},
   "outputs": [],
   "source": [
    "from OSmOSE import Job_builder\n",
    "from pathlib import Path\n",
    "\n",
    "jb = Job_builder()"
   ]
  },
  {
   "attachments": {},
   "cell_type": "markdown",
   "metadata": {},
   "source": [
    "## Set job script"
   ]
  },
  {
   "attachments": {},
   "cell_type": "markdown",
   "metadata": {},
   "source": [
    "This cell is related to the script that will be executed in the job. Every field but one must be filled.\n",
    "\n",
    "- `job_name`: The name of the job, preferably human-readable and easy to understand.\n",
    "- `job_directory`: The directory where the pbs file and the logs will be created. It is recommended to use a subfolder named \"log\" for this.\n",
    "- `script_path`: The path to the script that will be executed inside the job. It can be in any language, though python is recommended.\n",
    "- `script_args`: The arguments to pass to the above script. It must be gathered through the standard input by the script (with argparse or sys.argv for example). It can be empty if the script expects no external input. IF you want to launch multiple jobs at once, keep this field empty, you will fill it later.\n",
    "- `env_name`: The name of the environment the script will be executed in. `osmose_dev` (soon `osmose`) should have most of the required libraries for acoustic analysis, but feel free to replace it with your own."
   ]
  },
  {
   "cell_type": "code",
   "execution_count": null,
   "metadata": {},
   "outputs": [],
   "source": [
    "job_name = \"\"\n",
    "job_directory = Path()\n",
    "\n",
    "script_path = Path()\n",
    "script_args = \"\"\n",
    "\n",
    "env_name = \"osmose_dev\"\n"
   ]
  },
  {
   "attachments": {},
   "cell_type": "markdown",
   "metadata": {},
   "source": [
    "## Set the job parameters"
   ]
  },
  {
   "attachments": {},
   "cell_type": "markdown",
   "metadata": {},
   "source": [
    "These parameters are the constraints of the job. The most important ones are `memory` and `time_limit`. The `preset` automatically fill the other fields with standard values. If your job is not parallelised (by default, python is not, unless you used multiprocessing), then you can keep the \"low\" preset and manipulate the other parameters except `ncpus`, which is the number of cpus that the job will run on, only useful if it is parallelised. The \"medium\" preset is :\n",
    "`   queue = \"omp\"\n",
    "    walltime = \"12:00:00\"\n",
    "    ncpus = 6\n",
    "    mem = \"40g\"\n",
    "    nodes = 1`\n",
    "\n",
    "And high :\n",
    "`   queue = \"omp\"\n",
    "    walltime = \"12:00:00\"\n",
    "    ncpus = 28\n",
    "    mem = \"120g\"\n",
    "    nodes = 1`"
   ]
  },
  {
   "cell_type": "code",
   "execution_count": null,
   "metadata": {},
   "outputs": [],
   "source": [
    "preset = \"low\" # Can be \"medium\" or \"high\". You probably want \"low\"\n",
    "\n",
    "memory = \"10G\"\n",
    "time_limit = \"02:00:00\"\n",
    "ncpus = 1 # Stay at 1 unless the job is parallelised"
   ]
  },
  {
   "attachments": {},
   "cell_type": "markdown",
   "metadata": {},
   "source": [
    "## Prepare and launch a job"
   ]
  },
  {
   "attachments": {},
   "cell_type": "markdown",
   "metadata": {},
   "source": [
    "If you want to submit a single job, then just run the following cell. If you want to submit multiple jobs at once, skip to the next."
   ]
  },
  {
   "cell_type": "code",
   "execution_count": 2,
   "metadata": {},
   "outputs": [
    {
     "ename": "SyntaxError",
     "evalue": "invalid syntax. Perhaps you forgot a comma? (211165891.py, line 5)",
     "output_type": "error",
     "traceback": [
      "\u001b[1;36m  Cell \u001b[1;32mIn[2], line 5\u001b[1;36m\u001b[0m\n\u001b[1;33m    env_name = env_name\u001b[0m\n\u001b[1;37m               ^\u001b[0m\n\u001b[1;31mSyntaxError\u001b[0m\u001b[1;31m:\u001b[0m invalid syntax. Perhaps you forgot a comma?\n"
     ]
    }
   ],
   "source": [
    "jobfile = jb.build_job_file(\n",
    "    script_path=script_path,\n",
    "    script_args=script_args,\n",
    "    jobname = job_name,\n",
    "    env_name = env_name,\n",
    "    preset=preset,\n",
    "    mem=memory,\n",
    "    walltime=time_limit,\n",
    "    ncpus=ncpus,\n",
    "    queue=\"sequentiel\" if ncpus == 1 else \"omp\",\n",
    "    logdir=job_directory\n",
    ")\n",
    "\n",
    "jb.submit_job(jobfile)"
   ]
  },
  {
   "attachments": {},
   "cell_type": "markdown",
   "metadata": {},
   "source": [
    "## Prepare and launch multiple jobs at once"
   ]
  },
  {
   "attachments": {},
   "cell_type": "markdown",
   "metadata": {},
   "source": [
    "If you need to run multiple jobs at once, they are probably not the exact same. You might want to cut your dataset into batches or test different parameters. Either way, you will need a list to iterate through, and different script argument for each job. Fill the cell below adequately and then run it, it will submit all your jobs."
   ]
  },
  {
   "cell_type": "code",
   "execution_count": null,
   "metadata": {},
   "outputs": [],
   "source": [
    "input_list = []\n",
    "\n",
    "for item in input_list:\n",
    "    script_args = f\"\"\n",
    "\n",
    "    jb.build_job_file(\n",
    "        script_path=script_path,\n",
    "        script_args=script_args,\n",
    "        jobname = job_name,\n",
    "        env_name = env_name,\n",
    "        preset=preset,\n",
    "        mem=memory,\n",
    "        walltime=time_limit,\n",
    "        logdir=job_directory\n",
    "    )\n",
    "\n",
    "jb.submit_job()"
   ]
  },
  {
   "attachments": {},
   "cell_type": "markdown",
   "metadata": {},
   "source": [
    "## Job Monitoring"
   ]
  },
  {
   "attachments": {},
   "cell_type": "markdown",
   "metadata": {},
   "source": [
    "Use the cell below to list the prepared, active and finished jobs. Then select the name of the job that interests you and paste it to the `job_to_read` field ot read its output."
   ]
  },
  {
   "cell_type": "code",
   "execution_count": null,
   "metadata": {},
   "outputs": [],
   "source": [
    "jb.list_jobs()"
   ]
  },
  {
   "cell_type": "code",
   "execution_count": null,
   "metadata": {},
   "outputs": [],
   "source": [
    "job_to_read = \"\"\n",
    "read_mode = \"out\"\n",
    "\n",
    "jb.read_output_file(job_name = job_to_read, outtype=read_mode)"
   ]
  }
 ],
 "metadata": {
  "kernelspec": {
   "display_name": "Python 3",
   "language": "python",
   "name": "python3"
  },
  "language_info": {
   "codemirror_mode": {
    "name": "ipython",
    "version": 3
   },
   "file_extension": ".py",
   "mimetype": "text/x-python",
   "name": "python",
   "nbconvert_exporter": "python",
   "pygments_lexer": "ipython3",
   "version": "3.11.1"
  },
  "orig_nbformat": 4,
  "vscode": {
   "interpreter": {
    "hash": "bce92c0f8f81cdb158a63a7ee25a0fb0b2c55ab9a708ba2832e2eb9c8e94a3d1"
   }
  }
 },
 "nbformat": 4,
 "nbformat_minor": 2
}
