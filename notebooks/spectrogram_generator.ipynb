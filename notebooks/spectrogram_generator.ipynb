{
 "cells": [
  {
   "cell_type": "markdown",
   "metadata": {},
   "source": [
    "#### <span style=\"color:blue\">*JUST RUN CELL*</span>"
   ]
  },
  {
   "cell_type": "code",
   "execution_count": 1,
   "metadata": {},
   "outputs": [],
   "source": [
    "import os \n",
    "os.chdir(os.path.join('/home/datawork-osmose',[s for s in os.getcwd().split('/') if 'OSmOSEanalytics' in s][0],'source'))\n",
    "from launcher_spectrogramGenerator import main, job_monitoring, visu_adjustSpectros, params_recommendation, display_metadata, list_datasets, params_checkingNberPixels"
   ]
  },
  {
   "cell_type": "markdown",
   "metadata": {},
   "source": [
    "## <span style=\"color:red\">*FILL & RUN CELLS*</span> Dataset preparation\n",
    "\n",
    "- ``dataset_ID`` is the name of the dataset to be processed;\n",
    "- ``analysis_fs`` is the sample frequency you want to use for your analysis, which can be different from the original one."
   ]
  },
  {
   "cell_type": "code",
   "execution_count": 2,
   "metadata": {},
   "outputs": [
    {
     "name": "stdout",
     "output_type": "stream",
     "text": [
      "Available datasets:\n",
      "  - APOCADO_IROISE_C2D1_07072022\n",
      "  - APOCADO_test_IROISE_d1\n",
      "  - APOCADO_test_PASSEPARTOUT\n",
      "  - argoLOV\n",
      "  - boussole_MERMAID\n",
      "  - CETIROISE_POINT_E_20220725\n",
      "  - CETIROISE_POINT_G_20220509\n",
      "  - CETIROISE_POINT_G_PHASE_1\n",
      "  - CETIROISE_PONIT_B_20220717\n",
      "  - DDU2018\n",
      "  - fecampOWFSOMM\n",
      "  - fromveur256000\n",
      "  - fromveur256000_SelectionPourAnnotations\n",
      "  - gliderSPAms\n",
      "  - gliderSPAms_PAMGuard\n",
      "  - gliderSPAms_sample1\n",
      "  - gliderWalterShoals\n",
      "  - MAHY\n",
      "  - MAYOBS\n",
      "  - MAYOBS_MOAF\n",
      "  - MAYOBS_MOCA\n",
      "  - MPSU_ForestouHuella\n",
      "  - ohasisbio2015wker\n",
      "  - ohasisbio2015wker_sample2\n",
      "  - SPMAuralA_2011\n",
      "  - SPMAuralA_2011_SelectionPourAnnotations2\n",
      "  - SPMAuralA_2011_SelectionPourAnnotations2_copy\n",
      "  - TP_annotation_HF_CETIROISE\n"
     ]
    }
   ],
   "source": [
    "list_datasets()"
   ]
  },
  {
   "cell_type": "code",
   "execution_count": 3,
   "metadata": {
    "scrolled": true
   },
   "outputs": [
    {
     "name": "stdout",
     "output_type": "stream",
     "text": [
      "Original sample frequency (Hz) : 50000\n",
      "2021-10-11T10:22  -->  2022-03-08T16:38\n",
      "Cumulated number of days : 148\n",
      "Original audio file duration (s) : 1181\n",
      "Total number of files: 8645\n",
      "Total volume (GB): 1532.3\n",
      "Auxiliary files : []\n",
      "***************************\n",
      "Existing analysis paramaters (fileDuration_sampleFrequency) : ['30_50000']\n"
     ]
    }
   ],
   "source": [
    "dataset_ID = 'boussole_MERMAID'\n",
    "display_metadata(dataset_ID)"
   ]
  },
  {
   "cell_type": "code",
   "execution_count": 4,
   "metadata": {},
   "outputs": [],
   "source": [
    "analysis_fs = 2000"
   ]
  },
  {
   "cell_type": "markdown",
   "metadata": {},
   "source": [
    "### Dataset subset\n",
    "\n",
    "Note that you can process only a subset of your entire dataset by creating the file `/home/datawork-osmose/dataset/dataset_ID/analysis/subset_files.csv`, which is a simple list of files to be processed, for example:\n",
    "\n",
    "`% head /home/datawork-osmose/dataset/fecampOWFSOMM/analysis/subset_files.csv\n",
    "channelA_2020_11_20_15_40_17.wav\n",
    "channelA_2020_11_20_15_43_20.wav\n",
    "channelA_2020_11_20_16_20_17.wav\n",
    "channelA_2020_11_20_16_23_20.wav\n",
    "channelA_2020_11_20_16_30_17.wav\n",
    "channelA_2020_11_20_16_33_20.wav\n",
    "channelA_2020_11_20_16_43_20.wav\n",
    "channelA_2020_11_20_16_50_17.wav\n",
    "channelA_2020_11_20_16_53_20.wav\n",
    "channelA_2020_11_20_17_10_17.wav\n",
    "`"
   ]
  },
  {
   "cell_type": "markdown",
   "metadata": {},
   "source": [
    "## <span style=\"color:red\">*FILL & RUN CELLS*</span> Configure spectrogram parameters"
   ]
  },
  {
   "cell_type": "markdown",
   "metadata": {},
   "source": [
    "### Main parameters \n",
    "\n",
    "Start by setting the value of `maxtime_display_spectro` in seconds. It corresponds to the maximal duration of the spectrogram display window. It must be inferior or equal to your original audio file duration. You also have to specify how you want to proceed with file segmentation : `pad_silence = 1` will preserve your spectrogram duration by padding with silence the last remaining segment, otherwise set `pad_silence = 0`.\n",
    "\n",
    "Then, you can set the value of `nber_tile_level`, which is the number of zoom levels you want (they are used in our web-based annotation tool APLOSE). With `nber_tile_level = 1`, your shortest spectrogram display window has a duration of `maxtime_display_spectro` seconds (that is no zoom at all) ; with `nber_tile_level = 2`, a duration of `maxtime_display_spectro`/2 seconds ; with `nber_tile_level = 3`, a duration of `maxtime_display_spectro`/4 seconds ...\n",
    "\n",
    "After that, you can set the following classical spectrogram parameters : `nfft` (in samples), `winsize` (in samples), `overlap` (in \\%). **Note that with those parameters you set the resolution of your spectrogram display window with the smallest duration, obtained with the highest zoom level.**"
   ]
  },
  {
   "cell_type": "code",
   "execution_count": 23,
   "metadata": {},
   "outputs": [],
   "source": [
    "maxtime_display_spectro = 60 # this default value corresponds to your audio file duration\n",
    "pad_silence = 1\n",
    "\n",
    "nber_tile_level = 4\n",
    "\n",
    "nfft = 1024 # samples\n",
    "winsize = 1024# samples\n",
    "overlap = 99  # %"
   ]
  },
  {
   "cell_type": "markdown",
   "metadata": {},
   "source": [
    "### Amplitude normalization \n",
    "\n",
    "Eventually, we also propose you different modes of data/spectrogram normalization.\n",
    "\n",
    "Normalization over raw data samples with the variable `data_normalization` (default value `''`, i.e. no normalization) :\n",
    "- instrument-based normalization with the three parameters `sensitivity_dB` (in dB, default value = 0), `gain` (in dB, default value = 0) and `peak_voltage` (in V, default value = 1). Using default values, no normalization will be performed ;\n",
    "\n",
    "- z-score normalization over a given time period through the variable `zscore_duration`, applied directly on your raw timeseries. The possible values are:\n",
    "    - `zscore_duration = 'original'` : the audio file duration will be used as time period ;\n",
    "    - `zscore_duration = '10H'` : any time period put as a string using classical [time alias](https://pandas.pydata.org/pandas-docs/stable/user_guide/timeseries.html#timeseries-offset-aliases). This period should be higher than your file duration. \n",
    "\n",
    "Normalization over spectra with the variable `spectro_normalization` (default value `'density'`, see OSmOSEanalytics/documentation/theory_spectrogram.pdf for details) :\n",
    "- density-based normalization by setting `spectro_normalization = 'density'`\n",
    "- spectrum-based normalization by setting `spectro_normalization = 'spectrum'` \n",
    "\n",
    "In the cell below, you can also have access to the amplitude dynamics in dB throuh the parameters `max_color_val` and `min_color_val`, the colormap `colmapspectros` to be used (see possible options in the [documentation](https://matplotlib.org/stable/tutorials/colors/colormaps.html)) and specify the frequency cut `fmin_HighPassFilter` of a high-pass filter if needed."
   ]
  },
  {
   "cell_type": "code",
   "execution_count": 30,
   "metadata": {},
   "outputs": [],
   "source": [
    "data_normalization = 'instrument' # 'instrument' OR 'zscore'\n",
    "\n",
    "zscore_duration = 'original' # parameter for 'zscore' mode, values = time alias OR 'original' \n",
    "sensitivity_dB = -164 # parameters for 'instrument' mode\n",
    "gain_dB = 14.7 # parameter for 'instrument' mode\n",
    "peak_voltage = 2.5 # parameter for 'instrument' mode\n",
    "\n",
    "spectro_normalization = 'density' # 'density' OR 'spectrum' \n",
    "\n",
    "\n",
    "sensitivity_dB = -170\n",
    "gain_dB = 10\n",
    "peak_voltage = 1.5\n",
    "\n",
    "max_color_val = 140\n",
    "min_color_val = 0\n",
    "\n",
    "fmin_HighPassFilter = 10\n",
    "colmapspectros = 'viridis'"
   ]
  },
  {
   "cell_type": "markdown",
   "metadata": {},
   "source": [
    "### Parameter adjustement \n",
    "\n",
    "\n",
    "In the cell below you can **check your spectrogram dimension w.r.t your screen resolution** (just run it). We calculate the number of time windows (or equivalently, the number of spectra) you have in your shortest spectrogram display window.\n",
    "\n",
    "Be aware that this number should be as close as your horizontal screen resolution (ie approximately 2000 pixels, as a classical screen resolution is 1920x1080 pixels (horizontal pixels) x (vertical pixels) ) to avoid numerical compression during image display on your screen, as well as useless over-resoluted spectrograms obtained at a high computational cost. We warn you if you are higher, but you can still compute higher-resolution spectrograms if you want."
   ]
  },
  {
   "cell_type": "code",
   "execution_count": 31,
   "metadata": {},
   "outputs": [
    {
     "name": "stdout",
     "output_type": "stream",
     "text": [
      "your smallest tile has a duration of: 7.5 (s)\n",
      "\n",
      "\n",
      "\n",
      "\n",
      "your number of time windows in this tile is: 1270\n",
      "\n",
      "\n",
      "your resolutions : time =  0.006 (s) / frequency =  1.953 (Hz)\n"
     ]
    }
   ],
   "source": [
    "params_checkingNberPixels(analysis_fs,maxtime_display_spectro,nfft,winsize,overlap,nber_tile_level,dataset_ID)"
   ]
  },
  {
   "cell_type": "markdown",
   "metadata": {},
   "source": [
    "`nberAdjustSpectros` is the number of spectrogram examples used to adjust your parameters. If you are really not sure about your parameters, it is better to start with a small number, because each time you will have to wait for the generation of all your `nberAdjustSpectros` (x the different zoom levels) spectrograms before being able to re-generate spectrograms with another set of parameters."
   ]
  },
  {
   "cell_type": "code",
   "execution_count": 32,
   "metadata": {},
   "outputs": [],
   "source": [
    "nberAdjustSpectros = 2"
   ]
  },
  {
   "cell_type": "markdown",
   "metadata": {},
   "source": [
    "## <span style=\"color:blue\">*JUST RUN CELL*</span> Adjust spectrogram parameters\n",
    "\n",
    "### Compute `nberAdjustSpectros` spectrograms to adjust parameters. "
   ]
  },
  {
   "cell_type": "code",
   "execution_count": 33,
   "metadata": {},
   "outputs": [
    {
     "name": "stdout",
     "output_type": "stream",
     "text": [
      "Generating 2 spectrograms (x the number of zoom levels) for parameter adjustment! In a few seconds, your first spectrograms will be visible in the next cell..\n"
     ]
    }
   ],
   "source": [
    "main(dataset_ID,analysis_fs, nfft ,winsize,nberAdjustSpectros,overlap,colmapspectros,nber_tile_level,min_color_val,max_color_val,maxtime_display_spectro,data_normalization,fmin_HighPassFilter,sensitivity_dB,peak_voltage,spectro_normalization,gain_dB,False,pad_silence,zscore_duration)"
   ]
  },
  {
   "cell_type": "markdown",
   "metadata": {},
   "source": [
    "### Visualize `nberAdjustSpectros` spectrograms to adjust parameters. \n",
    "\n",
    "Re-run several times this cell to update the folder of images because they keep being generated while you visualize them. If this set of parameters does not suit you, change them and re-run new spectrograms with the previous cells, as many times as you want."
   ]
  },
  {
   "cell_type": "code",
   "execution_count": 35,
   "metadata": {
    "scrolled": false,
    "tags": []
   },
   "outputs": [
    {
     "name": "stdout",
     "output_type": "stream",
     "text": [
      "Spectrograms not ready yet, please wait a bit..\n"
     ]
    }
   ],
   "source": [
    "visu_adjustSpectros()"
   ]
  },
  {
   "cell_type": "markdown",
   "metadata": {},
   "source": [
    "## <span style=\"color:blue\">*JUST RUN CELL*</span>  Launch spectrogram generation\n",
    "\n",
    "Just one thing : if you create your spectrograms for an APLOSE campaign, set `write_datasets_csv_for_APLOSE=True` below !"
   ]
  },
  {
   "cell_type": "code",
   "execution_count": 14,
   "metadata": {},
   "outputs": [
    {
     "name": "stdout",
     "output_type": "stream",
     "text": [
      "OK we are generating all your spectrograms now ! \n",
      " \n",
      " You can look at the progress bar in the cell below, or you can leave Jupyter and come back to Earth, your job is done, we will mail you when it is done ;) \n"
     ]
    }
   ],
   "source": [
    "write_datasets_csv_for_APLOSE=False\n",
    "main(dataset_ID,analysis_fs, nfft ,winsize,0,overlap,colmapspectros,nber_tile_level,min_color_val,max_color_val,maxtime_display_spectro,data_normalization,fmin_HighPassFilter,sensitivity_dB,peak_voltage,spectro_normalization,gain_dB,write_datasets_csv_for_APLOSE,pad_silence,zscore_duration)"
   ]
  },
  {
   "cell_type": "markdown",
   "metadata": {},
   "source": [
    "### Track progress"
   ]
  },
  {
   "cell_type": "code",
   "execution_count": null,
   "metadata": {
    "scrolled": true
   },
   "outputs": [],
   "source": [
    "job_monitoring(dataset_ID,analysis_fs,nfft,winsize,overlap,min_color_val,max_color_val)"
   ]
  }
 ],
 "metadata": {
  "kernelspec": {
   "display_name": "Python 3",
   "language": "python",
   "name": "python3"
  },
  "language_info": {
   "codemirror_mode": {
    "name": "ipython",
    "version": 3
   },
   "file_extension": ".py",
   "mimetype": "text/x-python",
   "name": "python",
   "nbconvert_exporter": "python",
   "pygments_lexer": "ipython3",
   "version": "3.11.1 (tags/v3.11.1:a7a450f, Dec  6 2022, 19:58:39) [MSC v.1934 64 bit (AMD64)]"
  },
  "vscode": {
   "interpreter": {
    "hash": "bce92c0f8f81cdb158a63a7ee25a0fb0b2c55ab9a708ba2832e2eb9c8e94a3d1"
   }
  }
 },
 "nbformat": 4,
 "nbformat_minor": 4
}
