{
 "cells": [
  {
   "cell_type": "code",
   "execution_count": null,
   "metadata": {
    "ExecuteTime": {
     "end_time": "2024-04-11T13:36:42.173330Z",
     "start_time": "2024-04-11T13:36:42.161656Z"
    }
   },
   "outputs": [],
   "source": [
    "# JUST RUN THIS CELL : NOTHING TO FILL !\n",
    "\n",
    "import os, sys\n",
    "from pathlib import Path\n",
    "import pandas as pd\n",
    "import subprocess\n",
    "from OSmOSE import Spectrogram, Job_builder\n",
    "from OSmOSE.cluster import reshape\n",
    "from OSmOSE.utils import *\n",
    "from time import sleep\n",
    "from IPython.display import Image\n",
    "import pickle\n",
    "import numpy as np\n",
    "import glob\n",
    "from tqdm import tqdm\n",
    "import random\n",
    "import shutil\n",
    "\n",
    "path_osmose_dataset = \"/home/datawork-osmose/dataset/\"\n",
    "path_osmose_home = \"/home/datawork-osmose/\"\n",
    "\n",
    "jb = Job_builder()\n",
    "\n",
    "display_folder_storage_info(path_osmose_home)"
   ]
  },
  {
   "cell_type": "code",
   "execution_count": null,
   "metadata": {
    "ExecuteTime": {
     "end_time": "2024-04-11T13:36:44.530426Z",
     "start_time": "2024-04-11T13:36:44.512559Z"
    }
   },
   "outputs": [],
   "source": [
    "list_dataset(path_osmose=path_osmose_dataset, campaign=\"DELGOST\")"
   ]
  },
  {
   "cell_type": "markdown",
   "metadata": {},
   "source": [
    "### Summary\n",
    "\n",
    "**I. Select dataset** : choose your dataset to be processed and get key metadata on it\n",
    "\n",
    "**II. Configure spectrograms** : define all spectrogram parameters, and adjust them based on spectrograms computed on the fly\n",
    "\n",
    "**III. Generate spectrograms** : launch the complete generation of spectrograms"
   ]
  },
  {
   "cell_type": "markdown",
   "metadata": {},
   "source": [
    "# I. Select dataset \n",
    "\n",
    "If your dataset is part of a recording campaign, please provide its name with `campaign_name` ; in that case your dataset should be present in `home/datawork-osmose/dataset/{campaign_name}/{dataset_name}`. Otherwise let the default value `campaign_name = \"\"`."
   ]
  },
  {
   "cell_type": "code",
   "execution_count": null,
   "metadata": {
    "ExecuteTime": {
     "end_time": "2024-04-11T13:36:52.468610Z",
     "start_time": "2024-04-11T13:36:52.432462Z"
    }
   },
   "outputs": [],
   "source": [
    "# FILL RED PARTS !\n",
    "\n",
    "dataset_name = \"DELGOST_090623_ST\"\n",
    "campaign_name = \"DELGOST\"\n",
    "\n",
    "dataset = Spectrogram(\n",
    "    dataset_path=Path(path_osmose_dataset, campaign_name, dataset_name),\n",
    "    owner_group=\"gosmose\",\n",
    "    local=False,\n",
    ")\n",
    "\n",
    "print(dataset)"
   ]
  },
  {
   "cell_type": "markdown",
   "metadata": {},
   "source": [
    "# Configure spectrograms"
   ]
  },
  {
   "cell_type": "markdown",
   "metadata": {},
   "source": [
    "The two following parameters `spectro_duration` (in s) and `dataset_sr` (in Hz) will allow you to process your data using different file durations (ie segmentation) and/or sampling rate (ie resampling) parameters. `spectro_duration` is the maximal duration of the spectrogram display window.\n",
    "\n",
    "To process audio files from your original folder (ie without any segmentation and/or resampling operations), use the original audio file duration and sample rate parameters estimated at your dataset uploading (they are printed in the previous cell). "
   ]
  },
  {
   "cell_type": "code",
   "execution_count": null,
   "metadata": {
    "ExecuteTime": {
     "end_time": "2024-04-11T13:36:59.368183Z",
     "start_time": "2024-04-11T13:36:59.363404Z"
    }
   },
   "outputs": [],
   "source": [
    "# FILL GREEN PARTS !\n",
    "dataset.spectro_duration = 10  # seconds\n",
    "dataset.dataset_sr = 120000  # Hz"
   ]
  },
  {
   "cell_type": "markdown",
   "metadata": {},
   "source": [
    "Then, you can set the value of `zoom_levels`, which is the number of zoom levels you want (they are used in our web-based annotation tool APLOSE). With `zoom_levels = 0`, your shortest spectrogram display window has a duration of `spectro_duration` seconds (that is no zoom at all) ; with `zoom_levels = 1`, a duration of `spectro_duration`/2 seconds ; with `zoom_levels = 2`, a duration of `spectro_duration`/4 seconds ..."
   ]
  },
  {
   "cell_type": "code",
   "execution_count": null,
   "metadata": {
    "ExecuteTime": {
     "end_time": "2024-04-11T13:37:01.689189Z",
     "start_time": "2024-04-11T13:37:01.686673Z"
    }
   },
   "outputs": [],
   "source": [
    "# FILL GREEN PARTS !\n",
    "dataset.zoom_level = 0  # int"
   ]
  },
  {
   "cell_type": "markdown",
   "metadata": {},
   "source": [
    "After that, you can set the following classical spectrogram parameters : `nfft` (in samples), `winsize` (in samples), `overlap` (in \\%). **Note that with those parameters you set the resolution of your spectrogram display window with the smallest duration, obtained with the highest zoom level.**"
   ]
  },
  {
   "cell_type": "code",
   "execution_count": null,
   "metadata": {
    "ExecuteTime": {
     "end_time": "2024-04-11T13:37:04.083461Z",
     "start_time": "2024-04-11T13:37:04.078686Z"
    }
   },
   "outputs": [],
   "source": [
    "# FILL GREEN PARTS !\n",
    "dataset.nfft = 1024  # samples\n",
    "dataset.window_size = 1024  # samples\n",
    "dataset.overlap = 20  # %"
   ]
  },
  {
   "cell_type": "markdown",
   "metadata": {},
   "source": [
    "In case of audio segmentation, you can use the following variable `audio_file_overlap` (in seconds, default value = 0) to set an overlap in seconds between two consecutive segments."
   ]
  },
  {
   "cell_type": "code",
   "execution_count": null,
   "metadata": {
    "ExecuteTime": {
     "end_time": "2024-04-11T13:37:06.039550Z",
     "start_time": "2024-04-11T13:37:06.036645Z"
    }
   },
   "outputs": [],
   "source": [
    "# FILL GREEN PARTS !\n",
    "dataset.audio_file_overlap = 0  # seconds"
   ]
  },
  {
   "cell_type": "markdown",
   "metadata": {},
   "source": [
    "#### Amplitude normalization \n",
    "\n",
    "Eventually, we also propose you different modes of data/spectrogram normalization.\n",
    "\n",
    "Normalization over raw data samples with the variable `data_normalization` (default value `'none'`, i.e. no normalization) :\n",
    "- instrument-based normalization with the three parameters `sensitivity_dB` (in dB, default value = 0), `gain` (in dB, default value = 0) and `peak_voltage` (in V, default value = 1). Using default values, no normalization will be performed ;\n",
    "\n",
    "- z-score normalization over a given time period through the variable `zscore_duration`, applied directly on your raw timeseries. The possible values are:\n",
    "    - `zscore_duration = 'original'` : the audio file duration will be used as time period ;\n",
    "    - `zscore_duration = '10H'` : any time period put as a string using classical [time alias](https://pandas.pydata.org/pandas-docs/stable/user_guide/timeseries.html#timeseries-offset-aliases). This period should be higher than your file duration. \n",
    "\n",
    "Normalization over spectra with the variable `spectro_normalization` (default value `'density'`, see OSmOSEanalytics/documentation/theory_spectrogram.pdf for details) :\n",
    "- density-based normalization by setting `spectro_normalization = 'density'`\n",
    "- spectrum-based normalization by setting `spectro_normalization = 'spectrum'` \n",
    "\n",
    "In the cell below, you can also have access to the amplitude dynamics in dB throuh the parameters `dynamic_max` and `dynamic_min`, the colormap `spectro_colormap` to be used (see possible options in the [documentation](https://matplotlib.org/stable/tutorials/colors/colormaps.html)) and specify the frequency cut `HPfilter_freq_min` of a high-pass filter if needed."
   ]
  },
  {
   "cell_type": "code",
   "execution_count": null,
   "metadata": {
    "ExecuteTime": {
     "end_time": "2024-04-11T13:37:09.400946Z",
     "start_time": "2024-04-11T13:37:09.394821Z"
    }
   },
   "outputs": [],
   "source": [
    "# FILL GREEN and RED PARTS !\n",
    "dataset.data_normalization = \"instrument\"  # 'instrument' OR 'zscore' OR 'none'\n",
    "\n",
    "dataset.zscore_duration = (\n",
    "    \"original\"  # parameter for 'zscore' mode, values = time alias OR 'original'\n",
    ")\n",
    "dataset.sensitivity = -177.2  # parameter for 'instrument' mode\n",
    "dataset.gain_dB = 0  # parameter for 'instrument' mode\n",
    "dataset.peak_voltage = 2  # parameter for 'instrument' mode\n",
    "\n",
    "dataset.spectro_normalization = \"density\"  # 'density' OR 'spectrum'\n",
    "\n",
    "dataset.dynamic_max = 120  # dB\n",
    "dataset.dynamic_min = 0  # dB\n",
    "dataset.colormap = \"viridis\"\n",
    "\n",
    "dataset.hp_filter_min_freq = 1  # Hz"
   ]
  },
  {
   "cell_type": "markdown",
   "metadata": {},
   "source": [
    "You can now check the size of your spectrogram resulting from those parameters"
   ]
  },
  {
   "cell_type": "code",
   "execution_count": null,
   "metadata": {
    "ExecuteTime": {
     "end_time": "2024-04-11T13:37:11.178046Z",
     "start_time": "2024-04-11T13:37:11.172169Z"
    }
   },
   "outputs": [],
   "source": [
    "dataset.check_spectro_size()"
   ]
  },
  {
   "cell_type": "markdown",
   "metadata": {},
   "source": [
    "#### Adjust spectrogram parameters\n",
    "\n",
    "In the cell below you can visualize some spectrograms computed on the fly"
   ]
  },
  {
   "cell_type": "markdown",
   "metadata": {},
   "source": [
    "- `number_adjustment_spectrograms` is the number of spectrogram examples used to adjust your parameters\n",
    "\n",
    "- You can use the variable `file_list` in the cell below to adjust your spectrogram parameters using specific files; be careful these files must be present in a `temp_adjustment_output_dir` folder computed with a random selection; put their names in this list as follows, eg `file_list = ['2020_06_05T15_10_00.wav','2020_06_07T15_41_40.wav']"
   ]
  },
  {
   "cell_type": "code",
   "execution_count": null,
   "metadata": {
    "ExecuteTime": {
     "end_time": "2024-04-11T13:37:14.081806Z",
     "start_time": "2024-04-11T13:37:14.079251Z"
    }
   },
   "outputs": [],
   "source": [
    "# FILL GREEN PARTS !\n",
    "number_adjustment_spectrogram = 2\n",
    "file_list = []"
   ]
  },
  {
   "cell_type": "code",
   "execution_count": null,
   "metadata": {
    "ExecuteTime": {
     "end_time": "2024-04-11T13:37:25.993697Z",
     "start_time": "2024-04-11T13:37:15.436458Z"
    },
    "tags": []
   },
   "outputs": [],
   "source": [
    "# JUST RUN THIS CELL : NOTHING TO FILL !\n",
    "\n",
    "orig_metadata = pd.read_csv(\n",
    "    dataset._get_original_after_build().joinpath(\"metadata.csv\"), header=0\n",
    ")\n",
    "orig_dura = orig_metadata[\"audio_file_origin_duration\"][0]\n",
    "orig_sr = orig_metadata[\"origin_sr\"][0]\n",
    "\n",
    "origin_files = glob.glob(\n",
    "    path_osmose_dataset\n",
    "    + f\"{campaign_name}/{dataset_name}/data/audio/{orig_dura}_{orig_sr}/*wav\"\n",
    ")\n",
    "temp_adjustment_output_dir = (\n",
    "    path_osmose_dataset\n",
    "    + f\"{campaign_name}/{dataset_name}/data/audio/temp_{dataset.spectro_duration}_{dataset.dataset_sr}\"\n",
    ")\n",
    "\n",
    "if (\n",
    "    dataset.data_normalization == \"zscore\"\n",
    "    and dataset.spectro_normalization != \"spectrum\"\n",
    "):\n",
    "    dataset.spectro_normalization = \"spectrum\"\n",
    "    print(\n",
    "        \"WARNING: the spectrogram normalization has been changed to spectrum because the data will be normalized using zscore.\"\n",
    "    )\n",
    "\n",
    "if len(file_list) > 0:\n",
    "    files_adjust = [temp_adjustment_output_dir + \"/\" + ff for ff in file_list]\n",
    "\n",
    "elif dataset.spectro_duration == orig_dura and dataset.dataset_sr == orig_sr:\n",
    "    files_adjust = random.sample(\n",
    "        origin_files, min(number_adjustment_spectrogram, len(origin_files))\n",
    "    )\n",
    "    files_adjust = files_adjust[:number_adjustment_spectrogram]\n",
    "\n",
    "else:\n",
    "    files_to_process = random.sample(\n",
    "        origin_files, min(number_adjustment_spectrogram, len(origin_files))\n",
    "    )\n",
    "\n",
    "    if os.path.exists(temp_adjustment_output_dir):\n",
    "        shutil.rmtree(temp_adjustment_output_dir)\n",
    "\n",
    "    reshaped = reshape(\n",
    "        input_files=files_to_process,\n",
    "        chunk_size=dataset.spectro_duration,\n",
    "        new_sr=dataset.dataset_sr,\n",
    "        output_dir_path=temp_adjustment_output_dir,\n",
    "        offset_beginning=0,\n",
    "        offset_end=0,\n",
    "        last_file_behavior=\"pad\",\n",
    "    )\n",
    "\n",
    "    files_adjust = glob.glob(temp_adjustment_output_dir + \"/*wav\")\n",
    "    files_adjust = files_adjust[:number_adjustment_spectrogram]\n",
    "\n",
    "for audio_file in files_adjust:\n",
    "    dataset.process_file(audio_file, adjust=True)\n",
    "\n",
    "dataset.save_spectro_metadata(True)"
   ]
  },
  {
   "cell_type": "markdown",
   "metadata": {},
   "source": [
    "# Generate spectrograms\n",
    "\n",
    "- `dataset.batch_number` indicates the number of concurrent jobs. A higher number can speed things up until a certain point. It still does not work very well.\n",
    "\n",
    "- If you create your spectrograms for an APLOSE campaign, set - `write_datasets_csv_for_APLOSE=True` below !\n",
    "\n",
    "- The variable below `save_matrix` should be set to True if you want to generate the numpy matrices along your png spectrograms"
   ]
  },
  {
   "cell_type": "code",
   "execution_count": null,
   "metadata": {
    "ExecuteTime": {
     "end_time": "2024-04-11T13:37:36.681750Z",
     "start_time": "2024-04-11T13:37:36.675362Z"
    }
   },
   "outputs": [],
   "source": [
    "# FILL GREEN PARTS !\n",
    "dataset.batch_number = 5\n",
    "\n",
    "write_datasets_csv_for_APLOSE = False\n",
    "\n",
    "save_matrix = False"
   ]
  },
  {
   "cell_type": "markdown",
   "metadata": {},
   "source": [
    "#### Segmentation\n"
   ]
  },
  {
   "cell_type": "code",
   "execution_count": null,
   "metadata": {
    "ExecuteTime": {
     "end_time": "2024-04-11T13:37:41.144912Z",
     "start_time": "2024-04-11T13:37:40.333416Z"
    }
   },
   "outputs": [],
   "source": [
    "dataset.initialize(\n",
    "    env_name=sys.executable.replace(\"/bin/python\", \"\"),\n",
    "    force_init=True,\n",
    "    last_file_behavior=\"discard\",\n",
    ")"
   ]
  },
  {
   "cell_type": "markdown",
   "metadata": {},
   "source": [
    "#### Spectrogram generation"
   ]
  },
  {
   "cell_type": "code",
   "execution_count": null,
   "metadata": {
    "ExecuteTime": {
     "end_time": "2024-04-11T13:39:17.907869Z",
     "start_time": "2024-04-11T13:39:17.365269Z"
    },
    "scrolled": false
   },
   "outputs": [],
   "source": [
    "# JUST RUN THIS CELL : NOTHING TO FILL !\n",
    "\n",
    "# add entry to dataset csv file\n",
    "if write_datasets_csv_for_APLOSE is True:\n",
    "\n",
    "    dataset_info = {\n",
    "        \"project\": campaign_name,\n",
    "        \"dataset\": dataset.name,\n",
    "        \"spectro_duration\": f\"{dataset.spectro_duration}\",\n",
    "        \"dataset_sr\": f\"{dataset.dataset_sr}\",\n",
    "        \"files_type\": \".wav\",\n",
    "        \"identifier\": campaign_name\n",
    "        + \"_\"\n",
    "        + dataset.name\n",
    "        + \"_\"\n",
    "        + str(dataset.spectro_duration)\n",
    "        + \"_\"\n",
    "        + str(dataset.dataset_sr),\n",
    "    }\n",
    "    dataset_info = pd.DataFrame(dataset_info, index=[0])\n",
    "\n",
    "    add_entry_for_APLOSE(\n",
    "        path=path_osmose_dataset, file=\"datasets_copy.csv\", info=dataset_info\n",
    "    )\n",
    "\n",
    "# compute expected_nber_segmented_files\n",
    "if (\n",
    "    dataset.spectro_duration\n",
    "    != pd.read_csv(\n",
    "        str(dataset._get_original_after_build()) + \"/metadata.csv\", header=0\n",
    "    )[\"audio_file_origin_duration\"][0]\n",
    "):\n",
    "    origin_file_metadata = pd.read_csv(\n",
    "        str(dataset._get_original_after_build()) + \"/file_metadata.csv\"\n",
    "    )\n",
    "    nber_files_to_process = 0\n",
    "    for dd in origin_file_metadata[\"duration\"].values:\n",
    "        nber_files_to_process += dd / (\n",
    "            dataset.spectro_duration - dataset.audio_file_overlap\n",
    "        )\n",
    "    nber_files_to_process = int(nber_files_to_process)\n",
    "else:\n",
    "    nber_files_to_process = pd.read_csv(\n",
    "        str(dataset._get_original_after_build()) + \"/metadata.csv\", header=0\n",
    "    )[\"audio_file_count\"][0]\n",
    "\n",
    "batch_size = nber_files_to_process // dataset.batch_number\n",
    "\n",
    "dataset.save_spectro_metadata(False)\n",
    "\n",
    "for batch in range(dataset.batch_number):\n",
    "    i_min = batch * batch_size\n",
    "    i_max = (\n",
    "        i_min + batch_size\n",
    "        if batch < dataset.batch_number - 1\n",
    "        else nber_files_to_process\n",
    "    )  # If it is the last batch, take all files\n",
    "\n",
    "    jobfile = jb.build_job_file(\n",
    "        script_path=Path(\n",
    "            os.path.abspath(\"../src\"), \"qsub_spectrogram_generator_pkg.py\"\n",
    "        ),\n",
    "        script_args=f\"--dataset-path {dataset.path}\\\n",
    "                --dataset-sr {dataset.dataset_sr} \\\n",
    "                --batch-ind-min {i_min}\\\n",
    "                --batch-ind-max {i_max}\\\n",
    "                {'--save-matrix' if save_matrix else ''}\",\n",
    "        jobname=\"OSmOSE_SpectroGenerator\",\n",
    "        preset=\"low\",\n",
    "        env_name=sys.executable.replace(\"/bin/python\", \"\"),\n",
    "        mem=\"70G\",\n",
    "        walltime=\"10:00:00\",\n",
    "        logdir=dataset.path.joinpath(\"log\"),\n",
    "    )\n",
    "\n",
    "pending_jobs = [\n",
    "    jobid\n",
    "    for jobid in dataset.pending_jobs\n",
    "    if b\"finished\" not in subprocess.run([\"qstat\", jobid], capture_output=True).stderr\n",
    "]\n",
    "job_id_list = jb.submit_job(dependency=pending_jobs)  # submit all built job files\n",
    "nb_jobs = len(jb.finished_jobs) + len(job_id_list)\n",
    "\n",
    "print(f\"The job ids are {job_id_list}\")"
   ]
  },
  {
   "cell_type": "markdown",
   "metadata": {},
   "source": [
    "# Track progress"
   ]
  },
  {
   "cell_type": "code",
   "execution_count": null,
   "metadata": {
    "ExecuteTime": {
     "end_time": "2024-04-11T13:49:54.343111Z",
     "start_time": "2024-04-11T13:49:54.325670Z"
    }
   },
   "outputs": [],
   "source": [
    "# JUST RUN THIS CELL : NOTHING TO FILL !\n",
    "\n",
    "nber_audio_files = len(list(dataset.audio_path.glob(\"*wav\")))\n",
    "nber_spectros = len(list(dataset.path_output_spectrogram.glob(\"*png\")))\n",
    "\n",
    "if nber_audio_files == nber_files_to_process:\n",
    "    status = \"DONE\"\n",
    "else:\n",
    "    status = \"ONGOING\"\n",
    "\n",
    "print(\n",
    "    \"o Audio file preparation : \" + status + \" (\",\n",
    "    nber_audio_files,\n",
    "    \"/\",\n",
    "    str(nber_files_to_process),\n",
    "    \")\",\n",
    ")\n",
    "\n",
    "if nber_spectros == nber_files_to_process * sum(\n",
    "    2**i for i in range(dataset.zoom_level + 1)\n",
    "):\n",
    "    status = \"DONE\"\n",
    "else:\n",
    "    status = \"ONGOING\"\n",
    "\n",
    "print(\n",
    "    \"o Spectrogram generation : \" + status + \" (\",\n",
    "    nber_spectros,\n",
    "    \"/\",\n",
    "    str(nber_files_to_process * sum(2**i for i in range(dataset.zoom_level + 1))),\n",
    "    \")\",\n",
    ")"
   ]
  }
 ],
 "metadata": {
  "kernelspec": {
   "display_name": "Python [conda env:osmose]",
   "language": "python",
   "name": "conda-env-osmose-py"
  },
  "language_info": {
   "codemirror_mode": {
    "name": "ipython",
    "version": 3
   },
   "file_extension": ".py",
   "mimetype": "text/x-python",
   "name": "python",
   "nbconvert_exporter": "python",
   "pygments_lexer": "ipython3",
   "version": "3.10.13"
  },
  "vscode": {
   "interpreter": {
    "hash": "038fb172a99c9b7ee7474e984b9ff4962ea47b0ef555bcc216ed798a8387f59b"
   }
  }
 },
 "nbformat": 4,
 "nbformat_minor": 4
}
