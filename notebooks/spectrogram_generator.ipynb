{
 "metadata": {
  "kernelspec": {
   "name": "python",
   "display_name": "Python (Pyodide)",
   "language": "python"
  },
  "language_info": {
   "codemirror_mode": {
    "name": "python",
    "version": 3
   },
   "file_extension": ".py",
   "mimetype": "text/x-python",
   "name": "python",
   "nbconvert_exporter": "python",
   "pygments_lexer": "ipython3",
   "version": "3.8"
  },
  "vscode": {
   "interpreter": {
    "hash": "038fb172a99c9b7ee7474e984b9ff4962ea47b0ef555bcc216ed798a8387f59b"
   }
  }
 },
 "nbformat_minor": 4,
 "nbformat": 4,
 "cells": [
  {
   "cell_type": "markdown",
   "source": "# PREAMBULE\nHere are imported a few librairies to run the codes",
   "metadata": {
    "ExecuteTime": {
     "end_time": "2024-07-17T09:00:38.919656Z",
     "start_time": "2024-07-17T09:00:38.916729Z"
    }
   }
  },
  {
   "cell_type": "code",
   "source": "# FILL IN RED PARTS !\nimport os\nimport sys\nimport pandas as pd\nimport numpy as np\nimport glob\nimport subprocess\nfrom pathlib import Path\n\nfrom OSmOSE import Spectrogram, Job_builder\nfrom OSmOSE.cluster import reshape\nfrom OSmOSE.utils import display_folder_storage_info, list_dataset\n\nsys.path.append(r\"../src\")\nfrom utils_datarmor import (\n    adjust_spectro,\n    generate_spectro,\n    display_progress,\n    monitor_job,\n)\n\npath_osmose_home = Path(r\"/home/datawork-osmose/\")\npath_osmose_dataset = path_osmose_home / \"dataset\"\n\njb = Job_builder()\n\ndisplay_folder_storage_info(dir_path=path_osmose_home)",
   "metadata": {
    "ExecuteTime": {
     "start_time": "2024-09-18T09:54:13.878Z"
    },
    "trusted": true
   },
   "outputs": [],
   "execution_count": null
  },
  {
   "cell_type": "markdown",
   "source": "`list_dataset` take as an argument the path to the datasets : `path_osmose` and the campaign path which is a optional argument in the case where several datasets are grouped into a single folder, leave `campaign = \"\"` if the dataset is directly located in `path_osmose`",
   "metadata": {}
  },
  {
   "cell_type": "code",
   "source": [
    "# FILL IN RED PARTS !\n",
    "list_dataset(path_osmose=path_osmose_dataset, project=\"drift_dives_SES\")"
   ],
   "metadata": {
    "ExecuteTime": {
     "start_time": "2024-09-18T09:54:15.726Z"
    },
    "trusted": true
   },
   "outputs": [],
   "execution_count": null
  },
  {
   "cell_type": "markdown",
   "source": "## Summary\n\n**I. Select dataset** : choose your dataset to be processed and get key metadata on it\n\n**II. Configure spectrograms** : define all spectrogram parameters, and adjust them based on spectrograms computed on the fly\n\n**III. Generate spectrograms** : launch the complete generation of spectrograms",
   "metadata": {}
  },
  {
   "cell_type": "markdown",
   "source": "# I. Select dataset \n\nIf your dataset is part of a recording campaign, please provide its name with `campaign_name` ; in that case your dataset should be present in `home/datawork-osmose/dataset/{campaign_name}/{dataset_name}`. Otherwise let the default value `campaign_name = \"\"`.",
   "metadata": {}
  },
  {
   "cell_type": "code",
   "source": "# FILL IN RED PARTS !\nproject_name = \"drift_dives_SES\"\ndataset_name = \"test_math\"\n\ndataset = Spectrogram(\n    dataset_path=Path(path_osmose_dataset, project_name, dataset_name),\n    owner_group=\"gosmose\",\n    local=False,\n)\n\nprint(dataset)",
   "metadata": {
    "ExecuteTime": {
     "start_time": "2024-09-18T09:54:16.925Z"
    },
    "trusted": true
   },
   "outputs": [],
   "execution_count": null
  },
  {
   "cell_type": "markdown",
   "source": "# II. Configure spectrograms",
   "metadata": {}
  },
  {
   "cell_type": "markdown",
   "source": "The two following parameters `spectro_duration` (in s) and `dataset_sr` (in Hz) will allow you to process your data using different file durations (ie segmentation) and/or sampling rate (ie resampling) parameters. `spectro_duration` is the maximal duration of the spectrogram display window.\n\nTo process audio files from your original folder (ie without any segmentation and/or resampling operations), use the original audio file duration and sample rate parameters estimated at your dataset uploading (they are printed in the previous cell). ",
   "metadata": {}
  },
  {
   "cell_type": "code",
   "source": "# FILL IN GREEN PARTS !\ndataset.campaign = project_name\ndataset.spectro_duration = 1200  # seconds\ndataset.dataset_sr = 500  # Hz",
   "metadata": {
    "ExecuteTime": {
     "start_time": "2024-09-18T09:54:18.173Z"
    },
    "trusted": true
   },
   "outputs": [],
   "execution_count": null
  },
  {
   "cell_type": "markdown",
   "source": "Then, you can set the value of `zoom_levels`, which is an integer corresponding to the number of zoom levels you want (they are used in our web-based annotation tool APLOSE).\nWith `zoom_levels = 0`, your shortest spectrogram display window has a duration of `spectro_duration` seconds (that is no zoom at all) ; with `zoom_levels = 1`, a duration of `spectro_duration`/2 seconds ; with `zoom_levels = 2`, a duration of `spectro_duration`/4 seconds.",
   "metadata": {}
  },
  {
   "cell_type": "code",
   "source": "# FILL IN GREEN PARTS !\ndataset.zoom_level = 0",
   "metadata": {
    "ExecuteTime": {
     "start_time": "2024-09-18T09:54:18.765Z"
    },
    "trusted": true
   },
   "outputs": [],
   "execution_count": null
  },
  {
   "cell_type": "markdown",
   "source": "After that, you can set the following classical spectrogram parameters : `nfft` (in samples), `winsize` (in samples), `overlap` (in \\%). **Note that with those parameters you set the resolution of your spectrogram display window with the smallest duration, obtained with the highest zoom level.**",
   "metadata": {}
  },
  {
   "cell_type": "code",
   "source": "# FILL IN GREEN PARTS !\ndataset.nfft = 1024\ndataset.window_size = 4096\ndataset.overlap = 50",
   "metadata": {
    "ExecuteTime": {
     "start_time": "2024-09-18T09:54:20.052Z"
    },
    "trusted": true
   },
   "outputs": [],
   "execution_count": null
  },
  {
   "cell_type": "markdown",
   "source": "In case of audio segmentation, you can use the following variable `audio_file_overlap` (in seconds, default value = 0) to set an overlap in seconds between two consecutive segments.",
   "metadata": {}
  },
  {
   "cell_type": "code",
   "source": "# FILL IN GREEN PARTS !\ndataset.audio_file_overlap = 0",
   "metadata": {
    "ExecuteTime": {
     "start_time": "2024-09-18T09:54:20.645Z"
    },
    "trusted": true
   },
   "outputs": [],
   "execution_count": null
  },
  {
   "cell_type": "markdown",
   "source": "In case you do not want to concatenate your audio files, set following variable `dataset.concat` to `False` (default value = `True`). Otherwise, data will be concatenated then segmented according to `dataset.spectro_duration` parameter.",
   "metadata": {}
  },
  {
   "cell_type": "code",
   "source": "dataset.concat = True",
   "metadata": {
    "ExecuteTime": {
     "start_time": "2024-09-18T09:54:21.500Z"
    },
    "trusted": true
   },
   "outputs": [],
   "execution_count": null
  },
  {
   "cell_type": "markdown",
   "source": "### Amplitude normalization \n\nEventually, we also propose different modes of data/spectrogram normalization.\n\nNormalization over raw data samples with the variable `data_normalization` (default value `'none'`, i.e. no normalization) :\n- instrument-based normalization with the three parameters `sensitivity_dB` (in dB, default value = 0), `gain` (in dB, default value = 0) and `peak_voltage` (in V, default value = 1). Using default values, no normalization will be performed ;\n\n- z-score normalization over a given time period through the variable `zscore_duration`, applied directly on your raw timeseries. The possible values are:\n    - `zscore_duration = 'original'` : the audio file duration will be used as time period ;\n    - `zscore_duration = '10H'` : any time period put as a string using classical [time alias](https://pandas.pydata.org/pandas-docs/stable/user_guide/timeseries.html#timeseries-offset-aliases). This period should be higher than your file duration. \n\nNormalization over spectra with the variable `spectro_normalization` (default value `'density'`, see OSmOSEanalytics/documentation/theory_spectrogram.pdf for details) :\n- density-based normalization by setting `spectro_normalization = 'density'`\n- spectrum-based normalization by setting `spectro_normalization = 'spectrum'` \n\nIn the cell below, you can also have access to the amplitude dynamics in dB throuh the parameters `dynamic_max` and `dynamic_min`, the colormap `spectro_colormap` to be used (see possible options in the [documentation](https://matplotlib.org/stable/tutorials/colors/colormaps.html)) and specify the frequency cut `HPfilter_freq_min` of a high-pass filter if needed.",
   "metadata": {}
  },
  {
   "cell_type": "code",
   "source": [
    "# FILL IN GREEN and RED PARTS !\n",
    "dataset.data_normalization = \"zscore\"  # 'instrument' OR 'zscore' OR 'none'\n",
    "dataset.zscore_duration = (\n",
    "    \"original\"  # parameter for 'zscore' mode, values = time alias OR 'original'\n",
    ")\n",
    "\n",
    "dataset.sensitivity = -169.7  # parameter for 'instrument' mode\n",
    "dataset.gain_dB = 0  # parameter for 'instrument' mode\n",
    "dataset.peak_voltage = 2  # parameter for 'instrument' mode\n",
    "\n",
    "dataset.spectro_normalization = \"spectrum\"  # 'density' OR 'spectrum'\n",
    "dataset.spectro_colormap = \"viridis\"\n",
    "dataset.dynamic_max = 40  # dB\n",
    "dataset.dynamic_min = -40  # dB\n",
    "dataset.hp_filter_min_freq = 1  # Hz"
   ],
   "metadata": {
    "ExecuteTime": {
     "start_time": "2024-09-18T09:54:23.557Z"
    },
    "trusted": true
   },
   "outputs": [],
   "execution_count": null
  },
  {
   "cell_type": "markdown",
   "source": "You can now check the size of your spectrogram resulting from those parameters",
   "metadata": {}
  },
  {
   "cell_type": "code",
   "source": "# JUST RUN THIS CELL : NOTHING TO FILL IN!\ndataset.check_spectro_size()",
   "metadata": {
    "ExecuteTime": {
     "start_time": "2024-09-18T09:54:24.964Z"
    },
    "trusted": true
   },
   "outputs": [],
   "execution_count": null
  },
  {
   "cell_type": "markdown",
   "source": "### Adjust spectrogram parameters\n\nIn the cell below you can visualize some spectrograms computed on the fly",
   "metadata": {}
  },
  {
   "cell_type": "markdown",
   "source": "- `number_adjustment_spectrograms` is the number of spectrogram examples used to adjust your parameters\n\n- You can use the variable `file_list` in the cell below to adjust your spectrogram parameters using specific files; be careful these files must be present in a `temp_adjustment_output_dir` folder computed with a random selection; put their names in this list as follows, eg `file_list = ['file1.wav','file2.wav']` otherwise set `file_list` to an empty list `[]`",
   "metadata": {}
  },
  {
   "cell_type": "code",
   "source": "# FILL IN GREEN and RED PARTS !\nnumber_adjustment_spectrogram = 1\nfile_list = []",
   "metadata": {
    "ExecuteTime": {
     "end_time": "2024-09-18T08:46:57.754713Z",
     "start_time": "2024-09-18T08:46:57.750250Z"
    },
    "trusted": true
   },
   "outputs": [],
   "execution_count": null
  },
  {
   "cell_type": "code",
   "source": "# JUST RUN THIS CELL : NOTHING TO FILL IN!\nadjust_spectro(\n    dataset=dataset,\n    number_adjustment_spectrogram=number_adjustment_spectrogram,\n    file_list=file_list,\n)",
   "metadata": {
    "ExecuteTime": {
     "end_time": "2024-09-18T08:47:18.018150Z",
     "start_time": "2024-09-18T08:47:00.294548Z"
    },
    "trusted": true
   },
   "outputs": [],
   "execution_count": null
  },
  {
   "cell_type": "markdown",
   "source": "# III. Generate spectrograms\n\n- `dataset.batch_number` indicates the number of concurrent jobs. A higher number can speed things up until a certain point. It still does not work very well.\n\n- **If you create your spectrograms for an APLOSE campaign, set** `write_datasets_csv_for_APLOSE=True` **below !**\n\n- The variable below `save_matrix` should be set to True if you want to generate the numpy matrices along your png spectrograms",
   "metadata": {}
  },
  {
   "cell_type": "code",
   "source": "# FILL IN GREEN PARTS !\ndataset.batch_number = 1\nwrite_datasets_csv_for_APLOSE = False\nsave_matrix = False\nsave_welch = False",
   "metadata": {
    "ExecuteTime": {
     "start_time": "2024-09-18T09:54:28.068Z"
    },
    "trusted": true
   },
   "outputs": [],
   "execution_count": null
  },
  {
   "cell_type": "markdown",
   "source": "You can set `datetime_begin` and `datetime_end` so that the reshaped audio files and spectrograms begin and end at specified datetimes.\n**Note that If you want to keep the original begin and end datetimes, set those variable to `None`.**",
   "metadata": {}
  },
  {
   "cell_type": "code",
   "source": [
    "# datetime_begin = '2018-10-25T00:00:00+0000'\n",
    "# datetime_end = '2018-10-30T00:00:00+0000'\n",
    "\n",
    "datetime_begin = None\n",
    "datetime_end = None"
   ],
   "metadata": {
    "ExecuteTime": {
     "start_time": "2024-09-18T09:54:28.853Z"
    },
    "trusted": true
   },
   "outputs": [],
   "execution_count": null
  },
  {
   "cell_type": "markdown",
   "source": "### Segmentation\n",
   "metadata": {}
  },
  {
   "cell_type": "code",
   "source": "# JUST RUN THIS CELL : NOTHING TO FILL IN!\ndataset.initialize(\n    env_name=sys.executable.replace(\"/bin/python\", \"\"),\n    force_init=True,\n    datetime_begin=datetime_begin,\n    datetime_end=datetime_end,\n)",
   "metadata": {
    "ExecuteTime": {
     "start_time": "2024-09-18T09:54:30.333Z"
    },
    "trusted": true
   },
   "outputs": [],
   "execution_count": null
  },
  {
   "cell_type": "markdown",
   "source": "### Spectrogram generation",
   "metadata": {}
  },
  {
   "cell_type": "code",
   "source": "# JUST RUN THIS CELL : NOTHING TO FILL IN!\ngenerate_spectro(\n    dataset=dataset,\n    path_osmose_dataset=path_osmose_dataset,\n    write_datasets_csv_for_APLOSE=write_datasets_csv_for_APLOSE,\n    overwrite=False,\n    save_matrix=save_matrix,\n    save_welch=save_welch,\n    datetime_begin=datetime_begin,\n    datetime_end=datetime_end,\n)",
   "metadata": {
    "ExecuteTime": {
     "end_time": "2024-09-09T07:22:48.786090Z",
     "start_time": "2024-09-09T07:22:47.458431Z"
    },
    "trusted": true
   },
   "outputs": [],
   "execution_count": null
  },
  {
   "cell_type": "markdown",
   "source": "### Track progress\n\nYou can monitor the segmentation and the spectrogram generation here",
   "metadata": {}
  },
  {
   "cell_type": "code",
   "source": "# JUST RUN THIS CELL : NOTHING TO FILL IN!\ndisplay_progress(dataset, datetime_begin=datetime_begin, datetime_end=datetime_end)",
   "metadata": {
    "ExecuteTime": {
     "start_time": "2024-09-18T09:54:37.670Z"
    },
    "trusted": true
   },
   "outputs": [],
   "execution_count": null
  },
  {
   "cell_type": "markdown",
   "source": "You can also monitor jobs status here",
   "metadata": {}
  },
  {
   "cell_type": "code",
   "source": "# FILL IN RED PART !\nmonitor_job(dataset)",
   "metadata": {
    "ExecuteTime": {
     "end_time": "2024-09-18T08:33:31.788424Z",
     "start_time": "2024-09-18T08:33:31.471805Z"
    },
    "trusted": true
   },
   "outputs": [],
   "execution_count": null
  },
  {
   "cell_type": "markdown",
   "source": "You can also monitor the jobs in a terminal using the command `qstat -u username`",
   "metadata": {
    "ExecuteTime": {
     "end_time": "2024-07-17T13:06:50.699047Z",
     "start_time": "2024-07-17T13:06:50.694826Z"
    }
   }
  }
 ]
}