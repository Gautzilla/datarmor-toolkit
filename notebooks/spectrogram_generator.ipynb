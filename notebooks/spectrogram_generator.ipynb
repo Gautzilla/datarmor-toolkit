{
 "cells": [
  {
   "cell_type": "markdown",
   "metadata": {
    "ExecuteTime": {
     "end_time": "2024-07-17T09:00:38.919656Z",
     "start_time": "2024-07-17T09:00:38.916729Z"
    }
   },
   "source": [
    "# PREAMBULE\n",
    "Here are imported a few librairies to run the codes\n",
    "You simply have to adapt `path_osmose_home` which points to OSmOSE working directory\n"
   ]
  },
  {
   "cell_type": "code",
   "execution_count": null,
   "metadata": {
    "ExecuteTime": {
     "end_time": "2024-07-17T13:30:57.261883Z",
     "start_time": "2024-07-17T13:30:57.255267Z"
    }
   },
   "outputs": [],
   "source": [
    "# FILL IN RED PARTS !\n",
    "import os\n",
    "import sys\n",
    "import pandas as pd\n",
    "import numpy as np\n",
    "import glob\n",
    "import subprocess\n",
    "from pathlib import Path\n",
    "\n",
    "from OSmOSE import Spectrogram, Job_builder\n",
    "from OSmOSE.cluster import reshape\n",
    "from OSmOSE.utils import display_folder_storage_info, list_dataset\n",
    "\n",
    "sys.path.append(r'../src') # Relative path to datarmor toolkit functions\n",
    "from utils_datarmor import adjust_spectro, generate_spectro, display_progress, monitor_job\n",
    "\n",
    "path_osmose_home = r\"/home/datawork-osmose/\"\n",
    "path_osmose_dataset = os.path.join(path_osmose_home, 'dataset')\n",
    "\n",
    "jb = Job_builder()\n",
    "\n",
    "display_folder_storage_info(path_osmose_home)"
   ]
  },
  {
   "cell_type": "code",
   "execution_count": null,
   "metadata": {
    "ExecuteTime": {
     "end_time": "2024-07-17T13:32:58.644879Z",
     "start_time": "2024-07-17T13:32:58.392116Z"
    }
   },
   "outputs": [],
   "source": [
    "# FILL IN RED PARTS !\n",
    "list_dataset(path_osmose_dataset, '')"
   ]
  },
  {
   "cell_type": "markdown",
   "metadata": {},
   "source": [
    "## Summary\n",
    "\n",
    "**I. Select dataset** : choose your dataset to be processed and get key metadata on it\n",
    "\n",
    "**II. Configure spectrograms** : define all spectrogram parameters, and adjust them based on spectrograms computed on the fly\n",
    "\n",
    "**III. Generate spectrograms** : launch the complete generation of spectrograms"
   ]
  },
  {
   "cell_type": "markdown",
   "metadata": {},
   "source": [
    "# I. Select dataset \n",
    "\n",
    "If your dataset is part of a recording campaign, please provide its name with `campaign_name` ; in that case your dataset should be present in `home/datawork-osmose/dataset/{campaign_name}/{dataset_name}`. Otherwise let the default value `campaign_name = \"\"`."
   ]
  },
  {
   "cell_type": "code",
   "execution_count": null,
   "metadata": {
    "ExecuteTime": {
     "end_time": "2024-07-17T13:30:29.360979Z",
     "start_time": "2024-07-17T13:30:29.309129Z"
    }
   },
   "outputs": [],
   "source": [
    "# FILL IN RED PARTS !\n",
    "\n",
    "dataset_name = \"APOCADO_test_flac\" \n",
    "campaign_name = \"\"\n",
    "\n",
    "dataset = Spectrogram(dataset_path=Path(path_osmose_dataset, campaign_name, dataset_name), owner_group=\"gosmose\", local=False, verbose=False)\n",
    "\n",
    "print(dataset)"
   ]
  },
  {
   "cell_type": "markdown",
   "metadata": {},
   "source": [
    "# II. Configure spectrograms"
   ]
  },
  {
   "cell_type": "markdown",
   "metadata": {},
   "source": [
    "The two following parameters `spectro_duration` (in s) and `dataset_sr` (in Hz) will allow you to process your data using different file durations (ie segmentation) and/or sampling rate (ie resampling) parameters. `spectro_duration` is the maximal duration of the spectrogram display window.\n",
    "\n",
    "To process audio files from your original folder (ie without any segmentation and/or resampling operations), use the original audio file duration and sample rate parameters estimated at your dataset uploading (they are printed in the previous cell). "
   ]
  },
  {
   "cell_type": "code",
   "execution_count": null,
   "metadata": {
    "ExecuteTime": {
     "end_time": "2024-07-17T13:30:31.320835Z",
     "start_time": "2024-07-17T13:30:31.318416Z"
    }
   },
   "outputs": [],
   "source": [
    "# FILL IN GREEN PARTS !\n",
    "dataset.spectro_duration = 20 # seconds\n",
    "dataset.dataset_sr = 96000 # Hz"
   ]
  },
  {
   "cell_type": "markdown",
   "metadata": {},
   "source": [
    "Then, you can set the value of `zoom_levels`, which is an integer corresponding to the number of zoom levels you want (they are used in our web-based annotation tool APLOSE).\n",
    "With `zoom_levels = 0`, your shortest spectrogram display window has a duration of `spectro_duration` seconds (that is no zoom at all) ; with `zoom_levels = 1`, a duration of `spectro_duration`/2 seconds ; with `zoom_levels = 2`, a duration of `spectro_duration`/4 seconds."
   ]
  },
  {
   "cell_type": "code",
   "execution_count": null,
   "metadata": {
    "ExecuteTime": {
     "end_time": "2024-07-17T13:30:32.872122Z",
     "start_time": "2024-07-17T13:30:32.869806Z"
    }
   },
   "outputs": [],
   "source": [
    "# FILL IN GREEN PARTS !\n",
    "dataset.zoom_level = 0"
   ]
  },
  {
   "cell_type": "markdown",
   "metadata": {},
   "source": [
    "After that, you can set the following classical spectrogram parameters : `nfft` (in samples), `winsize` (in samples), `overlap` (in \\%). **Note that with those parameters you set the resolution of your spectrogram display window with the smallest duration, obtained with the highest zoom level.**"
   ]
  },
  {
   "cell_type": "code",
   "execution_count": null,
   "metadata": {
    "ExecuteTime": {
     "end_time": "2024-07-17T13:30:33.839447Z",
     "start_time": "2024-07-17T13:30:33.836954Z"
    }
   },
   "outputs": [],
   "source": [
    "# FILL IN GREEN PARTS !\n",
    "dataset.nfft = 1024\n",
    "dataset.window_size = 1024\n",
    "dataset.overlap = 50"
   ]
  },
  {
   "cell_type": "markdown",
   "metadata": {},
   "source": [
    "In case of audio segmentation, you can use the following variable `audio_file_overlap` (in seconds, default value = 0) to set an overlap in seconds between two consecutive segments."
   ]
  },
  {
   "cell_type": "code",
   "execution_count": null,
   "metadata": {
    "ExecuteTime": {
     "end_time": "2024-07-17T13:30:35.271680Z",
     "start_time": "2024-07-17T13:30:35.269331Z"
    }
   },
   "outputs": [],
   "source": [
    "# FILL IN GREEN PARTS !\n",
    "dataset.audio_file_overlap = 0"
   ]
  },
  {
   "cell_type": "markdown",
   "metadata": {},
   "source": [
    "### Amplitude normalization \n",
    "\n",
    "Eventually, we also propose different modes of data/spectrogram normalization.\n",
    "\n",
    "Normalization over raw data samples with the variable `data_normalization` (default value `'none'`, i.e. no normalization) :\n",
    "- instrument-based normalization with the three parameters `sensitivity_dB` (in dB, default value = 0), `gain` (in dB, default value = 0) and `peak_voltage` (in V, default value = 1). Using default values, no normalization will be performed ;\n",
    "\n",
    "- z-score normalization over a given time period through the variable `zscore_duration`, applied directly on your raw timeseries. The possible values are:\n",
    "    - `zscore_duration = 'original'` : the audio file duration will be used as time period ;\n",
    "    - `zscore_duration = '10H'` : any time period put as a string using classical [time alias](https://pandas.pydata.org/pandas-docs/stable/user_guide/timeseries.html#timeseries-offset-aliases). This period should be higher than your file duration. \n",
    "\n",
    "Normalization over spectra with the variable `spectro_normalization` (default value `'density'`, see OSmOSEanalytics/documentation/theory_spectrogram.pdf for details) :\n",
    "- density-based normalization by setting `spectro_normalization = 'density'`\n",
    "- spectrum-based normalization by setting `spectro_normalization = 'spectrum'` \n",
    "\n",
    "In the cell below, you can also have access to the amplitude dynamics in dB throuh the parameters `dynamic_max` and `dynamic_min`, the colormap `spectro_colormap` to be used (see possible options in the [documentation](https://matplotlib.org/stable/tutorials/colors/colormaps.html)) and specify the frequency cut `HPfilter_freq_min` of a high-pass filter if needed."
   ]
  },
  {
   "cell_type": "code",
   "execution_count": null,
   "metadata": {
    "ExecuteTime": {
     "end_time": "2024-07-17T13:30:37.299072Z",
     "start_time": "2024-07-17T13:30:37.295726Z"
    }
   },
   "outputs": [],
   "source": [
    "# FILL IN GREEN and RED PARTS !\n",
    "dataset.data_normalization = 'instrument' # 'instrument' OR 'zscore' OR 'none'\n",
    "dataset.zscore_duration = 'original' # parameter for 'zscore' mode, values = time alias OR 'original'\n",
    "\n",
    "dataset.sensitivity = -175.7 # parameter for 'instrument' mode\n",
    "dataset.gain_dB = 0 # parameter for 'instrument' mode\n",
    "dataset.peak_voltage = 2 # parameter for 'instrument' mode\n",
    "\n",
    "dataset.spectro_normalization = 'density' # 'density' OR 'spectrum' \n",
    "dataset.spectro_colormap = 'viridis'\n",
    "dataset.dynamic_max = 120 # dB\n",
    "dataset.dynamic_min = 0 # dB\n",
    "dataset.hp_filter_min_freq = 1 # Hz"
   ]
  },
  {
   "cell_type": "markdown",
   "metadata": {},
   "source": [
    "You can now check the size of your spectrogram resulting from those parameters"
   ]
  },
  {
   "cell_type": "code",
   "execution_count": null,
   "metadata": {
    "ExecuteTime": {
     "end_time": "2024-07-17T13:31:01.057251Z",
     "start_time": "2024-07-17T13:31:01.021392Z"
    }
   },
   "outputs": [],
   "source": [
    "# JUST RUN THIS CELL : NOTHING TO FILL IN!\n",
    "dataset.check_spectro_size()"
   ]
  },
  {
   "cell_type": "markdown",
   "metadata": {},
   "source": [
    "### Adjust spectrogram parameters\n",
    "\n",
    "In the cell below you can visualize some spectrograms computed on the fly"
   ]
  },
  {
   "cell_type": "markdown",
   "metadata": {},
   "source": [
    "- `number_adjustment_spectrograms` is the number of spectrogram examples used to adjust your parameters\n",
    "\n",
    "- You can use the variable `file_list` in the cell below to adjust your spectrogram parameters using specific files; be careful these files must be present in a `temp_adjustment_output_dir` folder computed with a random selection; put their names in this list as follows, eg `file_list = ['file1.wav','file2.wav']` otherwise set `file_list` to an empty list `[]`"
   ]
  },
  {
   "cell_type": "code",
   "execution_count": null,
   "metadata": {
    "ExecuteTime": {
     "end_time": "2024-07-17T13:33:08.825048Z",
     "start_time": "2024-07-17T13:33:08.822626Z"
    }
   },
   "outputs": [],
   "source": [
    "# FILL IN GREEN and RED PARTS !\n",
    "number_adjustment_spectrogram = 1\n",
    "file_list = []"
   ]
  },
  {
   "cell_type": "code",
   "execution_count": null,
   "metadata": {
    "ExecuteTime": {
     "end_time": "2024-07-17T13:33:46.922441Z",
     "start_time": "2024-07-17T13:33:10.862803Z"
    }
   },
   "outputs": [],
   "source": [
    "# JUST RUN THIS CELL : NOTHING TO FILL IN!\n",
    "adjust_spectro(dataset=dataset,\n",
    "               number_adjustment_spectrogram=number_adjustment_spectrogram,\n",
    "               file_list=file_list)"
   ]
  },
  {
   "cell_type": "markdown",
   "metadata": {},
   "source": [
    "# III. Generate spectrograms\n",
    "\n",
    "- `dataset.batch_number` indicates the number of concurrent jobs. A higher number can speed things up until a certain point. It still does not work very well.\n",
    "\n",
    "- **If you create your spectrograms for an APLOSE campaign, set** - `write_datasets_csv_for_APLOSE=True` **below !**\n",
    "\n",
    "- The variable below `save_matrix` should be set to True if you want to generate the numpy matrices along your png spectrograms"
   ]
  },
  {
   "cell_type": "code",
   "execution_count": null,
   "metadata": {
    "ExecuteTime": {
     "end_time": "2024-07-17T13:31:15.928786Z",
     "start_time": "2024-07-17T13:31:15.926281Z"
    }
   },
   "outputs": [],
   "source": [
    "# FILL IN GREEN PARTS !\n",
    "dataset.batch_number = 2\n",
    "write_datasets_csv_for_APLOSE = True\n",
    "save_matrix = False"
   ]
  },
  {
   "cell_type": "markdown",
   "metadata": {},
   "source": [
    "### Segmentation\n"
   ]
  },
  {
   "cell_type": "code",
   "execution_count": null,
   "metadata": {
    "ExecuteTime": {
     "end_time": "2024-07-17T13:31:19.300022Z",
     "start_time": "2024-07-17T13:31:18.672862Z"
    }
   },
   "outputs": [],
   "source": [
    "# JUST RUN THIS CELL : NOTHING TO FILL IN!\n",
    "dataset.initialize(env_name=sys.executable.replace(\"/bin/python\", \"\"),\n",
    "                   force_init=True,\n",
    "                   last_file_behavior='discard',\n",
    "                   reshape_method= \"none\")"
   ]
  },
  {
   "cell_type": "markdown",
   "metadata": {},
   "source": [
    "### Spectrogram generation"
   ]
  },
  {
   "cell_type": "code",
   "execution_count": null,
   "metadata": {
    "ExecuteTime": {
     "end_time": "2024-07-17T13:31:21.678718Z",
     "start_time": "2024-07-17T13:31:21.303966Z"
    },
    "scrolled": false
   },
   "outputs": [],
   "source": [
    "# JUST RUN THIS CELL : NOTHING TO FILL IN!\n",
    "generate_spectro(dataset=dataset,\n",
    "                 campaign_name = campaign_name,\n",
    "                 path_osmose_dataset=path_osmose_dataset,\n",
    "                 write_datasets_csv_for_APLOSE = write_datasets_csv_for_APLOSE,\n",
    "                 save_matrix=save_matrix)"
   ]
  },
  {
   "cell_type": "markdown",
   "metadata": {},
   "source": [
    "### Track progress\n",
    "\n",
    "You can also monitor the segmentation and the spectrogram generation here"
   ]
  },
  {
   "cell_type": "code",
   "execution_count": null,
   "metadata": {
    "ExecuteTime": {
     "end_time": "2024-07-17T13:31:24.332891Z",
     "start_time": "2024-07-17T13:31:24.327132Z"
    }
   },
   "outputs": [],
   "source": [
    "# JUST RUN THIS CELL : NOTHING TO FILL IN!\n",
    "display_progress(dataset)"
   ]
  },
  {
   "cell_type": "markdown",
   "metadata": {},
   "source": [
    "You can monitor specific jobs status put their names in this list as follows, eg `file_list = ['job1_ID','job2_ID']` or `file_list = 'job1_ID'` for a single job"
   ]
  },
  {
   "cell_type": "code",
   "execution_count": null,
   "metadata": {
    "ExecuteTime": {
     "end_time": "2024-07-17T13:31:26.091338Z",
     "start_time": "2024-07-17T13:31:26.023822Z"
    }
   },
   "outputs": [],
   "source": [
    "# FILL IN RED PART !\n",
    "monitor_job(['9893958.datarmor0', '9893959.datarmor0', '9893960.datarmor0'])"
   ]
  },
  {
   "cell_type": "markdown",
   "metadata": {
    "ExecuteTime": {
     "end_time": "2024-07-17T13:06:50.699047Z",
     "start_time": "2024-07-17T13:06:50.694826Z"
    }
   },
   "source": [
    "You can also monitor the jobs in a terminal using the command `qstat -u username`"
   ]
  }
 ],
 "metadata": {
  "kernelspec": {
   "display_name": "Python [conda env:osmose]",
   "language": "python",
   "name": "conda-env-osmose-py"
  },
  "language_info": {
   "codemirror_mode": {
    "name": "ipython",
    "version": 3
   },
   "file_extension": ".py",
   "mimetype": "text/x-python",
   "name": "python",
   "nbconvert_exporter": "python",
   "pygments_lexer": "ipython3",
   "version": "3.10.13"
  },
  "vscode": {
   "interpreter": {
    "hash": "038fb172a99c9b7ee7474e984b9ff4962ea47b0ef555bcc216ed798a8387f59b"
   }
  }
 },
 "nbformat": 4,
 "nbformat_minor": 4
}
