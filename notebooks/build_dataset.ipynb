{
 "cells": [
  {
   "cell_type": "markdown",
   "metadata": {},
   "source": [
    "#### <span style=\"color:blue\">*JUST RUN CELL*</span>"
   ]
  },
  {
   "cell_type": "code",
   "execution_count": 1,
   "metadata": {},
   "outputs": [],
   "source": [
    "import os \n",
    "os.chdir(os.path.join(\"/home/datawork-osmose/\",'osmoseNotebooks_v0','source'))\n",
    "from launcher_buildDataset import *"
   ]
  },
  {
   "cell_type": "markdown",
   "metadata": {},
   "source": [
    "#### <span style=\"color:blue\">*JUST RUN CELL*</span>"
   ]
  },
  {
   "cell_type": "code",
   "execution_count": 2,
   "metadata": {},
   "outputs": [
    {
     "name": "stdout",
     "output_type": "stream",
     "text": [
      "Total storage space (TB): 20.0\n",
      "Used storage space (TB): 11.1\n",
      "-----------------------\n",
      "Available storage space (TB): 8.9\n"
     ]
    }
   ],
   "source": [
    "get_platform_storage_infos()"
   ]
  },
  {
   "cell_type": "markdown",
   "metadata": {},
   "source": [
    "#### <span style=\"color:blue\">*JUST RUN CELL*</span>"
   ]
  },
  {
   "cell_type": "code",
   "execution_count": 3,
   "metadata": {},
   "outputs": [
    {
     "name": "stdout",
     "output_type": "stream",
     "text": [
      "List of the datasets not built yet:\n",
      "  - MAHY01\n",
      "  - MPSU_ForestouHuella\n",
      "  - ohasisbio2015wker\n"
     ]
    }
   ],
   "source": [
    "list_not_builded_datasets()"
   ]
  },
  {
   "cell_type": "markdown",
   "metadata": {},
   "source": [
    "#### <span style=\"color:red\">*FILL & RUN CELL*</span>"
   ]
  },
  {
   "cell_type": "code",
   "execution_count": 4,
   "metadata": {},
   "outputs": [],
   "source": [
    "dataset_ID = 'MPSU_ForestouHuella'"
   ]
  },
  {
   "cell_type": "markdown",
   "metadata": {},
   "source": [
    "In case of fixed GPS coordinates, write them below in decimal degree [latitude , longitude] of your dataset (eg, `gps= [49 , -2]` ). If you have a mobile hydrophone, enter the name of the csv file containing the GPS coordinates with timestamps (eg, `gps= 'gps.csv'` ). This file should be present in `/raw/auxiliary/gps.csv`."
   ]
  },
  {
   "cell_type": "code",
   "execution_count": 5,
   "metadata": {},
   "outputs": [],
   "source": [
    "gps = [-65.18,140.58]#'gps.csv'"
   ]
  },
  {
   "cell_type": "markdown",
   "metadata": {},
   "source": [
    "#### <span style=\"color:blue\">*JUST RUN CELL*</span> "
   ]
  },
  {
   "cell_type": "code",
   "execution_count": null,
   "metadata": {},
   "outputs": [
    {
     "name": "stderr",
     "output_type": "stream",
     "text": [
      "100%|██████████| 34885/34885 [13:37<00:00, 42.69it/s]\n"
     ]
    },
    {
     "name": "stdout",
     "output_type": "stream",
     "text": [
      "%%%%%%%%%%%%%INTERWAV DURATION%%%%%%%%%%%%%%%%%%%%\n",
      "file inter-wav duration :                     0\n",
      "count   34884.000000\n",
      "mean      336.738906\n",
      "std      4838.505431\n",
      "min        59.000000\n",
      "25%       300.000000\n",
      "50%       300.000000\n",
      "75%       300.000000\n",
      "max    886577.000000 \n",
      "\n",
      "%%%%%%%%%%%%%SAMPLING RATE%%%%%%%%%%%%%%%%%%%%\n",
      "file sampling rate :               0\n",
      "count  34885.0\n",
      "mean   48000.0\n",
      "std        0.0\n",
      "min    48000.0\n",
      "25%    48000.0\n",
      "50%    48000.0\n",
      "75%    48000.0\n",
      "max    48000.0 \n",
      "\n",
      "%%%%%%%%%%%%%SIZE%%%%%%%%%%%%%%%%%%%%\n",
      "file size :                    0\n",
      "count  3.488500e+04\n",
      "mean   2.880360e+00\n",
      "std    8.881912e-16\n",
      "min    2.880360e+00\n",
      "25%    2.880360e+00\n",
      "50%    2.880360e+00\n",
      "75%    2.880360e+00\n",
      "max    2.880360e+00 \n",
      "\n",
      "%%%%%%%%%%%%%%%%%%%%%%%%%%%%%%%%%\n",
      "anormal files on SIZE: 0 / 34885\n",
      "%%%%%%%%%%%%%DURATION%%%%%%%%%%%%%%%%%%%%\n",
      "file duration :               0\n",
      "count  34885.0\n",
      "mean      30.0\n",
      "std        0.0\n",
      "min       30.0\n",
      "25%       30.0\n",
      "50%       30.0\n",
      "75%       30.0\n",
      "max       30.0 \n",
      "\n",
      "%%%%%%%%%%%%%%%%%%%%%%%%%%%%%%%%%\n",
      "anormal files on DURATION: 0 / 34885\n",
      "\n",
      " Now setting OSmOSE permissions ; wait a bit ...\n"
     ]
    }
   ],
   "source": [
    "list_filename_anormal_duration = builder_dataset(dataset_ID,gps)"
   ]
  },
  {
   "cell_type": "markdown",
   "metadata": {},
   "source": [
    "### Delete anormal files\n",
    "\n",
    "We propose you to directly delete your anormal files listed above. To do so, just run the following cell."
   ]
  },
  {
   "cell_type": "markdown",
   "metadata": {},
   "source": [
    "#### <span style=\"color:blue\">*JUST RUN CELL*</span> "
   ]
  },
  {
   "cell_type": "code",
   "execution_count": 7,
   "metadata": {},
   "outputs": [
    {
     "name": "stdout",
     "output_type": "stream",
     "text": [
      "removing :  20220117_090500.wav\n",
      "\n",
      " ALL ANORMAL FILES REMOVED ! you can now re-run the previous file to finish importing it on OSmOSE platform\n"
     ]
    }
   ],
   "source": [
    "if len(list_filename_anormal_duration)>0:\n",
    "    delete_anormal_files(dataset_ID,list_filename_anormal_duration)\n",
    "else:\n",
    "    print('no anomaly in your dataset! you''re good to go!')"
   ]
  }
 ],
 "metadata": {
  "kernelspec": {
   "display_name": "Python [conda env:allohaEnv]",
   "language": "python",
   "name": "conda-env-allohaEnv-py"
  },
  "language_info": {
   "codemirror_mode": {
    "name": "ipython",
    "version": 3
   },
   "file_extension": ".py",
   "mimetype": "text/x-python",
   "name": "python",
   "nbconvert_exporter": "python",
   "pygments_lexer": "ipython3",
   "version": "3.6.10"
  }
 },
 "nbformat": 4,
 "nbformat_minor": 4
}
