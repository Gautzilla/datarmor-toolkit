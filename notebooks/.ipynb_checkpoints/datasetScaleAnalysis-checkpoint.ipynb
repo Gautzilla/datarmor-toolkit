{
 "cells": [
  {
   "cell_type": "markdown",
   "metadata": {},
   "source": [
    "#### <span style=\"color:blue\">*JUST RUN CELL*</span>"
   ]
  },
  {
   "cell_type": "code",
   "execution_count": 1,
   "metadata": {},
   "outputs": [],
   "source": [
    "import os \n",
    "os.chdir(os.path.join(\"/home/datawork-osmose/\",'osmoseNotebooks_v0','source'))\n",
    "from launcher_datasetScale import main, job_monitoring, display_metadata, list_datasets, visu_adjustSpectros, check_segmenteduration"
   ]
  },
  {
   "cell_type": "markdown",
   "metadata": {},
   "source": [
    "#### <span style=\"color:red\">*FILL & RUN CELL*</span>\n",
    "\n",
    "- ``dataset_ID`` : nom du jeu de données à traiter\n",
    "- ``analysis_fs`` : nouvelle fréquence d'échantillonnage pour la génération des spectrogrammes (si on souhaite étudier seulement une bande de fréquences"
   ]
  },
  {
   "cell_type": "code",
   "execution_count": 2,
   "metadata": {},
   "outputs": [
    {
     "name": "stdout",
     "output_type": "stream",
     "text": [
      "Available datasets:\n",
      "  - CampagneAstrolabe2022_SelectionPourBetaTest\n",
      "  - DDU2018\n",
      "  - Hadocc\n",
      "  - MAHY01\n",
      "  - MPSU_ForestouHuella\n",
      "  - SPMAuralA_2010\n",
      "  - SPMAuralA_2011\n",
      "  - SPMAuralA_2011_SelectionPourAnnotations2\n",
      "  - SPMAuralA_2011_SelectionPourAnnotations2_copy\n",
      "  - argoLOV\n",
      "  - azoresIfremer\n",
      "  - datasets.csv\n",
      "  - fromveur256000\n",
      "  - fromveur256000_SelectionPourAnnotations\n",
      "  - gliderSPAms\n",
      "  - gliderSPAms_PAMGuard\n",
      "  - gliderWHOI\n",
      "  - gliderWalterShoals\n",
      "  - ohasisbio2015wker\n"
     ]
    }
   ],
   "source": [
    "list_datasets()"
   ]
  },
  {
   "cell_type": "code",
   "execution_count": 3,
   "metadata": {},
   "outputs": [
    {
     "name": "stdout",
     "output_type": "stream",
     "text": [
      "Original sample frequency (Hz) : 60000.0\n",
      "2014-12-01T16:56  -->  2016-03-01T19:42\n",
      "Cumulated number of days : 456\n",
      "Original audio file duration (s) : 59\n",
      "Duty cycle (%) : nan\n",
      "Total number of files: 52094\n",
      "Total volume (GB): 374.9\n",
      "Auxiliary files : ['sbnms1215_we04_ebd.csv', 'sbnms1214_we10_d1_ebd.csv', 'sbnms1214_we10_d2_pos.csv', 'sbnms1215_we03_ebd.csv', 'sbnms1214_we10_d1_pos.csv', 'gps.csv', 'ECMWF.csv', 'sbnms1214_we04_ebd.csv', 'sbnms1214_we04_pos.csv', 'sbnms1215_we10_pos.csv', 'sbnms1215_we10_ebd.csv', 'sbnms1214_we04_depth.csv', 'sbnms1215_we04_depth.csv', 'sbnms1215_we10_depth.csv', 'sbnms1214_we10_d1_depth.csv', 'insituWind.csv', 'sbnms1214_we10_d2_ebd.csv', 'sbnms1215_we04_pos.csv', 'sbnms1215_we03_depth.csv', 'sbnms1214_we10_d2_depth.csv', 'sbnms1215_we03_pos.csv']\n",
      "***************************\n",
      "Existing analysis paramaters (fileDuration_sampleFrequency) : []\n"
     ]
    }
   ],
   "source": [
    "dataset_ID = 'gliderWHOI'\n",
    "\n",
    "display_metadata(dataset_ID)"
   ]
  },
  {
   "cell_type": "markdown",
   "metadata": {},
   "source": [
    "#### <span style=\"color:red\">*FILL & RUN CELL*</span>"
   ]
  },
  {
   "cell_type": "markdown",
   "metadata": {},
   "source": [
    "You can set a sample frequency different from the original one, in that case a complete resampling of the dataset will be performed."
   ]
  },
  {
   "cell_type": "code",
   "execution_count": 4,
   "metadata": {},
   "outputs": [],
   "source": [
    "analysis_fs = 60000"
   ]
  },
  {
   "cell_type": "markdown",
   "metadata": {},
   "source": [
    "## Computing and retrieving welch spectra\n",
    "<span style=\"color:red\">*FILL & RUN CELL*</span>\n",
    "\n",
    "In this notebook, you can recover welch spectra over different time scales specified in the variable `welch_timeScale`. Use offset aliases to define its value, see https://pandas.pydata.org/pandas-docs/stable/user_guide/timeseries.html#timeseries-offset-aliases . \n",
    "\n",
    "Several values can be set (eg `welch_timeScale = ['10S','1H'] `). \n",
    "\n",
    "See the cell job monitoring below to get output paths where to find your welch spectra."
   ]
  },
  {
   "cell_type": "code",
   "execution_count": 5,
   "metadata": {},
   "outputs": [],
   "source": [
    "welch_timeScale = ['1S','10T']\n",
    "\n",
    "_,_=check_segmenteduration(analysis_fs,welch_timeScale[0])"
   ]
  },
  {
   "cell_type": "markdown",
   "metadata": {},
   "source": [
    "## Soundscape figures\n",
    "\n",
    "Following figures will be computed using only the biggest time resolution, ie the last value of `welch_timeScale`.\n",
    "\n",
    "Most soundscape figures are computed in two different modes:\n",
    "- sequential : it means that your welch spectra are processed over successive time period of fixed duration defined by `sequential_timePeriod` (eg, this period can be set to one week, such that one soundscape figure will be generated for each successive week) ;\n",
    "- warping : it means your welch spectra are first aggregated over a recurrent time slot defined by `warp_timePeriod` (eg, one particular day of the week, or one particular month of the year, or all nights) and processed altogether.\n",
    "\n",
    "In the following code cell, you can define the durations of these periods. Note that these values will be used for all following figures (if applied).\n",
    "\n",
    "Welch spectra can also be filtered using `fmin` and `fmax` parameters defined in the code cell below.\n",
    "\n",
    "#### Sequential mode\n",
    "\n",
    "`sequential_timePeriod` can be set to the following values:\n",
    "- H for hours\n",
    "- D for days \n",
    "\n",
    "Set `sequential_timePeriod=['all']` to process all your dataset directly. Note that you must use `sequential_timePeriod=['30D']` for a month frequency and `sequential_timePeriod=['7D']` for a week frequency (due to bugs in pandas source codes)\n",
    "\n",
    "\n",
    "#### Warping mode\n",
    "\n",
    "Choose one resolution among followings for this `warp_timePeriod` variable:\n",
    "- %H for the 24 hours witinh one day \n",
    "- %w for the 7 days within one week\n",
    "- %m for the 12 months within one year\n",
    "\n",
    "For example, setting `warp_timePeriod = ['%w']` will generate 7 EPD figures for the 7 seven days of the week, ie all welch spectra from monday will be used to compute the monday_EPD and so on\n",
    "\n",
    "\n"
   ]
  },
  {
   "cell_type": "code",
   "execution_count": 6,
   "metadata": {},
   "outputs": [],
   "source": [
    "sequential_timePeriod  = ['all'] # for the moment, LIMITED TO ONLY ONE VALUE!\n",
    "warp_timePeriod = ['%w'] # for the moment, LIMITED TO ONLY ONE VALUE!\n",
    "\n",
    "fmin = 100\n",
    "fmax = 800"
   ]
  },
  {
   "cell_type": "markdown",
   "metadata": {},
   "source": [
    "#### Timeseries of relative SPL\n",
    "\n",
    "<span style=\"color:red\">*FILL & RUN CELL*</span>\n",
    "\n",
    "Sequential and warping modes apply ; Welch spectra filtering apply"
   ]
  },
  {
   "cell_type": "code",
   "execution_count": 7,
   "metadata": {},
   "outputs": [],
   "source": [
    "plot_timeSPL = True"
   ]
  },
  {
   "cell_type": "markdown",
   "metadata": {},
   "source": [
    "#### Empirical Power Density\n",
    "<span style=\"color:red\">*FILL & RUN CELL*</span>\n",
    "\n",
    "Sequential and warping modes apply "
   ]
  },
  {
   "cell_type": "code",
   "execution_count": 8,
   "metadata": {},
   "outputs": [],
   "source": [
    "plot_EPD = True"
   ]
  },
  {
   "cell_type": "markdown",
   "metadata": {},
   "source": [
    "#### Long-Term Averaged Spectrograms \n",
    "<span style=\"color:red\">*FILL & RUN CELL*</span>\n",
    "\n",
    "Sequential and warping modes apply "
   ]
  },
  {
   "cell_type": "code",
   "execution_count": 9,
   "metadata": {},
   "outputs": [],
   "source": [
    "plot_LTAS = True "
   ]
  },
  {
   "cell_type": "markdown",
   "metadata": {},
   "source": [
    "#### Recurrent bar plots \n",
    "<span style=\"color:red\">*FILL & RUN CELL*</span>\n",
    "\n",
    "This figure has its own set of time resolutions (to be corrected in later versions..), the `bigwarp_timePeriod_recurBox` that will define the time resolution over x-axis and `smallwarp_timePeriod_recurBox` over the legend. A one-level recurrent bar plot is obtained by setting `smallwarp_timePeriod_recurBox = ['']`.\n",
    "\n",
    "Welch spectra filtering apply"
   ]
  },
  {
   "cell_type": "code",
   "execution_count": 10,
   "metadata": {},
   "outputs": [],
   "source": [
    "plot_recurBOX = True\n",
    "\n",
    "bigwarp_timePeriod_recurBox = ['%m'] \n",
    "smallwarp_timePeriod_recurBox = ['%w'] "
   ]
  },
  {
   "cell_type": "markdown",
   "metadata": {},
   "source": [
    "#### <span style=\"color:blue\">*JUST RUN CELL*</span> Launch analysis."
   ]
  },
  {
   "cell_type": "code",
   "execution_count": 11,
   "metadata": {},
   "outputs": [],
   "source": [
    "main(dataset_ID,analysis_fs,welch_timeScale,'','',plot_LTAS,plot_EPD,plot_timeSPL,plot_recurBOX,True,False,warp_timePeriod,fmin,fmax,sequential_timePeriod,bigwarp_timePeriod_recurBox,smallwarp_timePeriod_recurBox)"
   ]
  },
  {
   "cell_type": "markdown",
   "metadata": {},
   "source": [
    "### <span style=\"color:blue\">*JUST RUN CELL*</span>  Track progress at any time\n",
    "\n",
    "When all tasks have dissapeared or written DONE, then you are DONE !"
   ]
  },
  {
   "cell_type": "code",
   "execution_count": 12,
   "metadata": {},
   "outputs": [
    {
     "name": "stdout",
     "output_type": "stream",
     "text": [
      "o ONGOING -> Compute welch spectra\n",
      "\n",
      "\n",
      " just so you know you have 39 ongoing jobs working for you! thank you M. DATARMOR!\n"
     ]
    }
   ],
   "source": [
    "job_monitoring(dataset_ID,analysis_fs)"
   ]
  }
 ],
 "metadata": {
  "kernelspec": {
   "display_name": "Python [conda env:allohaEnv]",
   "language": "python",
   "name": "conda-env-allohaEnv-py"
  },
  "language_info": {
   "codemirror_mode": {
    "name": "ipython",
    "version": 3
   },
   "file_extension": ".py",
   "mimetype": "text/x-python",
   "name": "python",
   "nbconvert_exporter": "python",
   "pygments_lexer": "ipython3",
   "version": "3.6.10"
  }
 },
 "nbformat": 4,
 "nbformat_minor": 4
}
