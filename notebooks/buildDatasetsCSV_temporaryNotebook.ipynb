{
 "cells": [
  {
   "cell_type": "markdown",
   "metadata": {},
   "source": [
    "#### <span style=\"color:red\">*FILL & RUN CELL*</span>"
   ]
  },
  {
   "cell_type": "code",
   "execution_count": 1,
   "metadata": {},
   "outputs": [],
   "source": [
    "dataset_ID = 'ml17_280a'\n",
    "\n",
    "folderName_audioFiles = '600_14000' # name of your folder analysis, analysisDuration_analysisSampleFrequency"
   ]
  },
  {
   "cell_type": "markdown",
   "metadata": {},
   "source": [
    "#### <span style=\"color:blue\">*JUST RUN CELL*</span>"
   ]
  },
  {
   "cell_type": "code",
   "execution_count": 4,
   "metadata": {},
   "outputs": [
    {
     "data": {
      "text/plain": [
       "0"
      ]
     },
     "execution_count": 4,
     "metadata": {},
     "output_type": "execute_result"
    }
   ],
   "source": [
    "import os\n",
    "import pandas as pd\n",
    "\n",
    "path_osmose_dataset = '/home/datawork-osmose/dataset/'\n",
    "\n",
    "datasets_path = os.path.join(path_osmose_dataset,'datasets.csv')\n",
    "\n",
    "nn = dataset_ID+' ('+folderName_audioFiles+')'\n",
    "\n",
    "df2 = {'name': nn, 'folder_name': dataset_ID, \\\n",
    "       'conf_folder': folderName_audioFiles, 'dataset_type_name':'' , 'dataset_type_desc':'' , \\\n",
    "       'files_type': '.wav', 'location_name': '', 'location_desc': '', 'location_lat':'' , 'location_lon':''}\n",
    "\n",
    "if os.path.exists(datasets_path):\n",
    "    # here just delete current file\n",
    "    os.remove(datasets_path)\n",
    "\n",
    "met=pd.DataFrame.from_records([df2]) \n",
    "met.to_csv(os.path.join(path_osmose_dataset,'datasets.csv') , index=False)        \n",
    "\n",
    "os.system('chgrp gosmose ' + os.path.join(path_osmose_dataset,'datasets.csv') )\n",
    "os.system('chmod g+rwx ' + os.path.join(path_osmose_dataset,'datasets.csv') )"
   ]
  }
 ],
 "metadata": {
  "kernelspec": {
   "display_name": "Python [conda env:allohaEnv]",
   "language": "python",
   "name": "conda-env-allohaEnv-py"
  },
  "language_info": {
   "codemirror_mode": {
    "name": "ipython",
    "version": 3
   },
   "file_extension": ".py",
   "mimetype": "text/x-python",
   "name": "python",
   "nbconvert_exporter": "python",
   "pygments_lexer": "ipython3",
   "version": "3.6.10"
  }
 },
 "nbformat": 4,
 "nbformat_minor": 2
}
