{
 "cells": [
  {
   "cell_type": "markdown",
   "metadata": {},
   "source": [
    "#### <span style=\"color:blue\">*JUST RUN CELL*</span>"
   ]
  },
  {
   "cell_type": "code",
   "execution_count": 59,
   "metadata": {},
   "outputs": [],
   "source": [
    "import os \n",
    "os.chdir(os.path.join(\"/home/datawork-osmose/\",'osmoseNotebooks_v0','source'))\n",
    "from launcher_fileScale import main, job_monitoring, visu_adjustSpectros, params_recommendation, display_metadata, list_datasets, params_checkingNberPixels"
   ]
  },
  {
   "cell_type": "markdown",
   "metadata": {},
   "source": [
    "#### <span style=\"color:red\">*FILL & RUN CELLS*</span>\n",
    "\n",
    "- ``dataset_ID`` is the name of the dataset to be processed;\n",
    "- ``analysis_fs`` is the sample frequency you want to use for your analysis, which can be different from the original one."
   ]
  },
  {
   "cell_type": "code",
   "execution_count": 60,
   "metadata": {},
   "outputs": [
    {
     "name": "stdout",
     "output_type": "stream",
     "text": [
      "Available datasets:\n",
      "  - CampagneAstrolabe2022_SelectionPourBetaTest\n",
      "  - DDU2018\n",
      "  - Hadocc\n",
      "  - MAHY01\n",
      "  - MPSU_ForestouHuella\n",
      "  - SPMAuralA_2010\n",
      "  - SPMAuralA_2011\n",
      "  - SPMAuralA_2011_SelectionPourAnnotations2\n",
      "  - SPMAuralA_2011_SelectionPourAnnotations2_copy\n",
      "  - argoLOV\n",
      "  - azoresIfremer\n",
      "  - fromveur256000\n",
      "  - fromveur256000_SelectionPourAnnotations\n",
      "  - gliderSPAms\n",
      "  - gliderSPAms_PAMGuard\n",
      "  - gliderWHOI\n",
      "  - gliderWalterShoals\n",
      "  - ohasisbio2015wker\n"
     ]
    }
   ],
   "source": [
    "list_datasets()"
   ]
  },
  {
   "cell_type": "code",
   "execution_count": 62,
   "metadata": {
    "scrolled": true
   },
   "outputs": [
    {
     "name": "stdout",
     "output_type": "stream",
     "text": [
      "Original sample frequency (Hz) : 8000\n",
      "2017-07-17T12:00  -->  2017-10-17T07:00\n",
      "Cumulated number of days : 91\n",
      "Original audio file duration (s) : 3600\n",
      "Total number of files: 2204\n",
      "Total volume (GB): 190.4\n",
      "Auxiliary files : ['58214.csv', 'meteo.csv', '76242.csv']\n",
      "***************************\n",
      "Existing analysis paramaters (fileDuration_sampleFrequency) : []\n"
     ]
    }
   ],
   "source": [
    "dataset_ID = 'azoresIfremer'\n",
    "display_metadata(dataset_ID)"
   ]
  },
  {
   "cell_type": "code",
   "execution_count": 64,
   "metadata": {},
   "outputs": [],
   "source": [
    "analysis_fs = 8000"
   ]
  },
  {
   "cell_type": "markdown",
   "metadata": {},
   "source": [
    "### Analysis types"
   ]
  },
  {
   "cell_type": "markdown",
   "metadata": {},
   "source": [
    "### General spectrogram parameters "
   ]
  },
  {
   "cell_type": "markdown",
   "metadata": {},
   "source": [
    "Set spectrogram parameters as a number of samples : `nfft`, `winsize`, `overlap`. `winsize` and `overlap` must be set as lists of values, whose length correspond to the number of zoom levels you want, e.g. `winsize = [512,512,256,256]` will give you 4 zoom levels as follows: zoom 0 has duration `maxtime_display_spectro` sec, zoom 1 has duration `maxtime_display_spectro`/2 sec, zoom 2 has duration `maxtime_display_spectro`/4 sec and zoom 3 has duration `maxtime_display_spectro`/8 sec\n",
    "\n",
    "Set `maxtime_display_spectro` (in s) is the maximal duration of spectrogram display window. Must be inferior or equal to your original audio file duration. FOR THE MOMENT `maxtime_display_spectro` MUST BE INFERIOR TO 3600s !! If set to `'orig'`, the original audio file duration will be taken.\n",
    "\n",
    "`norma_gliding_zscore` can be used to perform z-score normalization of your audio files over a given time period, e.g. `norma_gliding_zscore = '10H'`. This period should be higher than your file duration. By default, set `norma_gliding_zscore = '[]` to z-score normalize your audio files over the duration of these files. "
   ]
  },
  {
   "cell_type": "code",
   "execution_count": 69,
   "metadata": {},
   "outputs": [],
   "source": [
    "maxtime_display_spectro = 600\n",
    "\n",
    "norma_gliding_zscore = '20H'\n",
    "\n",
    "nfft = 2048 # samples\n",
    "winsize = 2048# samples\n",
    "overlap = 0  # %\n",
    "\n",
    "nber_tile_level = 1\n",
    "\n",
    "fmin_HighPassFilter = 5\n",
    "\n",
    "max_color_val = 20\n",
    "min_color_val = - 20\n",
    "colmapspectros = \"viridis\""
   ]
  },
  {
   "cell_type": "markdown",
   "metadata": {},
   "source": [
    "`nberAdjustSpectros` is the number of audio files used to select your spectrogram parameters. If you are really not sure about your parameters, it is better to choose a small number number, because each time you will have to wait for the generation of your `nberAdjustSpectros` spectrograms before being able to re-generate spectrograms with another set of parameters."
   ]
  },
  {
   "cell_type": "code",
   "execution_count": 70,
   "metadata": {},
   "outputs": [],
   "source": [
    "nberAdjustSpectros = 5"
   ]
  },
  {
   "cell_type": "markdown",
   "metadata": {},
   "source": [
    "### <span style=\"color:red\">*RUN CELL*</span>   Check spectrogram dimension w.r.t your screen resolution !"
   ]
  },
  {
   "cell_type": "markdown",
   "metadata": {},
   "source": [
    "Here is how many time windows you have for the different zoom levels. They MUST be as many as your screen resolution (typically 1920x1080 pixels , (horizontal pixels) x (vertical pixels) ) to avoid numerical compression during image generation as well as useless over-resoluted spectrograms obtained at a high computational cost."
   ]
  },
  {
   "cell_type": "code",
   "execution_count": 71,
   "metadata": {},
   "outputs": [
    {
     "name": "stdout",
     "output_type": "stream",
     "text": [
      "your smallest tile has a duration of: 600.0 (s)\n",
      "\n",
      "\n",
      "your number of time windows in this tile is: 2342\n",
      "\n",
      "\n",
      "your resolutions : time =  0.256 (s) / frequency =  3.906 (Hz)\n"
     ]
    }
   ],
   "source": [
    "params_checkingNberPixels(analysis_fs,maxtime_display_spectro,nfft,winsize,overlap,nber_tile_level,dataset_ID)"
   ]
  },
  {
   "cell_type": "markdown",
   "metadata": {},
   "source": [
    "### <span style=\"color:blue\">*JUST RUN CELL*</span> Adjust your spectrogram parameters by visualizing examples."
   ]
  },
  {
   "cell_type": "code",
   "execution_count": 72,
   "metadata": {},
   "outputs": [
    {
     "name": "stdout",
     "output_type": "stream",
     "text": [
      "Generating 5 spectrograms for parameter selection! In a few seconds, your first spectrograms will be visible in the next cell..\n",
      "\n",
      "\n",
      " %%%%%%%%% FOR DEBUG : processing chain\n",
      "Launch: pbs_resample\n"
     ]
    }
   ],
   "source": [
    "main(dataset_ID,analysis_fs, nfft ,winsize,nberAdjustSpectros,overlap,colmapspectros,nber_tile_level,min_color_val,max_color_val,maxtime_display_spectro,norma_gliding_zscore,fmin_HighPassFilter)"
   ]
  },
  {
   "cell_type": "markdown",
   "metadata": {},
   "source": [
    "#### <span style=\"color:blue\">*JUST RUN CELL*</span>  Visualize `nberAdjustSpectros` spectrograms to adjust parameters. \n",
    "\n",
    "Re-run this cell to update the folder of images because they keep being generated while you visualize them. If this set of parameters does not suit you, change them and re-run new spectrograms with the previous cells, as many times as you want."
   ]
  },
  {
   "cell_type": "code",
   "execution_count": 78,
   "metadata": {
    "scrolled": true,
    "tags": []
   },
   "outputs": [
    {
     "data": {
      "application/vnd.jupyter.widget-view+json": {
       "model_id": "204220f6a3b3498399e683e154d95913",
       "version_major": 2,
       "version_minor": 0
      },
      "text/plain": [
       "interactive(children=(Dropdown(description='file', options=('SBW1636_20170814_120000_seg0_1_0.png', 'SBW1636_2…"
      ]
     },
     "metadata": {},
     "output_type": "display_data"
    }
   ],
   "source": [
    "visu_adjustSpectros()"
   ]
  },
  {
   "cell_type": "markdown",
   "metadata": {},
   "source": [
    "### <span style=\"color:blue\">*JUST RUN CELL*</span>  Launch COMPLETE spectrogram generation"
   ]
  },
  {
   "cell_type": "code",
   "execution_count": 79,
   "metadata": {},
   "outputs": [
    {
     "name": "stdout",
     "output_type": "stream",
     "text": [
      "OK we are generating all data for your annotation campaign now ! \n",
      " \n",
      " You can look at the progress bar in the cell below, or you can leave Jupyter and come back to Earth, your job is done, we will mail you when it is done ;) \n",
      "\n",
      "\n",
      " %%%%%%%%% FOR DEBUG : processing chain\n",
      "Launch: pbs_resample\n",
      "Launch: pbs_audioNormalization\n",
      "CASE 3\n",
      "Launch: pbs_timestampAfterDecoupe_0\n",
      "Launch: pbs_spectroGeneFileScale\n"
     ]
    }
   ],
   "source": [
    "main(dataset_ID,analysis_fs, nfft ,winsize,0,overlap,colmapspectros,nber_tile_level,min_color_val,max_color_val,maxtime_display_spectro,norma_gliding_zscore,fmin_HighPassFilter)"
   ]
  },
  {
   "cell_type": "markdown",
   "metadata": {},
   "source": [
    "# To track job progress"
   ]
  },
  {
   "cell_type": "markdown",
   "metadata": {},
   "source": [
    "### <span style=\"color:blue\">*JUST RUN CELL*</span>  Counting bars"
   ]
  },
  {
   "cell_type": "code",
   "execution_count": 80,
   "metadata": {
    "scrolled": true
   },
   "outputs": [
    {
     "name": "stdout",
     "output_type": "stream",
     "text": [
      "o ONGOING ( 12 / 13224 ) -> Segmenting & Resampling output in : /home/datawork-osmose/dataset/azoresIfremer/raw/audio/600_8000\n",
      "o WAITING ( 0 / 13224 ) -> Spectrogram Generation output in : /home/datawork-osmose/dataset/azoresIfremer/analysis/spectrograms/600_8000/nfft=2048 winsize=2048 overlap=0 cvr=-20:0\n",
      "\n",
      "\n",
      " just so you know you have 84 ongoing jobs working for you! thank you M. DATARMOR!\n"
     ]
    }
   ],
   "source": [
    "job_monitoring(dataset_ID,analysis_fs,nfft,winsize,overlap,min_color_val)"
   ]
  }
 ],
 "metadata": {
  "kernelspec": {
   "display_name": "Python 3",
   "language": "python",
   "name": "python3"
  },
  "language_info": {
   "codemirror_mode": {
    "name": "ipython",
    "version": 3
   },
   "file_extension": ".py",
   "mimetype": "text/x-python",
   "name": "python",
   "nbconvert_exporter": "python",
   "pygments_lexer": "ipython3",
   "version": "3.8.3"
  }
 },
 "nbformat": 4,
 "nbformat_minor": 4
}
