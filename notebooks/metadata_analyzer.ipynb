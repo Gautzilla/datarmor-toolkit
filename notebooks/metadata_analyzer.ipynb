{
 "cells": [
  {
   "cell_type": "markdown",
   "metadata": {},
   "source": [
    "# Preamble\n",
    "\n",
    "This notebook should be used when your dataset has not been built because your audio files have not passed at least one test needed for its uploading on the OSmOSE platform. It also allows to perform (irreversible) file deletion operations to meet uploading criteria."
   ]
  },
  {
   "cell_type": "markdown",
   "metadata": {},
   "source": [
    "Define the names of the dataset and of the folder of audio files (by default, 'original')"
   ]
  },
  {
   "cell_type": "code",
   "execution_count": 1,
   "metadata": {},
   "outputs": [],
   "source": [
    "dataset = 'boussole_MERMAID_v2'\n",
    "audio_folder_name = 'original'"
   ]
  },
  {
   "cell_type": "markdown",
   "metadata": {},
   "source": [
    "Download the metadata csv file "
   ]
  },
  {
   "cell_type": "code",
   "execution_count": 2,
   "metadata": {
    "tags": []
   },
   "outputs": [],
   "source": [
    "import pandas as pd\n",
    "import matplotlib.pyplot as plt\n",
    "import numpy as np\n",
    "import os\n",
    "\n",
    "path_audio = '/home/datawork-osmose/dataset/'+dataset+'/data/audio/'+audio_folder_name+'/'\n",
    "path_file_metadata = path_audio+'file_metadata.csv'\n",
    "file_metadata = pd.read_csv(path_file_metadata)"
   ]
  },
  {
   "cell_type": "markdown",
   "metadata": {},
   "source": [
    "# Exploring / describing metadata"
   ]
  },
  {
   "cell_type": "code",
   "execution_count": 6,
   "metadata": {},
   "outputs": [
    {
     "data": {
      "text/html": [
       "<div>\n",
       "<style scoped>\n",
       "    .dataframe tbody tr th:only-of-type {\n",
       "        vertical-align: middle;\n",
       "    }\n",
       "\n",
       "    .dataframe tbody tr th {\n",
       "        vertical-align: top;\n",
       "    }\n",
       "\n",
       "    .dataframe thead th {\n",
       "        text-align: right;\n",
       "    }\n",
       "</style>\n",
       "<table border=\"1\" class=\"dataframe\">\n",
       "  <thead>\n",
       "    <tr style=\"text-align: right;\">\n",
       "      <th></th>\n",
       "      <th>filename</th>\n",
       "      <th>timestamp</th>\n",
       "      <th>duration</th>\n",
       "      <th>origin_sr</th>\n",
       "      <th>duration_inter_file</th>\n",
       "      <th>size</th>\n",
       "      <th>sampwidth</th>\n",
       "      <th>channel_count</th>\n",
       "      <th>status_read_header</th>\n",
       "    </tr>\n",
       "  </thead>\n",
       "  <tbody>\n",
       "    <tr>\n",
       "      <th>0</th>\n",
       "      <td>20211011_102229_UTC_BOUSSOLE.wav</td>\n",
       "      <td>2021-10-11T10:22:29.000000+0000</td>\n",
       "      <td>1706.88000</td>\n",
       "      <td>50000.0</td>\n",
       "      <td>NaN</td>\n",
       "      <td>256.032036</td>\n",
       "      <td>3.0</td>\n",
       "      <td>1.0</td>\n",
       "      <td>True</td>\n",
       "    </tr>\n",
       "    <tr>\n",
       "      <th>1</th>\n",
       "      <td>20211011_105143_UTC_BOUSSOLE.wav</td>\n",
       "      <td>2021-10-11T10:51:43.000000+0000</td>\n",
       "      <td>436.52856</td>\n",
       "      <td>50000.0</td>\n",
       "      <td>-1270.35144</td>\n",
       "      <td>65.479320</td>\n",
       "      <td>3.0</td>\n",
       "      <td>1.0</td>\n",
       "      <td>True</td>\n",
       "    </tr>\n",
       "    <tr>\n",
       "      <th>2</th>\n",
       "      <td>20211011_110000_UTC_BOUSSOLE.wav</td>\n",
       "      <td>2021-10-11T11:00:00.000000+0000</td>\n",
       "      <td>1706.88000</td>\n",
       "      <td>50000.0</td>\n",
       "      <td>1270.35144</td>\n",
       "      <td>256.032036</td>\n",
       "      <td>3.0</td>\n",
       "      <td>1.0</td>\n",
       "      <td>True</td>\n",
       "    </tr>\n",
       "    <tr>\n",
       "      <th>3</th>\n",
       "      <td>20211011_112826_UTC_BOUSSOLE.wav</td>\n",
       "      <td>2021-10-11T11:28:26.000000+0000</td>\n",
       "      <td>1706.88000</td>\n",
       "      <td>50000.0</td>\n",
       "      <td>0.00000</td>\n",
       "      <td>256.032036</td>\n",
       "      <td>3.0</td>\n",
       "      <td>1.0</td>\n",
       "      <td>True</td>\n",
       "    </tr>\n",
       "    <tr>\n",
       "      <th>4</th>\n",
       "      <td>20211011_115653_UTC_BOUSSOLE.wav</td>\n",
       "      <td>2021-10-11T11:56:53.000000+0000</td>\n",
       "      <td>126.25608</td>\n",
       "      <td>50000.0</td>\n",
       "      <td>-1580.62392</td>\n",
       "      <td>18.938448</td>\n",
       "      <td>3.0</td>\n",
       "      <td>1.0</td>\n",
       "      <td>True</td>\n",
       "    </tr>\n",
       "  </tbody>\n",
       "</table>\n",
       "</div>"
      ],
      "text/plain": [
       "                           filename                        timestamp  \\\n",
       "0  20211011_102229_UTC_BOUSSOLE.wav  2021-10-11T10:22:29.000000+0000   \n",
       "1  20211011_105143_UTC_BOUSSOLE.wav  2021-10-11T10:51:43.000000+0000   \n",
       "2  20211011_110000_UTC_BOUSSOLE.wav  2021-10-11T11:00:00.000000+0000   \n",
       "3  20211011_112826_UTC_BOUSSOLE.wav  2021-10-11T11:28:26.000000+0000   \n",
       "4  20211011_115653_UTC_BOUSSOLE.wav  2021-10-11T11:56:53.000000+0000   \n",
       "\n",
       "     duration  origin_sr  duration_inter_file        size  sampwidth  \\\n",
       "0  1706.88000    50000.0                  NaN  256.032036        3.0   \n",
       "1   436.52856    50000.0          -1270.35144   65.479320        3.0   \n",
       "2  1706.88000    50000.0           1270.35144  256.032036        3.0   \n",
       "3  1706.88000    50000.0              0.00000  256.032036        3.0   \n",
       "4   126.25608    50000.0          -1580.62392   18.938448        3.0   \n",
       "\n",
       "   channel_count  status_read_header  \n",
       "0            1.0                True  \n",
       "1            1.0                True  \n",
       "2            1.0                True  \n",
       "3            1.0                True  \n",
       "4            1.0                True  "
      ]
     },
     "execution_count": 6,
     "metadata": {},
     "output_type": "execute_result"
    }
   ],
   "source": [
    "file_metadata.head()"
   ]
  },
  {
   "cell_type": "code",
   "execution_count": 7,
   "metadata": {},
   "outputs": [
    {
     "data": {
      "text/html": [
       "<div>\n",
       "<style scoped>\n",
       "    .dataframe tbody tr th:only-of-type {\n",
       "        vertical-align: middle;\n",
       "    }\n",
       "\n",
       "    .dataframe tbody tr th {\n",
       "        vertical-align: top;\n",
       "    }\n",
       "\n",
       "    .dataframe thead th {\n",
       "        text-align: right;\n",
       "    }\n",
       "</style>\n",
       "<table border=\"1\" class=\"dataframe\">\n",
       "  <thead>\n",
       "    <tr style=\"text-align: right;\">\n",
       "      <th></th>\n",
       "      <th>duration</th>\n",
       "      <th>origin_sr</th>\n",
       "      <th>duration_inter_file</th>\n",
       "      <th>size</th>\n",
       "      <th>sampwidth</th>\n",
       "      <th>channel_count</th>\n",
       "    </tr>\n",
       "  </thead>\n",
       "  <tbody>\n",
       "    <tr>\n",
       "      <th>count</th>\n",
       "      <td>8817.000000</td>\n",
       "      <td>8817.0</td>\n",
       "      <td>8801.000000</td>\n",
       "      <td>8817.000000</td>\n",
       "      <td>8817.0</td>\n",
       "      <td>8817.0</td>\n",
       "    </tr>\n",
       "    <tr>\n",
       "      <th>mean</th>\n",
       "      <td>1158.741040</td>\n",
       "      <td>50000.0</td>\n",
       "      <td>-0.519691</td>\n",
       "      <td>173.811192</td>\n",
       "      <td>3.0</td>\n",
       "      <td>1.0</td>\n",
       "    </tr>\n",
       "    <tr>\n",
       "      <th>std</th>\n",
       "      <td>754.866997</td>\n",
       "      <td>0.0</td>\n",
       "      <td>1279.046254</td>\n",
       "      <td>113.230050</td>\n",
       "      <td>0.0</td>\n",
       "      <td>0.0</td>\n",
       "    </tr>\n",
       "    <tr>\n",
       "      <th>min</th>\n",
       "      <td>0.000000</td>\n",
       "      <td>50000.0</td>\n",
       "      <td>-1706.026560</td>\n",
       "      <td>0.000036</td>\n",
       "      <td>3.0</td>\n",
       "      <td>1.0</td>\n",
       "    </tr>\n",
       "    <tr>\n",
       "      <th>25%</th>\n",
       "      <td>126.283920</td>\n",
       "      <td>50000.0</td>\n",
       "      <td>-1580.589120</td>\n",
       "      <td>18.942624</td>\n",
       "      <td>3.0</td>\n",
       "      <td>1.0</td>\n",
       "    </tr>\n",
       "    <tr>\n",
       "      <th>50%</th>\n",
       "      <td>1706.880000</td>\n",
       "      <td>50000.0</td>\n",
       "      <td>0.000000</td>\n",
       "      <td>256.032036</td>\n",
       "      <td>3.0</td>\n",
       "      <td>1.0</td>\n",
       "    </tr>\n",
       "    <tr>\n",
       "      <th>75%</th>\n",
       "      <td>1706.880000</td>\n",
       "      <td>50000.0</td>\n",
       "      <td>1580.589120</td>\n",
       "      <td>256.032036</td>\n",
       "      <td>3.0</td>\n",
       "      <td>1.0</td>\n",
       "    </tr>\n",
       "    <tr>\n",
       "      <th>max</th>\n",
       "      <td>1706.880000</td>\n",
       "      <td>50000.0</td>\n",
       "      <td>1582.277760</td>\n",
       "      <td>256.032036</td>\n",
       "      <td>3.0</td>\n",
       "      <td>1.0</td>\n",
       "    </tr>\n",
       "  </tbody>\n",
       "</table>\n",
       "</div>"
      ],
      "text/plain": [
       "          duration  origin_sr  duration_inter_file         size  sampwidth  \\\n",
       "count  8817.000000     8817.0          8801.000000  8817.000000     8817.0   \n",
       "mean   1158.741040    50000.0            -0.519691   173.811192        3.0   \n",
       "std     754.866997        0.0          1279.046254   113.230050        0.0   \n",
       "min       0.000000    50000.0         -1706.026560     0.000036        3.0   \n",
       "25%     126.283920    50000.0         -1580.589120    18.942624        3.0   \n",
       "50%    1706.880000    50000.0             0.000000   256.032036        3.0   \n",
       "75%    1706.880000    50000.0          1580.589120   256.032036        3.0   \n",
       "max    1706.880000    50000.0          1582.277760   256.032036        3.0   \n",
       "\n",
       "       channel_count  \n",
       "count         8817.0  \n",
       "mean             1.0  \n",
       "std              0.0  \n",
       "min              1.0  \n",
       "25%              1.0  \n",
       "50%              1.0  \n",
       "75%              1.0  \n",
       "max              1.0  "
      ]
     },
     "execution_count": 7,
     "metadata": {},
     "output_type": "execute_result"
    }
   ],
   "source": [
    "file_metadata.describe()"
   ]
  },
  {
   "cell_type": "markdown",
   "metadata": {},
   "source": [
    "## Reading header"
   ]
  },
  {
   "cell_type": "code",
   "execution_count": 8,
   "metadata": {},
   "outputs": [
    {
     "name": "stdout",
     "output_type": "stream",
     "text": [
      "Number of file headers that cannot be read : 17\n"
     ]
    }
   ],
   "source": [
    "print('Number of file headers that cannot be read :',sum(file_metadata['status_read_header'].values == False))"
   ]
  },
  {
   "cell_type": "markdown",
   "metadata": {},
   "source": [
    "## Sampling rate"
   ]
  },
  {
   "cell_type": "code",
   "execution_count": 9,
   "metadata": {},
   "outputs": [
    {
     "data": {
      "text/html": [
       "<div>\n",
       "<style scoped>\n",
       "    .dataframe tbody tr th:only-of-type {\n",
       "        vertical-align: middle;\n",
       "    }\n",
       "\n",
       "    .dataframe tbody tr th {\n",
       "        vertical-align: top;\n",
       "    }\n",
       "\n",
       "    .dataframe thead th {\n",
       "        text-align: right;\n",
       "    }\n",
       "</style>\n",
       "<table border=\"1\" class=\"dataframe\">\n",
       "  <thead>\n",
       "    <tr style=\"text-align: right;\">\n",
       "      <th></th>\n",
       "      <th>Sampling rate (Hz)</th>\n",
       "      <th>Counts</th>\n",
       "    </tr>\n",
       "  </thead>\n",
       "  <tbody>\n",
       "    <tr>\n",
       "      <th>0</th>\n",
       "      <td>50000.0</td>\n",
       "      <td>8817</td>\n",
       "    </tr>\n",
       "  </tbody>\n",
       "</table>\n",
       "</div>"
      ],
      "text/plain": [
       "   Sampling rate (Hz)  Counts\n",
       "0             50000.0    8817"
      ]
     },
     "execution_count": 9,
     "metadata": {},
     "output_type": "execute_result"
    },
    {
     "data": {
      "image/png": "[encoded data removed]",
      "text/plain": [
       "<Figure size 640x480 with 1 Axes>"
      ]
     },
     "metadata": {},
     "output_type": "display_data"
    }
   ],
   "source": [
    "df_da=file_metadata['origin_sr'].value_counts().reset_index()\n",
    "df_da.columns = ['Sampling rate (Hz)', 'Counts']\n",
    "df_da['Sampling rate (Hz)'].hist()\n",
    "df_da"
   ]
  },
  {
   "cell_type": "markdown",
   "metadata": {},
   "source": [
    "## Duration"
   ]
  },
  {
   "cell_type": "code",
   "execution_count": 10,
   "metadata": {},
   "outputs": [
    {
     "data": {
      "text/html": [
       "<div>\n",
       "<style scoped>\n",
       "    .dataframe tbody tr th:only-of-type {\n",
       "        vertical-align: middle;\n",
       "    }\n",
       "\n",
       "    .dataframe tbody tr th {\n",
       "        vertical-align: top;\n",
       "    }\n",
       "\n",
       "    .dataframe thead th {\n",
       "        text-align: right;\n",
       "    }\n",
       "</style>\n",
       "<table border=\"1\" class=\"dataframe\">\n",
       "  <thead>\n",
       "    <tr style=\"text-align: right;\">\n",
       "      <th></th>\n",
       "      <th>Duration(s)</th>\n",
       "      <th>Counts</th>\n",
       "    </tr>\n",
       "  </thead>\n",
       "  <tbody>\n",
       "    <tr>\n",
       "      <th>0</th>\n",
       "      <td>1706.88000</td>\n",
       "      <td>5770</td>\n",
       "    </tr>\n",
       "    <tr>\n",
       "      <th>1</th>\n",
       "      <td>126.28392</td>\n",
       "      <td>461</td>\n",
       "    </tr>\n",
       "    <tr>\n",
       "      <th>2</th>\n",
       "      <td>126.26304</td>\n",
       "      <td>450</td>\n",
       "    </tr>\n",
       "    <tr>\n",
       "      <th>3</th>\n",
       "      <td>126.27696</td>\n",
       "      <td>379</td>\n",
       "    </tr>\n",
       "    <tr>\n",
       "      <th>4</th>\n",
       "      <td>126.27000</td>\n",
       "      <td>361</td>\n",
       "    </tr>\n",
       "    <tr>\n",
       "      <th>5</th>\n",
       "      <td>126.25608</td>\n",
       "      <td>314</td>\n",
       "    </tr>\n",
       "    <tr>\n",
       "      <th>6</th>\n",
       "      <td>126.29088</td>\n",
       "      <td>258</td>\n",
       "    </tr>\n",
       "    <tr>\n",
       "      <th>7</th>\n",
       "      <td>126.30912</td>\n",
       "      <td>204</td>\n",
       "    </tr>\n",
       "    <tr>\n",
       "      <th>8</th>\n",
       "      <td>126.29784</td>\n",
       "      <td>167</td>\n",
       "    </tr>\n",
       "    <tr>\n",
       "      <th>9</th>\n",
       "      <td>0.00000</td>\n",
       "      <td>147</td>\n",
       "    </tr>\n",
       "    <tr>\n",
       "      <th>10</th>\n",
       "      <td>126.30480</td>\n",
       "      <td>132</td>\n",
       "    </tr>\n",
       "    <tr>\n",
       "      <th>11</th>\n",
       "      <td>126.24912</td>\n",
       "      <td>105</td>\n",
       "    </tr>\n",
       "    <tr>\n",
       "      <th>12</th>\n",
       "      <td>126.24216</td>\n",
       "      <td>37</td>\n",
       "    </tr>\n",
       "    <tr>\n",
       "      <th>13</th>\n",
       "      <td>0.85344</td>\n",
       "      <td>17</td>\n",
       "    </tr>\n",
       "    <tr>\n",
       "      <th>14</th>\n",
       "      <td>125.45568</td>\n",
       "      <td>7</td>\n",
       "    </tr>\n",
       "    <tr>\n",
       "      <th>15</th>\n",
       "      <td>126.23520</td>\n",
       "      <td>3</td>\n",
       "    </tr>\n",
       "    <tr>\n",
       "      <th>16</th>\n",
       "      <td>436.52856</td>\n",
       "      <td>1</td>\n",
       "    </tr>\n",
       "    <tr>\n",
       "      <th>17</th>\n",
       "      <td>1089.26520</td>\n",
       "      <td>1</td>\n",
       "    </tr>\n",
       "    <tr>\n",
       "      <th>18</th>\n",
       "      <td>124.60224</td>\n",
       "      <td>1</td>\n",
       "    </tr>\n",
       "    <tr>\n",
       "      <th>19</th>\n",
       "      <td>1677.00960</td>\n",
       "      <td>1</td>\n",
       "    </tr>\n",
       "    <tr>\n",
       "      <th>20</th>\n",
       "      <td>1160.04408</td>\n",
       "      <td>1</td>\n",
       "    </tr>\n",
       "  </tbody>\n",
       "</table>\n",
       "</div>"
      ],
      "text/plain": [
       "    Duration(s)  Counts\n",
       "0    1706.88000    5770\n",
       "1     126.28392     461\n",
       "2     126.26304     450\n",
       "3     126.27696     379\n",
       "4     126.27000     361\n",
       "5     126.25608     314\n",
       "6     126.29088     258\n",
       "7     126.30912     204\n",
       "8     126.29784     167\n",
       "9       0.00000     147\n",
       "10    126.30480     132\n",
       "11    126.24912     105\n",
       "12    126.24216      37\n",
       "13      0.85344      17\n",
       "14    125.45568       7\n",
       "15    126.23520       3\n",
       "16    436.52856       1\n",
       "17   1089.26520       1\n",
       "18    124.60224       1\n",
       "19   1677.00960       1\n",
       "20   1160.04408       1"
      ]
     },
     "execution_count": 10,
     "metadata": {},
     "output_type": "execute_result"
    },
    {
     "data": {
      "image/png": "[encoded data removed]",
      "text/plain": [
       "<Figure size 640x480 with 1 Axes>"
      ]
     },
     "metadata": {},
     "output_type": "display_data"
    }
   ],
   "source": [
    "df_da=file_metadata['duration'].value_counts().reset_index()\n",
    "df_da.columns = ['Duration(s)', 'Counts']\n",
    "df_da['Duration(s)'].hist()\n",
    "df_da"
   ]
  },
  {
   "cell_type": "markdown",
   "metadata": {},
   "source": [
    "# Delete audio files based on criteria metadata"
   ]
  },
  {
   "cell_type": "markdown",
   "metadata": {},
   "source": [
    "The cells below allow you to delete some audio files that would not respect certain criteria. These files are stored in the list `list_files_to_be_deleted` and the last cell below can be used to operate the deletion directly from this notebook, but be carefull this operation is irreversible!\n",
    "\n",
    "Each deletion will generate automatically a text file in your current working directory containing the list of the deleted files so you can keep track of this operation.\n",
    "\n",
    "Note that each criterion is exclusive, meaning that they should be used independently from each other. \n",
    "\n",
    "Also note that the file `'file_metadata.csv'` and the pandas variable `file_metadata` is directly updated."
   ]
  },
  {
   "cell_type": "markdown",
   "metadata": {},
   "source": [
    "## Criterion 1 : files with non-readable headers"
   ]
  },
  {
   "cell_type": "code",
   "execution_count": 22,
   "metadata": {},
   "outputs": [
    {
     "name": "stdout",
     "output_type": "stream",
     "text": [
      "Number of files to be removed : 0\n"
     ]
    }
   ],
   "source": [
    "list_files_to_be_deleted = list(file_metadata[file_metadata['status_read_header'].values == False]['filename'])\n",
    "criterion = 1\n",
    "print(f'Number of files to be removed : {len(list_files_to_be_deleted)}')"
   ]
  },
  {
   "cell_type": "markdown",
   "metadata": {},
   "source": [
    "## Criterion 2 : files with duration under a certain value \n",
    "\n",
    "Change the value of `duration_value` (in seconds) below"
   ]
  },
  {
   "cell_type": "code",
   "execution_count": 26,
   "metadata": {},
   "outputs": [
    {
     "name": "stdout",
     "output_type": "stream",
     "text": [
      "Number of files to be removed : 0\n"
     ]
    }
   ],
   "source": [
    "duration_value = 60\n",
    "\n",
    "list_files_to_be_deleted = list(file_metadata[file_metadata['duration'].values < duration_value]['filename'])\n",
    "criterion = 2\n",
    "print(f'Number of files to be removed : {len(list_files_to_be_deleted)}')"
   ]
  },
  {
   "cell_type": "markdown",
   "metadata": {},
   "source": [
    "## Deletion code\n",
    "\n",
    "Used carefully ! There is a \"garde-fou\" variable `DO_operation` that should be set to True to use this code "
   ]
  },
  {
   "cell_type": "code",
   "execution_count": 37,
   "metadata": {},
   "outputs": [],
   "source": [
    "DO_operation = False\n",
    "\n",
    "for file_name in list_files_to_be_deleted:\n",
    "    try:\n",
    "        if DO_operation:\n",
    "            os.remove( path_audio + file_name)\n",
    "            file_metadata.drop(file_metadata.loc[file_metadata['filename']==file_name].index, inplace=True)\n",
    "            print(f'File {file_name} removed')\n",
    "    except: \n",
    "        print(f'File {file_name} could not be removed')   \n",
    "\n",
    "if DO_operation:\n",
    "    if criterion==2:\n",
    "        textp = f\"Following files were removed based on the duration criterion with a value of {duration_value} (in seconds) : \\n\\n\"\n",
    "        fn = 'deleted_files_criterion_duration.txt'\n",
    "    elif criterion==1:\n",
    "        textp = f\"Following files were removed based on the non-readable header criterion : \\n\\n\"\n",
    "        fn = 'deleted_files_criterion_nonreadable_header.txt'\n",
    "\n",
    "    with open(fn, 'w') as f:\n",
    "        if criterion==2:\n",
    "            f.write(textp)\n",
    "        elif criterion==1:\n",
    "            f.write(f\"Following files were removed based on the non-readable header criterion : \\n\\n\")\n",
    "        for line in list_files_to_be_deleted:\n",
    "            f.write(f\"{line}\\n\")"
   ]
  }
 ],
 "metadata": {
  "kernelspec": {
   "display_name": "Python [conda env:osmose]",
   "language": "python",
   "name": "conda-env-osmose-py"
  },
  "language_info": {
   "codemirror_mode": {
    "name": "ipython",
    "version": 3
   },
   "file_extension": ".py",
   "mimetype": "text/x-python",
   "name": "python",
   "nbconvert_exporter": "python",
   "pygments_lexer": "ipython3",
   "version": "3.10.13"
  },
  "vscode": {
   "interpreter": {
    "hash": "038fb172a99c9b7ee7474e984b9ff4962ea47b0ef555bcc216ed798a8387f59b"
   }
  }
 },
 "nbformat": 4,
 "nbformat_minor": 4
}
