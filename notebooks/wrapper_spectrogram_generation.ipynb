{
 "cells": [
  {
   "cell_type": "markdown",
   "metadata": {},
   "source": [
    "### This notebook follows the same steps than `spectrogram_generator` but for several datasets at once"
   ]
  },
  {
   "cell_type": "code",
   "execution_count": null,
   "metadata": {
    "ExecuteTime": {
     "end_time": "2024-04-09T13:36:51.846294Z",
     "start_time": "2024-04-09T13:36:51.832819Z"
    }
   },
   "outputs": [],
   "source": [
    "import sys\n",
    "import os\n",
    "import pickle\n",
    "import numpy as np\n",
    "import glob\n",
    "from tqdm import tqdm\n",
    "from pathlib import Path\n",
    "import pandas as pd\n",
    "import subprocess\n",
    "from OSmOSE import Spectrogram, Job_builder\n",
    "from OSmOSE.utils import *\n",
    "\n",
    "path_osmose_dataset = \"/home/datawork-osmose/dataset/\"\n",
    "path_osmose_home = \"/home/datawork-osmose/\"\n",
    "\n",
    "jb = Job_builder()\n",
    "\n",
    "display_folder_storage_infos(path_osmose_home)"
   ]
  },
  {
   "cell_type": "markdown",
   "metadata": {},
   "source": [
    "## List datasets\n",
    "\n",
    "Below you can list all the built datasets under a specific path. This path is composed of the 2 following arguments:\n",
    "\n",
    "`path_osmose`: location of all your datasets & campaigns\n",
    "\n",
    "`campaign_ID` : leave blank if you want to list the dataset directly under `path_osmose`, else the list of datasets provided will concern only the datasets under `path_osmose` \\ `campaign_ID`"
   ]
  },
  {
   "cell_type": "code",
   "execution_count": null,
   "metadata": {
    "ExecuteTime": {
     "end_time": "2024-04-09T13:36:56.319941Z",
     "start_time": "2024-04-09T13:36:56.277383Z"
    }
   },
   "outputs": [],
   "source": [
    "list_dataset(path_osmose_dataset, \"APOCADO\")"
   ]
  },
  {
   "cell_type": "markdown",
   "metadata": {},
   "source": [
    "### Summary\n",
    "\n",
    "**I. Select dataset** : choose your dataset to be processed and get key metadata on it\n",
    "\n",
    "**II. Configure spectrograms** : define all spectrogram parameters, and adjust them based on spectrograms computed on the fly\n",
    "\n",
    "**III. Generate spectrograms** : launch the complete generation of spectrograms"
   ]
  },
  {
   "cell_type": "markdown",
   "metadata": {
    "ExecuteTime": {
     "end_time": "2024-04-03T15:19:00.115184Z",
     "start_time": "2024-04-03T15:19:00.082218Z"
    }
   },
   "source": [
    "# I. Select dataset \n",
    "\n",
    "If your datasets are part of a recording campaign, please provide their names in the list `list_campaign_name`; in that case your dataset should be present in `{path_osmose_dataset}/{campaign_name}/{dataset_name}`. Otherwise set the default value to \"\"."
   ]
  },
  {
   "cell_type": "code",
   "execution_count": null,
   "metadata": {
    "ExecuteTime": {
     "end_time": "2024-04-09T08:57:02.136585Z",
     "start_time": "2024-04-09T08:57:02.131919Z"
    },
    "tags": []
   },
   "outputs": [],
   "source": [
    "list_dataset_name = [\n",
    "    \"APOCADO_C1D3_ST335556632\",\n",
    "    \"APOCADO_C8D1_ST7181\",\n",
    "    \"APOCADO_C8D1_ST7191\",\n",
    "    \"APOCADO_C8D2_ST7181\",\n",
    "    \"APOCADO_C8D2_ST7191\",\n",
    "    \"APOCADO_C8D3_ST7181\",\n",
    "    \"APOCADO_C8D3_ST7191\",\n",
    "    \"APOCADO_C8D4_ST7181\",\n",
    "    \"APOCADO_C8D4_ST7191\",\n",
    "    \"APOCADO_C8D5_ST7181\",\n",
    "    \"APOCADO_C8D5_ST7191\",\n",
    "    \"APOCADO_C8D6_ST7181\",\n",
    "    \"APOCADO_C8D6_ST7191\",\n",
    "    \"APOCADO_C8D7_ST7181\",\n",
    "    \"APOCADO_C8D7_ST7191\",\n",
    "    \"APOCADO_C8D8_ST7181\",\n",
    "    \"APOCADO_C8D8_ST7191\",\n",
    "    \"APOCADO_C8D9_ST7181\",\n",
    "    \"APOCADO_C8D9_ST7191\",\n",
    "    \"APOCADO_C8D10_ST7181\",\n",
    "    \"APOCADO_C8D10_ST7191\",\n",
    "    \"APOCADO_C8D11_ST7181\",\n",
    "    \"APOCADO_C8D11_ST7191\",\n",
    "    \"APOCADO_C8D12_ST7181\",\n",
    "    \"APOCADO_C8D12_ST7191\",\n",
    "    \"APOCADO_C8D13_ST7189\",\n",
    "    \"APOCADO_C8D13_ST7190\",\n",
    "    \"APOCADO_C8D14_ST7189\",\n",
    "    \"APOCADO_C8D14_ST7190\",\n",
    "    \"APOCADO_C8D15_ST7189\",\n",
    "    \"APOCADO_C8D15_ST7190\",\n",
    "    \"APOCADO_C9D1_ST7181\",\n",
    "    \"APOCADO_C9D2_ST7181\",\n",
    "    \"APOCADO_C9D3_ST7181\",\n",
    "    \"APOCADO_C9D4_ST7181\",\n",
    "    \"APOCADO_C9D5_ST7191\",\n",
    "    \"APOCADO_C9D6_ST7191\",\n",
    "    \"APOCADO_C9D7_ST7191\",\n",
    "    \"APOCADO_C9D8_ST7191\",\n",
    "    \"APOCADO_C10D1_ST7179\",\n",
    "    \"APOCADO_C10D2_ST7193\",\n",
    "    \"APOCADO_C10D3_ST7179\",\n",
    "    \"APOCADO_C10D4_ST7193\",\n",
    "    \"APOCADO_C10D5_ST7179\",\n",
    "    \"APOCADO_C10D6_ST7193\",\n",
    "    \"APOCADO_C10D7_ST7179\",\n",
    "    \"APOCADO_C10D9_ST7193\",\n",
    "]\n",
    "\n",
    "list_campaign_name = [\"APOCADO\"] * len(list_dataset_name)"
   ]
  },
  {
   "cell_type": "markdown",
   "metadata": {},
   "source": [
    "## Metadata of one dataset\n",
    "\n",
    "Here you can print several parameters from a single dataset"
   ]
  },
  {
   "cell_type": "code",
   "execution_count": null,
   "metadata": {
    "ExecuteTime": {
     "end_time": "2024-04-09T08:57:03.921626Z",
     "start_time": "2024-04-09T08:57:03.900315Z"
    }
   },
   "outputs": [],
   "source": [
    "i = -1\n",
    "\n",
    "dataset_name = list_dataset_name[i]\n",
    "campaign_name = list_campaign_name[i]\n",
    "\n",
    "dataset = Spectrogram(\n",
    "    dataset_path=Path(path_osmose_dataset, campaign_name, dataset_name),\n",
    "    owner_group=\"gosmose\",\n",
    "    local=False,\n",
    ")\n",
    "\n",
    "print(dataset)"
   ]
  },
  {
   "cell_type": "markdown",
   "metadata": {
    "ExecuteTime": {
     "end_time": "2024-04-03T15:23:42.698860Z",
     "start_time": "2024-04-03T15:23:42.694769Z"
    }
   },
   "source": [
    "## Configure spectrograms\n",
    "\n",
    "Set your spectrogram parameters, they will be the same for all your datasets.\n",
    "\n",
    "The two following parameters `spectro_duration` (in s) and `dataset_sr` (in Hz) will allow you to process your data using different file durations (ie segmentation) and/or sampling rate (ie resampling) parameters. `spectro_duration` is the maximal duration of the spectrogram display window.\n",
    "\n",
    "To process audio files from your original folder (ie without any segmentation and/or resampling operations), use the original audio file duration and sample rate parameters estimated at your dataset uploading (they are printed in the previous cell). \n",
    "\n",
    "Then, you can set the value of `zoom_levels`, which is the number of zoom levels you want (they are used in our web-based annotation tool APLOSE). With `zoom_levels = 0`, your shortest spectrogram display window has a duration of `spectro_duration` seconds (that is no zoom at all) ; with `zoom_levels = 1`, a duration of `spectro_duration`/2 seconds ; with `zoom_levels = 2`, a duration of `spectro_duration`/4 seconds ...\n",
    "\n",
    "After that, you can set the following classical spectrogram parameters : `nfft` (in samples), `winsize` (in samples), `overlap` (in \\%). **Note that with those parameters you set the resolution of your spectrogram display window with the smallest duration, obtained with the highest zoom level.**\n",
    "\n",
    "Finally:\n",
    "- `batch_number` indicates the number of concurrent jobs. A higher number can speed things up until a certain point. It still does not work very well.\n",
    "\n",
    "- The variable below `save_matrix` should be set to True if you want to generate the numpy matrices along your png spectrograms\n",
    "\n",
    "### /!\\ These parameters will be affected to all the selected datasets /!\\"
   ]
  },
  {
   "cell_type": "code",
   "execution_count": null,
   "metadata": {
    "ExecuteTime": {
     "end_time": "2024-04-09T08:57:06.349508Z",
     "start_time": "2024-04-09T08:57:06.346266Z"
    },
    "tags": []
   },
   "outputs": [],
   "source": [
    "spectro_duration = 10\n",
    "dataset_sr = 128000  # Hz\n",
    "\n",
    "zoom_levels = 0\n",
    "\n",
    "nfft = 1024  # samples\n",
    "window_size = 1024  # samples\n",
    "overlap = 20  # %\n",
    "\n",
    "batch_number = 30\n",
    "save_matrix = False\n",
    "force_init = True  # set this parameter to True to remove existing directories of spectrograms and associated audio files"
   ]
  },
  {
   "cell_type": "markdown",
   "metadata": {},
   "source": [
    "#### Amplitude normalization \n",
    "\n",
    "Eventually, we also propose you different modes of data/spectrogram normalization.\n",
    "\n",
    "Normalization over raw data samples with the variable `data_normalization` (default value `'none'`, i.e. no normalization) :\n",
    "- instrument-based normalization with the three parameters `sensitivity_dB` (in dB, default value = 0), `gain` (in dB, default value = 0) and `peak_voltage` (in V, default value = 1). Using default values, no normalization will be performed ;\n",
    "\n",
    "- z-score normalization over a given time period through the variable `zscore_duration`, applied directly on your raw timeseries. The possible values are:\n",
    "    - `zscore_duration = 'original'` : the audio file duration will be used as time period ;\n",
    "    - `zscore_duration = '10H'` : any time period put as a string using classical [time alias](https://pandas.pydata.org/pandas-docs/stable/user_guide/timeseries.html#timeseries-offset-aliases). This period should be higher than your file duration. \n",
    "\n",
    "Normalization over spectra with the variable `spectro_normalization` (default value `'density'`, see OSmOSEanalytics/documentation/theory_spectrogram.pdf for details) :\n",
    "- density-based normalization by setting `spectro_normalization = 'density'`\n",
    "- spectrum-based normalization by setting `spectro_normalization = 'spectrum'` \n",
    "\n",
    "In the cell below, you can also have access to the amplitude dynamics in dB throuh the parameters `dynamic_max` and `dynamic_min`, the colormap `spectro_colormap` to be used (see possible options in the [documentation](https://matplotlib.org/stable/tutorials/colors/colormaps.html)) and specify the frequency cut `HPfilter_freq_min` of a high-pass filter if needed."
   ]
  },
  {
   "cell_type": "code",
   "execution_count": null,
   "metadata": {
    "ExecuteTime": {
     "end_time": "2024-04-09T08:57:21.806691Z",
     "start_time": "2024-04-09T08:57:21.801995Z"
    }
   },
   "outputs": [],
   "source": [
    "list_sensitivity = [\n",
    "    -176.4,\n",
    "    -175.9,\n",
    "    -174.9,\n",
    "    -175.9,\n",
    "    -174.9,\n",
    "    -175.9,\n",
    "    -174.9,\n",
    "    -175.9,\n",
    "    -174.9,\n",
    "    -175.9,\n",
    "    -174.9,\n",
    "    -175.9,\n",
    "    -174.9,\n",
    "    -175.9,\n",
    "    -174.9,\n",
    "    -175.9,\n",
    "    -174.9,\n",
    "    -175.9,\n",
    "    -174.9,\n",
    "    -175.9,\n",
    "    -174.9,\n",
    "    -175.9,\n",
    "    -174.9,\n",
    "    -175.9,\n",
    "    -174.9,\n",
    "    -174.5,\n",
    "    -174.7,\n",
    "    -174.5,\n",
    "    -174.7,\n",
    "    -174.5,\n",
    "    -174.7,\n",
    "    -175.9,\n",
    "    -175.9,\n",
    "    -175.9,\n",
    "    -175.9,\n",
    "    -174.9,\n",
    "    -174.9,\n",
    "    -174.9,\n",
    "    -174.9,\n",
    "    -174.9,\n",
    "    -174.6,\n",
    "    -174.9,\n",
    "    -174.6,\n",
    "    -174.9,\n",
    "    -174.6,\n",
    "    -174.9,\n",
    "    -174.6,\n",
    "]\n",
    "\n",
    "list_gain_dB = [0] * len(list_sensitivity)  # parameter for 'instrument' mode\n",
    "list_peak_voltage = [2] * len(list_sensitivity)  # parameter for 'instrument' mode"
   ]
  },
  {
   "cell_type": "code",
   "execution_count": null,
   "metadata": {},
   "outputs": [],
   "source": [
    "data_normalization_param = \"instrument\"  # 'instrument' OR 'zscore' OR 'none'\n",
    "spectro_normalization_param = \"density\"  # 'density' OR 'spectrum'\n",
    "zscore_duration = \"\"  # parameter for 'zscore' mode, values = time alias OR 'original'\n",
    "dynamic_min = 0  # dB\n",
    "dynamic_max = 120  # dB\n",
    "colormap = \"viridis\"\n",
    "hp_filter_min_freq = 1  # Hz"
   ]
  },
  {
   "cell_type": "code",
   "execution_count": null,
   "metadata": {
    "ExecuteTime": {
     "end_time": "2024-04-09T09:02:56.705025Z",
     "start_time": "2024-04-09T08:57:27.916339Z"
    }
   },
   "outputs": [],
   "source": [
    "# JUST RUN THIS CELL : NOTHING TO FILL !\n",
    "\n",
    "for campaign_name, dataset_name, sensitivity, gain_dB, peak_voltage in zip(\n",
    "    list_campaign_name,\n",
    "    list_dataset_name,\n",
    "    list_sensitivity,\n",
    "    list_gain_dB,\n",
    "    list_peak_voltage,\n",
    "):\n",
    "\n",
    "    print(f\"\\n### {dataset_name}\")\n",
    "\n",
    "    dataset = Spectrogram(\n",
    "        dataset_path=Path(path_osmose_dataset, campaign_name, dataset_name),\n",
    "        owner_group=\"gosmose\",\n",
    "        local=False,\n",
    "    )\n",
    "\n",
    "    dataset.spectro_duration = spectro_duration\n",
    "    dataset.dataset_sr = dataset_sr\n",
    "    dataset.nfft = nfft\n",
    "    dataset.window_size = window_size\n",
    "    dataset.overlap = overlap\n",
    "    dataset.data_normalization = data_normalization_param\n",
    "    dataset.zscore_duration = zscore_duration\n",
    "    dataset.sensitivity = sensitivity\n",
    "    dataset.gain_dB = gain_dB\n",
    "    dataset.peak_voltage = peak_voltage\n",
    "    dataset.spectro_normalization = spectro_normalization_param\n",
    "    dataset.dynamic_max = dynamic_max\n",
    "    dataset.dynamic_min = dynamic_min\n",
    "    dataset.colormap = colormap\n",
    "    dataset.hp_filter_min_freq = hp_filter_min_freq\n",
    "    dataset.batch_number = batch_number\n",
    "\n",
    "    ## segmentation\n",
    "    dataset.initialize(\n",
    "        env_name=sys.executable.replace(\"/bin/python\", \"\"),\n",
    "        force_init=force_init,\n",
    "        last_file_behavior=\"discard\",\n",
    "    )\n",
    "\n",
    "    ## compute expected_nber_segmented_files\n",
    "    if (\n",
    "        dataset.spectro_duration\n",
    "        != pd.read_csv(\n",
    "            str(dataset._get_original_after_build()) + \"/metadata.csv\", header=0\n",
    "        )[\"audio_file_origin_duration\"][0]\n",
    "    ):\n",
    "        origin_file_metadata = pd.read_csv(\n",
    "            str(dataset._get_original_after_build()) + \"/file_metadata.csv\"\n",
    "        )\n",
    "        nber_files_to_process = 0\n",
    "        for dd in origin_file_metadata[\"duration\"].values:\n",
    "            nber_files_to_process += dd / (\n",
    "                dataset.spectro_duration - dataset.audio_file_overlap\n",
    "            )\n",
    "        nber_files_to_process = round(nber_files_to_process)\n",
    "    else:\n",
    "        nber_files_to_process = pd.read_csv(\n",
    "            str(dataset._get_original_after_build()) + \"/metadata.csv\", header=0\n",
    "        )[\"audio_file_count\"][0]\n",
    "\n",
    "    batch_size = nber_files_to_process // dataset.batch_number\n",
    "\n",
    "    dataset.save_spectro_metadata(False)\n",
    "\n",
    "    for batch in range(dataset.batch_number):\n",
    "        i_min = batch * batch_size\n",
    "        i_max = (\n",
    "            i_min + batch_size\n",
    "            if batch < dataset.batch_number - 1\n",
    "            else nber_files_to_process\n",
    "        )  # If it is the last batch, take all files\n",
    "\n",
    "        jobfile = jb.build_job_file(\n",
    "            script_path=Path(\n",
    "                os.path.abspath(\"../src\"), \"qsub_spectrogram_generator_pkg.py\"\n",
    "            ),\n",
    "            script_args=f\"--dataset-path {dataset.path}\\\n",
    "                    --dataset-sr {dataset.dataset_sr} \\\n",
    "                    --batch-ind-min {i_min}\\\n",
    "                    --batch-ind-max {i_max}\\\n",
    "                    {'--save-matrix' if save_matrix else ''}\",\n",
    "            jobname=\"OSmOSE_SpectroGenerator\",\n",
    "            preset=\"low\",\n",
    "            env_name=sys.executable.replace(\"/bin/python\", \"\"),\n",
    "            mem=\"70G\",\n",
    "            walltime=\"10:00:00\",\n",
    "            logdir=dataset.path.joinpath(\"log\"),\n",
    "        )\n",
    "\n",
    "    pending_jobs = [\n",
    "        jobid\n",
    "        for jobid in dataset.pending_jobs\n",
    "        if b\"finished\"\n",
    "        not in subprocess.run([\"qstat\", jobid], capture_output=True).stderr\n",
    "    ]\n",
    "    job_id_list = jb.submit_job(dependency=pending_jobs)  # submit all built job files\n",
    "    nb_jobs = len(jb.finished_jobs) + len(job_id_list)\n",
    "\n",
    "    print(f\"The job ids are {job_id_list}\")"
   ]
  }
 ],
 "metadata": {
  "kernelspec": {
   "display_name": "Python [conda env:osmose]",
   "language": "python",
   "name": "conda-env-osmose-py"
  },
  "language_info": {
   "codemirror_mode": {
    "name": "ipython",
    "version": 3
   },
   "file_extension": ".py",
   "mimetype": "text/x-python",
   "name": "python",
   "nbconvert_exporter": "python",
   "pygments_lexer": "ipython3",
   "version": "3.10.13"
  },
  "vscode": {
   "interpreter": {
    "hash": "038fb172a99c9b7ee7474e984b9ff4962ea47b0ef555bcc216ed798a8387f59b"
   }
  }
 },
 "nbformat": 4,
 "nbformat_minor": 4
}
