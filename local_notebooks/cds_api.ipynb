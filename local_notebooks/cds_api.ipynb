{
 "cells": [
  {
   "cell_type": "markdown",
   "metadata": {},
   "source": [
    "# CDS API | DOWNLOAD DATA"
   ]
  },
  {
   "cell_type": "code",
   "execution_count": 2,
   "metadata": {},
   "outputs": [],
   "source": [
    "from IPython.display import HTML\n",
    "from IPython.display import display\n",
    "import os \n",
    "import api_func\n",
    "import datetime\n",
    "import pandas as pd\n",
    "import numpy as np"
   ]
  },
  {
   "cell_type": "markdown",
   "metadata": {},
   "source": [
    "In order to download data using an API you first need a CDS login in order to get :\n",
    "<br>1) Your UDI\n",
    "<br>2) Your personal key\n",
    "<br>Both can be found using the following link : https://cds.climate.copernicus.eu/user/login\n",
    "<br>Enter/copy paste your UDI and your key in the cells below"
   ]
  },
  {
   "cell_type": "code",
   "execution_count": 3,
   "metadata": {},
   "outputs": [],
   "source": [
    "udi = '165042'\n",
    "key = '868fa005-b5dc-4471-a8c2-862ac1bdd509'\n",
    "\n",
    "api_func.make_cds_file(key, udi)"
   ]
  },
  {
   "cell_type": "markdown",
   "metadata": {},
   "source": [
    "#### Select the data you want to download from ERA5 using the API :\n",
    "\n",
    "<br> for instance :\n",
    "<br>- 10m_u_component_of_wind      (m/s)\n",
    "<br>- 10m_v_component_of_wind      (m/s)\n",
    "<br>- total_precipitation          (m)\n",
    "<br>- mean_wave_direction\n",
    "<br>- mean_wave_period\n",
    "<br>- sea_surface_temperature\n",
    "<br>\n",
    "<br> For more information or to download other data please visit : https://cds.climate.copernicus.eu/cdsapp#!/dataset/reanalysis-era5-single-levels?tab=overview"
   ]
  },
  {
   "cell_type": "code",
   "execution_count": 4,
   "metadata": {},
   "outputs": [],
   "source": [
    "# CHOOSE WHICH SINGLE LEVELS TO DOWNLOAD IN data\n",
    "data = ['mean_wave_direction', 'mean_wave_period', 'sea_surface_temperature'] #'10m_u_component_of_wind', '10m_v_component_of_wind', 'total_precipitation'\n",
    "\n",
    "\n",
    "# CHOOSE THE YEAR/MONTH/DAY AND HOURS THAT YOU WANT TO DOWNLOAD DATA FROM\n",
    "years = ['2014'] #'2010', '2011', '2012', '2013', '2014', '2015', '2016', '2017', '2018','2019',\n",
    "                #    '2020','2021','2022']\n",
    "\n",
    "months = ['04'] # '01','02','03','04','05','06','07','08','09','10','11','12']\n",
    "\n",
    "days = ['03','04'] #'01', '02', 03','04','05','06','07','08','09','10','11','12','13','14','15','16','17',\n",
    "                   #'18','19','20','21','22','23','24','25','26','27','28','29','30','31']\n",
    "\n",
    "hours = ['10:00'] #'00:00','01:00','02:00','03:00','04:00', '05:00','06:00','07:00','08:00',\n",
    "                     #'09:00','10:00','11:00','12:00','13:00','14:00','15:00','16:00','17:00','18:00','19:00',\n",
    "                     #'20:00','21:00','22:00','23:00']"
   ]
  },
  {
   "cell_type": "markdown",
   "metadata": {},
   "source": [
    "#### Select the area you want to download data from\n",
    "<br>\n",
    "<br> Values are in longitude/latitude borders\n",
    "<br>\n",
    "<br> For more information or to download other data please visit : https://cds.climate.copernicus.eu/cdsapp#!/dataset/reanalysis-era5-single-levels?tab=overview"
   ]
  },
  {
   "cell_type": "code",
   "execution_count": 5,
   "metadata": {},
   "outputs": [],
   "source": [
    "north_boundary = -65\n",
    "south_boundary = -75\n",
    "east_boundary = 60\n",
    "west_boundary = 65"
   ]
  },
  {
   "cell_type": "markdown",
   "metadata": {},
   "source": [
    "#### Please select file name \n",
    "\n",
    "Filename should not have any spaces in it.\n",
    "<br>\n",
    "Files will be downloaded in your home directory, in the subdirectory __api__"
   ]
  },
  {
   "cell_type": "code",
   "execution_count": 6,
   "metadata": {},
   "outputs": [],
   "source": [
    "filename = 'api_data'"
   ]
  },
  {
   "cell_type": "markdown",
   "metadata": {},
   "source": [
    "#### SUMMARY"
   ]
  },
  {
   "cell_type": "code",
   "execution_count": 7,
   "metadata": {},
   "outputs": [
    {
     "name": "stdout",
     "output_type": "stream",
     "text": [
      "You have selected : \n",
      "\n",
      "mean_wave_direction\n",
      "mean_wave_period\n",
      "sea_surface_temperature\n",
      "\n",
      "for the following times\n",
      "   year months days  hours\n",
      "0  2014     04   03  10:00\n",
      "1   NaN    NaN   04    NaN\n",
      "\n",
      "Your boundaries are : North -65, South -75, East 60, West 65\n"
     ]
    }
   ],
   "source": [
    "print('You have selected : \\n')\n",
    "sel = [print(data) for data in data]\n",
    "print('\\nfor the following times')\n",
    "print(pd.concat((pd.DataFrame(years), pd.DataFrame(months), pd.DataFrame(days), pd.DataFrame(hours)),\n",
    "                ignore_index=True, axis = 1).rename(columns={0:'year', 1:'months',2:'days',3:'hours'}))\n",
    "\n",
    "\n",
    "print('\\nYour boundaries are : North {}, South {}, East {}, West {}'.format(north_boundary, south_boundary,\n",
    "                                                                         east_boundary, west_boundary))"
   ]
  },
  {
   "cell_type": "code",
   "execution_count": 8,
   "metadata": {},
   "outputs": [
    {
     "name": "stderr",
     "output_type": "stream",
     "text": [
      "2022-12-06 11:57:37,273 INFO Welcome to the CDS\n",
      "2022-12-06 11:57:37,276 INFO Sending request to https://cds.climate.copernicus.eu/api/v2/resources/reanalysis-era5-single-levels\n",
      "2022-12-06 11:57:37,339 INFO Request is queued\n",
      "2022-12-06 11:57:38,437 INFO Request is running\n",
      "2022-12-06 11:57:42,272 INFO Request is completed\n",
      "2022-12-06 11:57:42,275 INFO Downloading https://download-0016.copernicus-climate.eu/cache-compute-0016/cache/data4/adaptor.mars.internal-1670324260.1595063-19011-7-d30cca1b-c991-4bfd-84ec-59e0a1d11d35.nc to api_data.nc (690K)\n",
      "2022-12-06 11:57:42,838 INFO Download rate 1.2M/s                               \n",
      "2022-12-06 11:57:42,840 INFO Downloading https://download-0016.copernicus-climate.eu/cache-compute-0016/cache/data4/adaptor.mars.internal-1670324260.1595063-19011-7-d30cca1b-c991-4bfd-84ec-59e0a1d11d35.nc to api_data.nc (690K)\n",
      "2022-12-06 11:57:43,175 INFO Download rate 2M/s                                 \n"
     ]
    },
    {
     "name": "stdout",
     "output_type": "stream",
     "text": [
      "\n",
      "[===>--------]\n",
      "\n",
      "\n",
      "[======>-----]\n",
      "\n",
      "\n",
      "[============]\n",
      "Done\n"
     ]
    }
   ],
   "source": [
    "df = api_func.final_creation(os.getcwd()+\"/\"+filename, filename, key, data, years, months, days, hours, [north_boundary, west_boundary, south_boundary, east_boundary])"
   ]
  },
  {
   "cell_type": "code",
   "execution_count": null,
   "metadata": {},
   "outputs": [],
   "source": []
  },
  {
   "cell_type": "code",
   "execution_count": null,
   "metadata": {},
   "outputs": [],
   "source": []
  }
 ],
 "metadata": {
  "celltoolbar": "Tags",
  "colab": {
   "collapsed_sections": [],
   "name": "auto_cdsapi.ipynb",
   "provenance": []
  },
  "kernelspec": {
   "display_name": "Python 3 (ipykernel)",
   "language": "python",
   "name": "python3"
  },
  "language_info": {
   "codemirror_mode": {
    "name": "ipython",
    "version": 3
   },
   "file_extension": ".py",
   "mimetype": "text/x-python",
   "name": "python",
   "nbconvert_exporter": "python",
   "pygments_lexer": "ipython3",
   "version": "3.10.6"
  }
 },
 "nbformat": 4,
 "nbformat_minor": 4
}
