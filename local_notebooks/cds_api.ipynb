{
  "cells": [
    {
      "cell_type": "markdown",
      "metadata": {
        "id": "EKLJTLUarn5C"
      },
      "source": [
        "# Download ERA5 data "
      ]
    },
    {
      "cell_type": "code",
      "execution_count": 55,
      "metadata": {
        "colab": {
          "base_uri": "https://localhost:8080/"
        },
        "id": "BfFsr-Kdrn5E",
        "outputId": "c74a2967-d177-4cea-fae8-f973a1a081b7"
      },
      "outputs": [
        {
          "output_type": "stream",
          "name": "stdout",
          "text": [
            "Mounted at /content/drive/\n",
            "Looking in indexes: https://pypi.org/simple, https://us-python.pkg.dev/colab-wheels/public/simple/\n",
            "Requirement already satisfied: cdsapi in /usr/local/lib/python3.9/dist-packages (0.6.1)\n",
            "Requirement already satisfied: requests>=2.5.0 in /usr/local/lib/python3.9/dist-packages (from cdsapi) (2.27.1)\n",
            "Requirement already satisfied: tqdm in /usr/local/lib/python3.9/dist-packages (from cdsapi) (4.65.0)\n",
            "Requirement already satisfied: idna<4,>=2.5 in /usr/local/lib/python3.9/dist-packages (from requests>=2.5.0->cdsapi) (3.4)\n",
            "Requirement already satisfied: urllib3<1.27,>=1.21.1 in /usr/local/lib/python3.9/dist-packages (from requests>=2.5.0->cdsapi) (1.26.15)\n",
            "Requirement already satisfied: charset-normalizer~=2.0.0 in /usr/local/lib/python3.9/dist-packages (from requests>=2.5.0->cdsapi) (2.0.12)\n",
            "Requirement already satisfied: certifi>=2017.4.17 in /usr/local/lib/python3.9/dist-packages (from requests>=2.5.0->cdsapi) (2022.12.7)\n",
            "Looking in indexes: https://pypi.org/simple, https://us-python.pkg.dev/colab-wheels/public/simple/\n",
            "Requirement already satisfied: netCDF4 in /usr/local/lib/python3.9/dist-packages (1.6.3)\n",
            "Requirement already satisfied: numpy in /usr/local/lib/python3.9/dist-packages (from netCDF4) (1.22.4)\n",
            "Requirement already satisfied: cftime in /usr/local/lib/python3.9/dist-packages (from netCDF4) (1.6.2)\n"
          ]
        }
      ],
      "source": [
        "import os\n",
        "from google.colab import drive\n",
        "\n",
        "drive.mount('/content/drive/', force_remount=True)\n",
        "\n",
        "# change path if necessary\n",
        "os.chdir(\"/content/drive/MyDrive/enseignement /UE_ML_2021_2022/TPac\")\n",
        "os.getcwd()\n",
        "\n",
        "from IPython.display import HTML\n",
        "from IPython.display import display\n",
        "import os \n",
        "!pip install cdsapi\n",
        "!pip install netCDF4\n",
        "import api_func\n",
        "import datetime\n",
        "import pandas as pd\n",
        "import numpy as np"
      ]
    },
    {
      "cell_type": "markdown",
      "metadata": {
        "id": "Xe3rurPLrn5H"
      },
      "source": [
        "## Pre-requirements\n"
      ]
    },
    {
      "cell_type": "markdown",
      "metadata": {
        "id": "TeZ1PcBYrn5K"
      },
      "source": [
        "In order to download ERA5 data using an API, you will have to get a UDI and a personal key. To get those, you will have to register to the Copernicus platform using the following link : https://cds.climate.copernicus.eu/user/login\n",
        "<br>Enter/copy paste your UDI and your key in the cells below"
      ]
    },
    {
      "cell_type": "code",
      "execution_count": 56,
      "metadata": {
        "id": "ZmcZ9o4Zrn5L"
      },
      "outputs": [],
      "source": [
        "udi = '165042'\n",
        "key = '868fa005-b5dc-4471-a8c2-862ac1bdd509'"
      ]
    },
    {
      "cell_type": "markdown",
      "metadata": {
        "id": "_ukskxJq9TH_"
      },
      "source": [
        "Below you can add a filename after your variable names (eg, `filename = 'ERA5'` will give you __u10_ERA5__).\n",
        "<br>\n",
        "By default, files will be downloaded in your home directory, in the subdirectory __api__ , but you can change it through the variable __path__ (otherwise let default value `path = 'None'`)."
      ]
    },
    {
      "cell_type": "code",
      "execution_count": 57,
      "metadata": {
        "id": "yfRYxbz9rn5J"
      },
      "outputs": [],
      "source": [
        "filename = 'ERA5'\n",
        "path = '/content/drive/MyDrive/enseignement /UE_ML_2021_2022/TPac' # None"
      ]
    },
    {
      "cell_type": "markdown",
      "metadata": {
        "id": "pazc3WSCrn5N"
      },
      "source": [
        "## Variable, time period and geographical location\n",
        "\n",
        "ERA5 provides hourly estimates for a large number of ocean-wave and atmospheric variables (see list [here](https://cds.climate.copernicus.eu/cdsapp#!/dataset/reanalysis-era5-single-levels?tab=overview)). Variable names must be formatted with lowercase first letters, and composed words spaced by underscores (eg, Sea surface temperature in `'sea_surface_temperature'`, 10m u-component of wind in `'10m_u_component_of_wind'`). Use the alias `'all'` to select all available months, days or hours, otherwise set one or several elements as a list (eg, `'days = ['01','02']'`)."
      ]
    },
    {
      "cell_type": "code",
      "execution_count": 58,
      "metadata": {
        "id": "qqBnRqMarn5N"
      },
      "outputs": [],
      "source": [
        "# CHOOSE WHICH SINGLE LEVELS TO DOWNLOAD IN data\n",
        "variables = ['10m_u_component_of_wind', '10m_v_component_of_wind', 'total_precipitation','mean_wave_direction','sea_surface_temperature'] \n",
        "\n",
        "years = ['2014'] \n",
        "\n",
        "months = ['01']\n",
        "#Or set one or several months as a list\n",
        "# ['01','02','03','04','05','06','07','08','09','10','11','12']\n",
        "\n",
        "days = ['01','02']\n",
        "#Or set one or several days as a list\n",
        "# ['01', '02', 03','04','05','06','07','08','09','10','11','12','13','14','15','16','17',\n",
        "                   #'18','19','20','21','22','23','24','25','26','27','28','29','30','31']\n",
        "\n",
        "hours = 'all'\n",
        "#Or set one or several hours as a list\n",
        "#['00:00','01:00','02:00','03:00','04:00', '05:00','06:00','07:00','08:00',\n",
        "                     #'09:00','10:00','11:00','12:00','13:00','14:00','15:00','16:00','17:00','18:00','19:00',\n",
        "                     #'20:00','21:00','22:00','23:00']\n",
        "\n",
        "# Boundaries of the geographical area in decimal degrees\n",
        "north_boundary = 10#90\n",
        "south_boundary = 10#-90\n",
        "east_boundary = -10#180\n",
        "west_boundary = -10#-180"
      ]
    },
    {
      "cell_type": "markdown",
      "metadata": {
        "id": "liGkTga7rn5R"
      },
      "source": [
        "## Print summary and run download"
      ]
    },
    {
      "cell_type": "code",
      "execution_count": 59,
      "metadata": {
        "colab": {
          "base_uri": "https://localhost:8080/"
        },
        "id": "YoILJSs4rn5S",
        "outputId": "f7d580df-07c2-4bd3-cbe4-a9ea1a4cfa47"
      },
      "outputs": [
        {
          "output_type": "stream",
          "name": "stdout",
          "text": [
            "You have selected : \n",
            "\n",
            "['10m_u_component_of_wind', '10m_v_component_of_wind', 'total_precipitation', 'mean_wave_direction', 'sea_surface_temperature']\n",
            "['10m_u_component_of_wind', '10m_v_component_of_wind', 'total_precipitation', 'mean_wave_direction', 'sea_surface_temperature']\n",
            "['10m_u_component_of_wind', '10m_v_component_of_wind', 'total_precipitation', 'mean_wave_direction', 'sea_surface_temperature']\n",
            "['10m_u_component_of_wind', '10m_v_component_of_wind', 'total_precipitation', 'mean_wave_direction', 'sea_surface_temperature']\n",
            "['10m_u_component_of_wind', '10m_v_component_of_wind', 'total_precipitation', 'mean_wave_direction', 'sea_surface_temperature']\n",
            "\n",
            "for the following times\n",
            "Years : ['2014'] \n",
            " Months : ['01'] \n",
            " Days : ['01', '02'] \n",
            " Hours : all\n",
            "\n",
            "Your boundaries are : North 10°, South 10°, East -10°, West -10°\n"
          ]
        }
      ],
      "source": [
        "api_func.make_cds_file(key, udi, path)\n",
        "\n",
        "print('You have selected : \\n')\n",
        "sel = [print(variables) for data in variables]\n",
        "print('\\nfor the following times')\n",
        "print(f'Years : {years} \\n Months : {months} \\n Days : {days} \\n Hours : {hours}')\n",
        "\n",
        "print('\\nYour boundaries are : North {}°, South {}°, East {}°, West {}°'.format(north_boundary, south_boundary,\n",
        "                                                                         east_boundary, west_boundary))"
      ]
    },
    {
      "cell_type": "code",
      "execution_count": 60,
      "metadata": {
        "colab": {
          "base_uri": "https://localhost:8080/"
        },
        "id": "6yKJs0r1rn5T",
        "outputId": "c9f1b69b-26ce-45df-8725-2b20dfec0f65"
      },
      "outputs": [
        {
          "output_type": "stream",
          "name": "stderr",
          "text": [
            "2023-03-18 09:13:26,387 INFO Welcome to the CDS\n",
            "INFO:cdsapi:Welcome to the CDS\n",
            "2023-03-18 09:13:26,390 INFO Sending request to https://cds.climate.copernicus.eu/api/v2/resources/reanalysis-era5-single-levels\n",
            "INFO:cdsapi:Sending request to https://cds.climate.copernicus.eu/api/v2/resources/reanalysis-era5-single-levels\n",
            "2023-03-18 09:13:26,567 INFO Request is queued\n",
            "INFO:cdsapi:Request is queued\n",
            "2023-03-18 09:21:47,345 INFO Request is completed\n",
            "INFO:cdsapi:Request is completed\n",
            "2023-03-18 09:21:47,349 INFO Downloading https://download-0008-clone.copernicus-climate.eu/cache-compute-0008/cache/data7/adaptor.mars.internal-1679131297.1187682-29153-3-a9e7a98f-5e50-4cfe-8af0-2407ad4c1d6c.nc to ERA5.nc (2.7K)\n",
            "INFO:cdsapi:Downloading https://download-0008-clone.copernicus-climate.eu/cache-compute-0008/cache/data7/adaptor.mars.internal-1679131297.1187682-29153-3-a9e7a98f-5e50-4cfe-8af0-2407ad4c1d6c.nc to ERA5.nc (2.7K)\n",
            "2023-03-18 09:21:48,984 INFO Download rate 1.6K/s\n",
            "INFO:cdsapi:Download rate 1.6K/s\n",
            "2023-03-18 09:21:48,991 INFO Downloading https://download-0008-clone.copernicus-climate.eu/cache-compute-0008/cache/data7/adaptor.mars.internal-1679131297.1187682-29153-3-a9e7a98f-5e50-4cfe-8af0-2407ad4c1d6c.nc to ERA5.nc (2.7K)\n",
            "INFO:cdsapi:Downloading https://download-0008-clone.copernicus-climate.eu/cache-compute-0008/cache/data7/adaptor.mars.internal-1679131297.1187682-29153-3-a9e7a98f-5e50-4cfe-8af0-2407ad4c1d6c.nc to ERA5.nc (2.7K)\n",
            "2023-03-18 09:21:49,129 INFO Download rate 19.8K/s\n",
            "INFO:cdsapi:Download rate 19.8K/s\n",
            " 99%|█████████▉| 99/100 [00:00<00:00, 1621.38it/s]\n"
          ]
        }
      ],
      "source": [
        "df = api_func.final_creation(os.getcwd()+\"/\"+filename, filename, key, variables, years, months, days, hours, [north_boundary, west_boundary, south_boundary, east_boundary])"
      ]
    },
    {
      "cell_type": "code",
      "source": [
        "## Code to plot 2D image of one variable (here mwd) :\n",
        "\n",
        "from mpl_toolkits.mplot3d import Axes3D\n",
        "import matplotlib.pyplot as plt\n",
        "import matplotlib.cm as cm\n",
        "import numpy as np\n",
        "import matplotlib.pyplot as plt\n",
        "import os\n",
        "import sys\n",
        "\n",
        "variable_name= 'u10'\n",
        "\n",
        "if not os.path.exists(os.path.join(path,'api',variable_name+'_'+filename+'.npy')):\n",
        "  print('no ERA data with this variable')\n",
        "  sys.exit()\n",
        "\n",
        "var1 = np.load(os.path.join(path,'api',variable_name+'_'+filename+'.npy'), allow_pickle=True)\n",
        "stamps = np.load(os.path.join(path,'api','stamps.npz'), allow_pickle=True)\n",
        "\n",
        "mat_lat, mat_lon = np.meshgrid(stamps['latitude'],stamps['longitude'])\n",
        "\n",
        "fig = plt.figure(figsize=(6,5))\n",
        "if var1.shape[1:]==(1,1):\n",
        "  plt.plot(stamps['timestamps'],var1[:,0,0])\n",
        "else:\n",
        "  plt.pcolormesh(mat_lon,mat_lat, var1[0,:,:].T, cmap=cm.jet)\n",
        "  plt.title('tp variable at time '+str(stamps['timestamps'][0]))\n",
        "  plt.colorbar()\n",
        "plt.show()"
      ],
      "metadata": {
        "colab": {
          "base_uri": "https://localhost:8080/",
          "height": 407
        },
        "id": "czlX019H5x-L",
        "outputId": "6faabe88-11f7-4e63-90e8-8327286f9e4f"
      },
      "execution_count": 61,
      "outputs": [
        {
          "output_type": "stream",
          "name": "stderr",
          "text": [
            "Exception ignored in: <function NpzFile.__del__ at 0x7f725dea0550>\n",
            "Traceback (most recent call last):\n",
            "  File \"/usr/local/lib/python3.9/dist-packages/numpy/lib/npyio.py\", line 213, in __del__\n",
            "  File \"/usr/local/lib/python3.9/dist-packages/numpy/lib/npyio.py\", line 208, in close\n",
            "OSError: [Errno 107] Transport endpoint is not connected\n"
          ]
        },
        {
          "output_type": "display_data",
          "data": {
            "text/plain": [
              "<Figure size 432x360 with 1 Axes>"
            ],
            "image/png": "[encoded data removed]"
          },
          "metadata": {
            "needs_background": "light"
          }
        }
      ]
    }
  ],
  "metadata": {
    "celltoolbar": "Tags",
    "colab": {
      "provenance": []
    },
    "kernelspec": {
      "display_name": "meteoses",
      "language": "python",
      "name": "myenv"
    },
    "language_info": {
      "codemirror_mode": {
        "name": "ipython",
        "version": 3
      },
      "file_extension": ".py",
      "mimetype": "text/x-python",
      "name": "python",
      "nbconvert_exporter": "python",
      "pygments_lexer": "ipython3",
      "version": "3.10.8"
    }
  },
  "nbformat": 4,
  "nbformat_minor": 0
}