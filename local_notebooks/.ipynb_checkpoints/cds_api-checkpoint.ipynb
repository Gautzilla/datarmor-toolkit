{
 "cells": [
  {
   "cell_type": "markdown",
   "metadata": {},
   "source": [
    "# CDS API | DOWNLOAD DATA"
   ]
  },
  {
   "cell_type": "code",
   "execution_count": 1,
   "metadata": {},
   "outputs": [],
   "source": [
    "from IPython.display import HTML\n",
    "from IPython.display import display\n",
    "import os \n",
    "import api_func\n",
    "import datetime\n",
    "import pandas as pd\n",
    "import numpy as np"
   ]
  },
  {
   "cell_type": "markdown",
   "metadata": {},
   "source": [
    "#### Please select the filename you want to give the CDS download\n",
    "\n",
    "Filename should not have any spaces in it.\n",
    "<br>\n",
    "By default, files will be downloaded in your home directory, in the subdirectory __api__\n",
    "<br>\n",
    "You can change path down below, make sure to end path string with a slash.\n",
    "<br> \n",
    "Otherwise leave __None__"
   ]
  },
  {
   "cell_type": "code",
   "execution_count": 26,
   "metadata": {},
   "outputs": [],
   "source": [
    "filename = 'api_data'\n",
    "path = None"
   ]
  },
  {
   "cell_type": "markdown",
   "metadata": {},
   "source": [
    "In order to download data using an API you first need a CDS login in order to get :\n",
    "<br>1) Your UDI\n",
    "<br>2) Your personal key\n",
    "<br>Both can be found using the following link : https://cds.climate.copernicus.eu/user/login\n",
    "<br>Enter/copy paste your UDI and your key in the cells below"
   ]
  },
  {
   "cell_type": "code",
   "execution_count": 27,
   "metadata": {},
   "outputs": [],
   "source": [
    "udi = '165042'\n",
    "key = '868fa005-b5dc-4471-a8c2-862ac1bdd509'\n",
    "\n",
    "api_func.make_cds_file(key, udi, path)"
   ]
  },
  {
   "cell_type": "markdown",
   "metadata": {},
   "source": [
    "#### Select the data you want to download from ERA5 using the API :\n",
    "\n",
    "<br> for instance :\n",
    "<br>- 10m_u_component_of_wind      (m/s)\n",
    "<br>- 10m_v_component_of_wind      (m/s)\n",
    "<br>- total_precipitation          (m)\n",
    "<br>- mean_wave_direction\n",
    "<br>- mean_wave_period\n",
    "<br>- sea_surface_temperature\n",
    "<br>\n",
    "<br> For more information or to download other data please visit : https://cds.climate.copernicus.eu/cdsapp#!/dataset/reanalysis-era5-single-levels?tab=overview"
   ]
  },
  {
   "cell_type": "code",
   "execution_count": 28,
   "metadata": {},
   "outputs": [],
   "source": [
    "# CHOOSE WHICH SINGLE LEVELS TO DOWNLOAD IN data\n",
    "data = ['mean_wave_direction'] #'10m_u_component_of_wind', '10m_v_component_of_wind', 'total_precipitation'\n",
    "\n",
    "\n",
    "# CHOOSE THE YEAR/MONTH/DAY AND HOURS THAT YOU WANT TO DOWNLOAD DATA FROM\n",
    "years = ['2014'] #'2010', '2011', '2012', '2013', '2014', '2015', '2016', '2017', '2018','2019',\n",
    "                #    '2020','2021','2022']\n",
    "\n",
    "months = 'all' \n",
    "#Or choose months in the format below as a list\n",
    "# ['01','02','03','04','05','06','07','08','09','10','11','12']\n",
    "\n",
    "days = ['01']\n",
    "#Or choose days in the format below as a list\n",
    "# ['01', '02', 03','04','05','06','07','08','09','10','11','12','13','14','15','16','17',\n",
    "                   #'18','19','20','21','22','23','24','25','26','27','28','29','30','31']\n",
    "\n",
    "hours = ['01']\n",
    "#['00:00','01:00','02:00','03:00','04:00', '05:00','06:00','07:00','08:00',\n",
    "                     #'09:00','10:00','11:00','12:00','13:00','14:00','15:00','16:00','17:00','18:00','19:00',\n",
    "                     #'20:00','21:00','22:00','23:00']"
   ]
  },
  {
   "cell_type": "markdown",
   "metadata": {},
   "source": [
    "#### Select the area you want to download data from\n",
    "<br>\n",
    "<br> Values are in longitude/latitude borders\n",
    "<br>\n",
    "<br> For more information or to download other data please visit : https://cds.climate.copernicus.eu/cdsapp#!/dataset/reanalysis-era5-single-levels?tab=overview"
   ]
  },
  {
   "cell_type": "code",
   "execution_count": 29,
   "metadata": {},
   "outputs": [],
   "source": [
    "north_boundary = -65\n",
    "south_boundary = -75\n",
    "east_boundary = 60\n",
    "west_boundary = 65"
   ]
  },
  {
   "cell_type": "markdown",
   "metadata": {},
   "source": [
    "#### SUMMARY"
   ]
  },
  {
   "cell_type": "code",
   "execution_count": 30,
   "metadata": {},
   "outputs": [
    {
     "name": "stdout",
     "output_type": "stream",
     "text": [
      "You have selected : \n",
      "\n",
      "mean_wave_direction\n",
      "\n",
      "for the following times\n",
      "Years : ['2014'] \n",
      " Months : all \n",
      " Days : ['01'] \n",
      " Hours : ['01']\n",
      "\n",
      "Your boundaries are : North -65°, South -75°, East 60°, West 65°\n"
     ]
    }
   ],
   "source": [
    "print('You have selected : \\n')\n",
    "sel = [print(data) for data in data]\n",
    "print('\\nfor the following times')\n",
    "print(f'Years : {years} \\n Months : {months} \\n Days : {days} \\n Hours : {hours}')\n",
    "\n",
    "print('\\nYour boundaries are : North {}°, South {}°, East {}°, West {}°'.format(north_boundary, south_boundary,\n",
    "                                                                         east_boundary, west_boundary))"
   ]
  },
  {
   "cell_type": "code",
   "execution_count": 31,
   "metadata": {},
   "outputs": [
    {
     "name": "stderr",
     "output_type": "stream",
     "text": [
      "2023-03-16 17:32:36,818 INFO Welcome to the CDS\n",
      "2023-03-16 17:32:36,820 INFO Sending request to https://cds.climate.copernicus.eu/api/v2/resources/reanalysis-era5-single-levels\n",
      "2023-03-16 17:32:36,919 INFO Request is completed\n",
      "2023-03-16 17:32:36,921 INFO Downloading https://download-0010-clone.copernicus-climate.eu/cache-compute-0010/cache/data5/adaptor.mars.internal-1678984256.7824547-9398-18-9a904cc3-ed67-4041-9d25-d314d59c5413.nc to api_data.nc (1.3M)\n",
      "2023-03-16 17:32:37,430 INFO Download rate 2.6M/s                                                                                                                                                          \n",
      "2023-03-16 17:32:37,432 INFO Downloading https://download-0010-clone.copernicus-climate.eu/cache-compute-0010/cache/data5/adaptor.mars.internal-1678984256.7824547-9398-18-9a904cc3-ed67-4041-9d25-d314d59c5413.nc to api_data.nc (1.3M)\n",
      "2023-03-16 17:32:37,823 INFO Download rate 3.4M/s                                                                                                                                                          \n",
      " 99%|███████████████████████████████████████████████████████████████████████████████████████████████████████████████████████████████████████████████████████████████████▎ | 99/100 [00:06<00:00, 14.89it/s]\n"
     ]
    }
   ],
   "source": [
    "df = api_func.final_creation(os.getcwd()+\"/\"+filename, filename, key, data, years, months, days, hours, [north_boundary, west_boundary, south_boundary, east_boundary])"
   ]
  },
  {
   "cell_type": "code",
   "execution_count": null,
   "metadata": {},
   "outputs": [],
   "source": []
  },
  {
   "cell_type": "code",
   "execution_count": null,
   "metadata": {},
   "outputs": [],
   "source": []
  }
 ],
 "metadata": {
  "celltoolbar": "Tags",
  "colab": {
   "collapsed_sections": [],
   "name": "auto_cdsapi.ipynb",
   "provenance": []
  },
  "kernelspec": {
   "display_name": "meteoses",
   "language": "python",
   "name": "myenv"
  },
  "language_info": {
   "codemirror_mode": {
    "name": "ipython",
    "version": 3
   },
   "file_extension": ".py",
   "mimetype": "text/x-python",
   "name": "python",
   "nbconvert_exporter": "python",
   "pygments_lexer": "ipython3",
   "version": "3.10.8"
  }
 },
 "nbformat": 4,
 "nbformat_minor": 4
}
