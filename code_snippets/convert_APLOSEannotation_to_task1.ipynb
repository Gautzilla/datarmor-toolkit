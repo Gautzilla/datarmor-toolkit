{
 "cells": [
  {
   "cell_type": "markdown",
   "metadata": {},
   "source": [
    "# Below you can convert a APLOSE annotation file (csv) into the annotation reference file for task 1 (csv)"
   ]
  },
  {
   "cell_type": "code",
   "execution_count": null,
   "metadata": {},
   "outputs": [],
   "source": [
    "import pandas as pd\n",
    "import numpy as np\n",
    "from glob import glob\n",
    "import os\n",
    "\n",
    "df=pd.read_csv('Campagne_Astrolabe_Expeditions_2022_SPMAuralA2011.csv')\n",
    "\n",
    "complete_filename_list = glob('/home/datawork-osmose/dataset/SPMAuralA_2011_SelectionPourAnnotations2/raw/audio/10_32768/*wav')\n",
    "\n",
    "filename_annotation_presence = np.unique(df[(df['annotator']=='jbeesa') & ((df['annotation']=='Odontocete whistles') | (df['annotation']=='Sperm whale clics')| (df['annotation']=='Odontocete clics')| (df['annotation']=='Odontocete Buzzs')| (df['annotation']=='Mysticetes Vocalises'))]['filename'])\n",
    "\n",
    "label = []\n",
    "for ff in complete_filename_list:\n",
    "    \n",
    "    if os.path.basename(ff) in filename_annotation_presence:        \n",
    "        label.append(1)\n",
    "    else:\n",
    "        label.append(0)\n",
    "        \n",
    "df = pd.DataFrame({'filename':complete_filename_list,'label' : label})\n",
    "df.sort_values(by=['filename'], inplace=True)                   \n",
    "df.to_csv('/home/datawork-osmose/dataset/SPMAuralA_2011_SelectionPourAnnotations2/results/annotations/task1_annotationAstrolabeJulie.csv', index=False,na_rep='NaN')"
   ]
  }
 ],
 "metadata": {
  "kernelspec": {
   "display_name": "Python [conda env:allohaEnv]",
   "language": "python",
   "name": "conda-env-allohaEnv-py"
  },
  "language_info": {
   "codemirror_mode": {
    "name": "ipython",
    "version": 3
   },
   "file_extension": ".py",
   "mimetype": "text/x-python",
   "name": "python",
   "nbconvert_exporter": "python",
   "pygments_lexer": "ipython3",
   "version": "3.6.10"
  }
 },
 "nbformat": 4,
 "nbformat_minor": 4
}
