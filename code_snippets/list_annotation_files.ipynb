{
 "cells": [
  {
   "cell_type": "code",
   "execution_count": 1,
   "metadata": {},
   "outputs": [
    {
     "name": "stderr",
     "output_type": "stream",
     "text": [
      "/appli/conda-env/3.6/allohaEnv/lib/python3.6/site-packages/ipykernel/__main__.py:28: ParserWarning: Falling back to the 'python' engine because the 'c' engine does not support regex separators (separators > 1 char and different from '\\s+' are interpreted as regex); you can avoid this warning by specifying engine='python'.\n"
     ]
    },
    {
     "name": "stdout",
     "output_type": "stream",
     "text": [
      "%%%%%%%%%  SPMAuralA_2010  %%%%%%%%%\n",
      "file not formatted: AURALB2010.csv\n",
      "\n",
      "\n",
      "%%%%%%%%%  gliderSPAms  %%%%%%%%%\n",
      "presence/absence per wav\n",
      "\n",
      "\n",
      "%%%%%%%%%  gliderSPAms  %%%%%%%%%\n",
      "event timestamps\n",
      "\n",
      "\n",
      "%%%%%%%%%  gliderSPAms  %%%%%%%%%\n",
      "presence/absence per wav\n",
      "\n",
      "\n",
      "%%%%%%%%%  gliderSPAms  %%%%%%%%%\n",
      "presence/absence per wav\n",
      "\n",
      "\n",
      "%%%%%%%%%  fromveur256000  %%%%%%%%%\n",
      "file not formatted: gt_PNMI_Fromveur_presence.csv\n",
      "\n",
      "\n",
      "%%%%%%%%%  SPMAuralA_2011_SelectionPourAnnotations2  %%%%%%%%%\n",
      "file not formatted: task1_annotationAstrolabeJulie.csv\n",
      "\n",
      "\n"
     ]
    }
   ],
   "source": [
    "import os\n",
    "import wave\n",
    "import datetime\n",
    "from datetime import timedelta\n",
    "import csv\n",
    "import numpy as np\n",
    "from tqdm import tqdm\n",
    "import time\n",
    "import pandas as pd\n",
    "import glob\n",
    "\n",
    "import json\n",
    "from mpl_toolkits.basemap import Basemap\n",
    "import matplotlib.pyplot as plt\n",
    "\n",
    "\n",
    "path_dataset_base = \"/home/datawork-osmose/dataset/\"\n",
    "\n",
    "l_ds = os.listdir(path_dataset_base)\n",
    "    \n",
    "for ds in l_ds:\n",
    "\n",
    "    for gg in glob.glob( os.path.join(path_dataset_base,ds , 'results','annotations','*csv') ):\n",
    "        \n",
    "        try:\n",
    "            rr = pd.read_csv(gg)#, sep='delimiter')\n",
    "        except:\n",
    "            rr = pd.read_csv(gg, sep='delimiter')\n",
    "        \n",
    "        if 'start_frequency' in rr.columns:\n",
    "        \n",
    "            if sum(np.isnan(rr['start_frequency'].values))>5:\n",
    "\n",
    "                print('%%%%%%%%% ',ds,' %%%%%%%%%')\n",
    "                print('presence/absence per wav')\n",
    "                print('\\n')\n",
    "\n",
    "            else:\n",
    "\n",
    "                print('%%%%%%%%% ',ds,' %%%%%%%%%')\n",
    "                print('event timestamps')\n",
    "                print('\\n')\n",
    "                \n",
    "        else:\n",
    "            \n",
    "                print('%%%%%%%%% ',ds,' %%%%%%%%%')\n",
    "                print('file not formatted:',os.path.basename(gg))\n",
    "                print('\\n')"
   ]
  }
 ],
 "metadata": {
  "kernelspec": {
   "display_name": "Python [conda env:allohaEnv]",
   "language": "python",
   "name": "conda-env-allohaEnv-py"
  },
  "language_info": {
   "codemirror_mode": {
    "name": "ipython",
    "version": 3
   },
   "file_extension": ".py",
   "mimetype": "text/x-python",
   "name": "python",
   "nbconvert_exporter": "python",
   "pygments_lexer": "ipython3",
   "version": "3.6.10"
  }
 },
 "nbformat": 4,
 "nbformat_minor": 2
}
