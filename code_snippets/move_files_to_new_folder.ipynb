{
 "cells": [
  {
   "cell_type": "markdown",
   "metadata": {},
   "source": [
    "Use this script to move audio files from one folder to another. \n",
    "This could be usefull for example if your audio data are stored in a new folder \n",
    "for each recording day (such as what is done with the Sylence LP from RTSys), \n",
    "and that you want to format it for storing in DATARMOR (ie all audio files in on folder)\n",
    "@author: torterma\n",
    "\n",
    "\n"
   ]
  },
  {
   "cell_type": "code",
   "execution_count": null,
   "metadata": {},
   "outputs": [],
   "source": [
    "import os\n",
    "\n",
    "\n",
    "rootdir = 'L:/acoustock/Bioacoustique/DATASETS/CETIROISE/DATA/A_Nord Fosse Ouessant/Phase_1/Sylence/'\n",
    "dest = 'L:/acoustock/Bioacoustique/DATASETS/CETIROISE/DATA/A_Nord Fosse Ouessant/Phase_1/Sylence/'\n",
    "\n",
    "\n",
    "for subdir, dirs, files in os.walk(rootdir):\n",
    "    for file in files:\n",
    "        filepath = subdir + os.sep + file\n",
    "        if filepath.endswith(\".wav\"):\n",
    "            print (filepath)\n",
    "            print(filepath, dest+os.path.basename(filepath))\n",
    "            # simply by renaming the file you can move it to a different folder based on `dest` name\n",
    "            #os.rename(filepath, dest+os.path.basename(filepath))"
   ]
  }
 ],
 "metadata": {
  "kernelspec": {
   "display_name": "Python 3",
   "language": "python",
   "name": "python3"
  },
  "language_info": {
   "codemirror_mode": {
    "name": "ipython",
    "version": 3
   },
   "file_extension": ".py",
   "mimetype": "text/x-python",
   "name": "python",
   "nbconvert_exporter": "python",
   "pygments_lexer": "ipython3",
   "version": "3.8.3"
  }
 },
 "nbformat": 4,
 "nbformat_minor": 4
}
