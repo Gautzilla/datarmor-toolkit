{
 "cells": [
  {
   "cell_type": "code",
   "execution_count": 1,
   "metadata": {},
   "outputs": [],
   "source": [
    "your_dataset_name = 'MPSU_ForestouHuella' # start by filling your_dataset_name"
   ]
  },
  {
   "cell_type": "markdown",
   "metadata": {},
   "source": [
    "In this remaining code you should look at the format of your timestamp and adapt the code accordingly. If your timestamp does not fit a format provided in strptime then you will have to work it around using for example split functions.."
   ]
  },
  {
   "cell_type": "code",
   "execution_count": 2,
   "metadata": {},
   "outputs": [
    {
     "name": "stderr",
     "output_type": "stream",
     "text": [
      "100%|██████████| 20000/20000 [00:00<00:00, 51012.25it/s]\n"
     ]
    }
   ],
   "source": [
    "import numpy as np\n",
    "import glob\n",
    "import pandas as pd\n",
    "import os\n",
    "import re\n",
    "import datetime\n",
    "from tqdm import tqdm\n",
    "\n",
    "path_osmose_dataset = '/home/datawork-osmose/dataset/'\n",
    "\n",
    "path_raw_audio = os.path.join(path_osmose_dataset, your_dataset_name,'raw/audio/original')\n",
    "\n",
    "# get the list of your wav files\n",
    "list_wav_file = sorted([file for file in glob.glob(os.path.join(path_raw_audio, '*.wav'))])\n",
    "\n",
    "timestamp=[]\n",
    "filename_rawaudio=[]\n",
    "for name_file in tqdm(list_wav_file):\n",
    "    \n",
    "    dateds = os.path.basename(name_file)[:-4]\n",
    "        \n",
    "#     bb = nn.split('_')\n",
    "#     dateds = bb[-3]+'_'+bb[-2]\n",
    "        \n",
    "    date_obj = datetime.datetime.strptime(dateds, '%Y%m%d_%H%M%S')        \n",
    "    dates = datetime.datetime.strftime(date_obj, '%Y-%m-%dT%H:%M:%S.%f')\n",
    "\n",
    "    dates_final = dates[:-3] + 'Z'\n",
    "    timestamp.append(dates_final)\n",
    "    \n",
    "    filename_rawaudio.append(os.path.basename(name_file))    \n",
    "    \n",
    "df = pd.DataFrame({'filename':filename_rawaudio,'timestamp':timestamp})\n",
    "df.sort_values(by=['timestamp'], inplace=True)\n",
    "df.to_csv(os.path.join(path_raw_audio,'timestamp.csv'), index=False,na_rep='NaN',header=None)"
   ]
  }
 ],
 "metadata": {
  "kernelspec": {
   "display_name": "Python [conda env:allohaEnv]",
   "language": "python",
   "name": "conda-env-allohaEnv-py"
  },
  "language_info": {
   "codemirror_mode": {
    "name": "ipython",
    "version": 3
   },
   "file_extension": ".py",
   "mimetype": "text/x-python",
   "name": "python",
   "nbconvert_exporter": "python",
   "pygments_lexer": "ipython3",
   "version": "3.6.10"
  }
 },
 "nbformat": 4,
 "nbformat_minor": 2
}
